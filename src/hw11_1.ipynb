{
  "nbformat": 4,
  "nbformat_minor": 0,
  "metadata": {
    "colab": {
      "name": "hw11_1.ipynb",
      "version": "0.3.2",
      "provenance": [],
      "include_colab_link": true
    },
    "kernelspec": {
      "name": "python3",
      "display_name": "Python 3"
    }
  },
  "cells": [
    {
      "cell_type": "markdown",
      "metadata": {
        "id": "view-in-github",
        "colab_type": "text"
      },
      "source": [
        "<a href=\"https://colab.research.google.com/github/ZhyShe/18ma573ZhiyuanShe/blob/master/src/hw11_1.ipynb\" target=\"_parent\"><img src=\"https://colab.research.google.com/assets/colab-badge.svg\" alt=\"Open In Colab\"/></a>"
      ]
    },
    {
      "metadata": {
        "id": "omkMTVgQQAq_",
        "colab_type": "code",
        "colab": {}
      },
      "cell_type": "code",
      "source": [
        "import numpy as np\n",
        "\n",
        "otype=1\n",
        "K=100\n",
        "sigma=0.2\n",
        "S_0=100\n",
        "r=0.05\n",
        "T=1\n",
        "N=2000\n",
        "dt=T/N\n",
        "dx=sigma*np.sqrt(dt)\n",
        "r_hat=r-0.5*sigma**2\n",
        "p=(1+r_hat*np.sqrt(dt))/(2*sigma)"
      ],
      "execution_count": 0,
      "outputs": []
    },
    {
      "metadata": {
        "id": "jnmbd0EEQqzu",
        "colab_type": "code",
        "colab": {}
      },
      "cell_type": "code",
      "source": [
        "X_0=np.log(S_0)\n",
        "u=np.exp(dx)\n",
        "d=np.exp(-dx)\n",
        "V=np.zeros(N+1)\n",
        "V[0]=max(S[0]-k,0)\n",
        "V[1]=(p*max(S[0]*u-K,0)+(1-p)*max(s[0]*d-K,0))*np.exp(-dt)\n",
        "for i in range(2,N+1):\n",
        "  V[i]=(1/p)*V[i-1]-((1-p)/p)*V[i-2]"
      ],
      "execution_count": 0,
      "outputs": []
    },
    {
      "metadata": {
        "id": "5qlTozgER1oB",
        "colab_type": "code",
        "colab": {
          "base_uri": "https://localhost:8080/",
          "height": 51
        },
        "outputId": "38c01f2c-d9ca-4cff-c858-9fd3743f6546"
      },
      "cell_type": "code",
      "source": [
        "U"
      ],
      "execution_count": 11,
      "outputs": [
        {
          "output_type": "execute_result",
          "data": {
            "text/plain": [
              "array([[nan, nan],\n",
              "       [nan, nan]])"
            ]
          },
          "metadata": {
            "tags": []
          },
          "execution_count": 11
        }
      ]
    },
    {
      "metadata": {
        "id": "ZyzyLUReR3t3",
        "colab_type": "code",
        "colab": {}
      },
      "cell_type": "code",
      "source": [
        ""
      ],
      "execution_count": 0,
      "outputs": []
    }
  ]
}