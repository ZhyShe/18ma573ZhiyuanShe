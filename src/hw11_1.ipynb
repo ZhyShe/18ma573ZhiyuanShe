{
  "nbformat": 4,
  "nbformat_minor": 0,
  "metadata": {
    "colab": {
      "name": "hw11_1.ipynb",
      "version": "0.3.2",
      "provenance": [],
      "include_colab_link": true
    },
    "kernelspec": {
      "name": "python3",
      "display_name": "Python 3"
    }
  },
  "cells": [
    {
      "cell_type": "markdown",
      "metadata": {
        "id": "view-in-github",
        "colab_type": "text"
      },
      "source": [
        "<a href=\"https://colab.research.google.com/github/ZhyShe/18ma573ZhiyuanShe/blob/master/src/hw11_1.ipynb\" target=\"_parent\"><img src=\"https://colab.research.google.com/assets/colab-badge.svg\" alt=\"Open In Colab\"/></a>"
      ]
    },
    {
      "metadata": {
        "id": "bdgquBbCioR3",
        "colab_type": "code",
        "outputId": "5c1352ec-ec4d-413d-d3aa-ddbd7edcbd7c",
        "colab": {
          "base_uri": "https://localhost:8080/",
          "height": 136
        }
      },
      "cell_type": "code",
      "source": [
        "!git clone https://github.com/ZhyShe/18ma573ZhiyuanShe"
      ],
      "execution_count": 1,
      "outputs": [
        {
          "output_type": "stream",
          "text": [
            "Cloning into '18ma573ZhiyuanShe'...\n",
            "remote: Enumerating objects: 139, done.\u001b[K\n",
            "remote: Counting objects: 100% (139/139), done.\u001b[K\n",
            "remote: Compressing objects: 100% (139/139), done.\u001b[K\n",
            "remote: Total 492 (delta 49), reused 0 (delta 0), pack-reused 353\u001b[K\n",
            "Receiving objects: 100% (492/492), 1.73 MiB | 5.42 MiB/s, done.\n",
            "Resolving deltas: 100% (178/178), done.\n"
          ],
          "name": "stdout"
        }
      ]
    },
    {
      "metadata": {
        "id": "tU6okHHKi95k",
        "colab_type": "code",
        "outputId": "1f8473b1-97b4-4e17-b378-367d778482e4",
        "colab": {
          "base_uri": "https://localhost:8080/",
          "height": 34
        }
      },
      "cell_type": "code",
      "source": [
        "cd/content/18ma573ZhiyuanShe/src"
      ],
      "execution_count": 2,
      "outputs": [
        {
          "output_type": "stream",
          "text": [
            "/content/18ma573ZhiyuanShe/src\n"
          ],
          "name": "stdout"
        }
      ]
    },
    {
      "metadata": {
        "id": "rN0Ue1ZojTIJ",
        "colab_type": "code",
        "outputId": "108a323c-e35a-4835-c5ec-9ee58bbbaa0d",
        "colab": {
          "base_uri": "https://localhost:8080/",
          "height": 34
        }
      },
      "cell_type": "code",
      "source": [
        "ls contract_v01.py"
      ],
      "execution_count": 3,
      "outputs": [
        {
          "output_type": "stream",
          "text": [
            "contract_v01.py\n"
          ],
          "name": "stdout"
        }
      ]
    },
    {
      "metadata": {
        "id": "pePxmAeBjBwq",
        "colab_type": "code",
        "outputId": "963d3db4-6e8d-4937-c8c4-4a8818739e30",
        "colab": {
          "base_uri": "https://localhost:8080/",
          "height": 34
        }
      },
      "cell_type": "code",
      "source": [
        "ls sde_1d_v01.py"
      ],
      "execution_count": 4,
      "outputs": [
        {
          "output_type": "stream",
          "text": [
            "sde_1d_v01.py\n"
          ],
          "name": "stdout"
        }
      ]
    },
    {
      "metadata": {
        "id": "VYUALM8ejvIZ",
        "colab_type": "code",
        "colab": {}
      },
      "cell_type": "code",
      "source": [
        "from contract_v01 import *\n",
        "from sde_1d_v01 import *\n",
        "import matplotlib.pyplot as plt"
      ],
      "execution_count": 0,
      "outputs": []
    },
    {
      "metadata": {
        "id": "UxZiwVZEjhPR",
        "colab_type": "code",
        "colab": {}
      },
      "cell_type": "code",
      "source": [
        "gbm=Gbm_1d(\n",
        "    init_state = 100.,\n",
        "    drift_ratio = 0.05,\n",
        "    vol_ratio = .2\n",
        ")\n",
        "\n",
        "option=VanillaOption(\n",
        "    otype = 1,\n",
        "    maturity = 1,\n",
        "    strike = 100\n",
        ")\n",
        "true=gbm.bsm_price(option)"
      ],
      "execution_count": 0,
      "outputs": []
    },
    {
      "metadata": {
        "id": "RVyVw3th6h0D",
        "colab_type": "code",
        "colab": {
          "base_uri": "https://localhost:8080/",
          "height": 34
        },
        "outputId": "5570e50f-a865-4c76-a7af-7e7c83560551"
      },
      "cell_type": "code",
      "source": [
        "print('The BSM Price is %f'%true)"
      ],
      "execution_count": 15,
      "outputs": [
        {
          "output_type": "stream",
          "text": [
            "The BSM Price is 10.450584\n"
          ],
          "name": "stdout"
        }
      ]
    },
    {
      "metadata": {
        "id": "omkMTVgQQAq_",
        "colab_type": "code",
        "colab": {}
      },
      "cell_type": "code",
      "source": [
        "import numpy as np\n",
        "\n",
        "otype=1\n",
        "K=100\n",
        "sigma=0.2\n",
        "S_0=100\n",
        "r=0.05\n",
        "T=1\n",
        "N=2000\n",
        "\n"
      ],
      "execution_count": 0,
      "outputs": []
    },
    {
      "metadata": {
        "id": "jnmbd0EEQqzu",
        "colab_type": "code",
        "colab": {}
      },
      "cell_type": "code",
      "source": [
        "def CRR(N=2000, K=100,sigma=0.2, S_0=100, r=0.05, T=1):\n",
        "  dt=T/N\n",
        "  dx=sigma*np.sqrt(dt)\n",
        "  r_hat=r-0.5*sigma**2\n",
        "  p=(sigma+r_hat*np.sqrt(dt))/(2*sigma)\n",
        "  \n",
        "  u=np.exp(dx)\n",
        "  d=1/u\n",
        "  \n",
        "  V_prev=np.zeros(N+1)\n",
        "  V_current = np.zeros(N+1)\n",
        "    \n",
        "  for i in range(N+1):\n",
        "    V_prev[i]=max(S_0*(u**i)*(d**(N-i))-K,0)*np.exp(-r*T)\n",
        "  i=N\n",
        "  while i>0:        \n",
        "      for j in range(0,i):\n",
        "          V_current[j] =(1-p)*V_prev[j]+p*V_prev[j+1]\n",
        "      i=i-1\n",
        "      V_prev = V_current\n",
        "        \n",
        "  return V_prev[0]\n",
        "    \n",
        "  \n",
        "  "
      ],
      "execution_count": 0,
      "outputs": []
    },
    {
      "metadata": {
        "id": "5qlTozgER1oB",
        "colab_type": "code",
        "outputId": "18a3f70c-7db4-4a0f-8317-e1d54bddaa19",
        "colab": {
          "base_uri": "https://localhost:8080/",
          "height": 34
        }
      },
      "cell_type": "code",
      "source": [
        "print('The Price of CRR(2000) is %f'%CRR())"
      ],
      "execution_count": 16,
      "outputs": [
        {
          "output_type": "stream",
          "text": [
            "The Price of CRR(2000) is 10.449552\n"
          ],
          "name": "stdout"
        }
      ]
    },
    {
      "metadata": {
        "id": "ZyzyLUReR3t3",
        "colab_type": "code",
        "colab": {}
      },
      "cell_type": "code",
      "source": [
        "N=[10+20*k for k in range(50)]\n",
        "Ys=[]\n",
        "for n in N:\n",
        "  Ys.append(CRR(n))"
      ],
      "execution_count": 0,
      "outputs": []
    },
    {
      "metadata": {
        "id": "HVBrnvFHlaFX",
        "colab_type": "code",
        "outputId": "1cbcf093-8de1-4760-a5b1-4dc2a3881d7f",
        "colab": {
          "base_uri": "https://localhost:8080/",
          "height": 269
        }
      },
      "cell_type": "code",
      "source": [
        "plt.figure()\n",
        "plt.plot(N,[true]*len(N))\n",
        "plt.plot(N,Ys)\n",
        "plt.show()"
      ],
      "execution_count": 12,
      "outputs": [
        {
          "output_type": "display_data",
          "data": {
            "image/png": "[encoded data removed]",
            "text/plain": [
              "<Figure size 432x288 with 1 Axes>"
            ]
          },
          "metadata": {
            "tags": []
          }
        }
      ]
    },
    {
      "metadata": {
        "id": "tXFLi1a6ldd1",
        "colab_type": "code",
        "colab": {}
      },
      "cell_type": "code",
      "source": [
        "N=[10+25*k for k in range(50)]\n",
        "Ys1=[]\n",
        "for n in N:\n",
        "  Ys1.append(CRR(n))"
      ],
      "execution_count": 0,
      "outputs": []
    },
    {
      "metadata": {
        "id": "CVGovr_-7fAa",
        "colab_type": "code",
        "outputId": "a43e60ff-407b-4f6a-8547-ecc50498379c",
        "colab": {
          "base_uri": "https://localhost:8080/",
          "height": 269
        }
      },
      "cell_type": "code",
      "source": [
        "plt.plot(N,[true]*len(N))\n",
        "plt.plot(N,Ys1)\n",
        "plt.show()"
      ],
      "execution_count": 14,
      "outputs": [
        {
          "output_type": "display_data",
          "data": {
            "image/png": "[encoded data removed]",
            "text/plain": [
              "<Figure size 432x288 with 1 Axes>"
            ]
          },
          "metadata": {
            "tags": []
          }
        }
      ]
    },
    {
      "metadata": {
        "id": "tNuoJaFyFURl",
        "colab_type": "code",
        "colab": {}
      },
      "cell_type": "code",
      "source": [
        ""
      ],
      "execution_count": 0,
      "outputs": []
    }
  ]
}