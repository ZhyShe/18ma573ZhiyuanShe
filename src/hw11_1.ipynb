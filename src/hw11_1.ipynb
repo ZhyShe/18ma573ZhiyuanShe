{
  "nbformat": 4,
  "nbformat_minor": 0,
  "metadata": {
    "colab": {
      "name": "hw11_1.ipynb",
      "version": "0.3.2",
      "provenance": [],
      "include_colab_link": true
    },
    "kernelspec": {
      "name": "python3",
      "display_name": "Python 3"
    }
  },
  "cells": [
    {
      "cell_type": "markdown",
      "metadata": {
        "id": "view-in-github",
        "colab_type": "text"
      },
      "source": [
        "<a href=\"https://colab.research.google.com/github/ZhyShe/18ma573ZhiyuanShe/blob/master/src/hw11_1.ipynb\" target=\"_parent\"><img src=\"https://colab.research.google.com/assets/colab-badge.svg\" alt=\"Open In Colab\"/></a>"
      ]
    },
    {
      "metadata": {
        "id": "bdgquBbCioR3",
        "colab_type": "code",
        "colab": {}
      },
      "cell_type": "code",
      "source": [
        "!git clone https://github.com/ZhyShe/18ma573ZhiyuanShe"
      ],
      "execution_count": 0,
      "outputs": []
    },
    {
      "metadata": {
        "id": "tU6okHHKi95k",
        "colab_type": "code",
        "colab": {}
      },
      "cell_type": "code",
      "source": [
        "cd/content/18ma573ZhiyuanShe/src"
      ],
      "execution_count": 0,
      "outputs": []
    },
    {
      "metadata": {
        "id": "rN0Ue1ZojTIJ",
        "colab_type": "code",
        "colab": {}
      },
      "cell_type": "code",
      "source": [
        "ls contract_v01.py"
      ],
      "execution_count": 0,
      "outputs": []
    },
    {
      "metadata": {
        "id": "pePxmAeBjBwq",
        "colab_type": "code",
        "colab": {}
      },
      "cell_type": "code",
      "source": [
        "ls sde_1d_v01.py"
      ],
      "execution_count": 0,
      "outputs": []
    },
    {
      "metadata": {
        "id": "VYUALM8ejvIZ",
        "colab_type": "code",
        "colab": {}
      },
      "cell_type": "code",
      "source": [
        "from contract_v01 import *\n",
        "from sde_1d_v01 import *"
      ],
      "execution_count": 0,
      "outputs": []
    },
    {
      "metadata": {
        "id": "UxZiwVZEjhPR",
        "colab_type": "code",
        "colab": {}
      },
      "cell_type": "code",
      "source": [
        "gbm=Gbm_1d(100,0.05,0.2)\n",
        "option=VanillaOption(1,100,1)\n",
        "gbm.bsm_price(option)"
      ],
      "execution_count": 0,
      "outputs": []
    },
    {
      "metadata": {
        "id": "omkMTVgQQAq_",
        "colab_type": "code",
        "colab": {}
      },
      "cell_type": "code",
      "source": [
        "import numpy as np\n",
        "\n",
        "otype=1\n",
        "K=100\n",
        "sigma=0.2\n",
        "S_0=100\n",
        "r=0.05\n",
        "T=1\n",
        "N=2000\n",
        "dt=T/N\n",
        "dx=sigma*np.sqrt(dt)\n",
        "r_hat=r-0.5*sigma**2\n",
        "p=(sigma+r_hat*np.sqrt(dt))/(2*sigma)"
      ],
      "execution_count": 0,
      "outputs": []
    },
    {
      "metadata": {
        "id": "jnmbd0EEQqzu",
        "colab_type": "code",
        "colab": {}
      },
      "cell_type": "code",
      "source": [
        "X_0=np.log(S_0)\n",
        "u=np.exp(dx)\n",
        "d=np.exp(-dx)\n",
        "V=np.zeros(N+1)\n",
        "V1=np.zeros(N+1)\n",
        "for i in range(N+1):\n",
        "  V[i]=np.exp(-r*T)*max(S_0*(u**i)*(d**(N-i))-K,0)\n",
        "  \n",
        "def CRR(p,V,N):\n",
        "  V_prev = V\n",
        "  V_current = np.zeros(N+1)\n",
        "  i=N\n",
        "  while i>0:        \n",
        "      for j in range(0,i):\n",
        "          V_current[j] = (1-p)*V_prev[j]+p*V_prev[j+1]\n",
        "      i=i-1\n",
        "      V_prev = V_current\n",
        "        \n",
        "  return V_prev[0]\n",
        "    \n",
        "  \n",
        "  "
      ],
      "execution_count": 0,
      "outputs": []
    },
    {
      "metadata": {
        "id": "5qlTozgER1oB",
        "colab_type": "code",
        "colab": {}
      },
      "cell_type": "code",
      "source": [
        "CRR(p,V,N)"
      ],
      "execution_count": 0,
      "outputs": []
    },
    {
      "metadata": {
        "id": "ZyzyLUReR3t3",
        "colab_type": "code",
        "colab": {}
      },
      "cell_type": "code",
      "source": [
        "max(S_0*u-K,0)*np.exp(-dt)"
      ],
      "execution_count": 0,
      "outputs": []
    },
    {
      "metadata": {
        "id": "HVBrnvFHlaFX",
        "colab_type": "code",
        "colab": {}
      },
      "cell_type": "code",
      "source": [
        "p"
      ],
      "execution_count": 0,
      "outputs": []
    },
    {
      "metadata": {
        "id": "tXFLi1a6ldd1",
        "colab_type": "code",
        "colab": {}
      },
      "cell_type": "code",
      "source": [
        ""
      ],
      "execution_count": 0,
      "outputs": []
    }
  ]
}