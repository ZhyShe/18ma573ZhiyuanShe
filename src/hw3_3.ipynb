{
  "nbformat": 4,
  "nbformat_minor": 0,
  "metadata": {
    "colab": {
      "name": "hw3_3.ipynb",
      "version": "0.3.2",
      "provenance": [],
      "include_colab_link": true
    },
    "kernelspec": {
      "name": "python3",
      "display_name": "Python 3"
    }
  },
  "cells": [
    {
      "cell_type": "markdown",
      "metadata": {
        "id": "view-in-github",
        "colab_type": "text"
      },
      "source": [
        "<a href=\"https://colab.research.google.com/github/ZhyShe/18ma573ZhiyuanShe/blob/master/src/hw3_3.ipynb\" target=\"_parent\"><img src=\"https://colab.research.google.com/assets/colab-badge.svg\" alt=\"Open In Colab\"/></a>"
      ]
    },
    {
      "metadata": {
        "id": "iHMqWczsik6_",
        "colab_type": "text"
      },
      "cell_type": "markdown",
      "source": [
        "- Prove the following facts: Supose $f$ is a function satisfying\n",
        "  - $f: [0, \\infty) \\mapsto (f_{min}, f_{max})$\n",
        "  - $f$ is continuous\n",
        "  - $f$ is strictly increasing\n",
        "  \n",
        "  then, for any $p\\in  (f_{min}, f_{max})$, \n",
        "  - there exists unique $\\hat \\sigma$, s.t. $f(\\hat \\sigma) = p$;\n",
        "  - Moreover, \n",
        "  $$\\hat \\sigma = \\arg\\min_{\\sigma\\in (0,\\infty)} | f(\\sigma) - p|.$$"
      ]
    },
    {
      "metadata": {
        "id": "F9tYcXcNcbil",
        "colab_type": "text"
      },
      "cell_type": "markdown",
      "source": [
        "- Now we denote by $f(\\sigma)$ the BSM put price with the following parameters:\n",
        "  - vol_ratio = $\\sigma$; spot_price = 100.; drift_ratio = .0475; strike = 110.; maturity = 1.\n",
        "  \n",
        "  Answer the following questions:\n",
        "  - What is $f_{min}$ and $f_{max}$?\n",
        "  - Is $f$ strictly increasing on $(0,\\infty)$? Justify your answer.\n",
        "  - If the market put price is $10$, then what's the implied volatility?"
      ]
    },
    {
      "metadata": {
        "id": "lwxAraZUeVMK",
        "colab_type": "text"
      },
      "cell_type": "markdown",
      "source": [
        "# Mathematical Proof."
      ]
    },
    {
      "metadata": {
        "id": "EI1sFCxNeMrz",
        "colab_type": "text"
      },
      "cell_type": "markdown",
      "source": [
        "## - Prove the following facts: Supose $f$ is a function satisfying\n",
        "  - $f: [0, \\infty) \\mapsto (f_{min}, f_{max})$\n",
        "  - $f$ is continuous\n",
        "  - $f$ is strictly increasing\n",
        "  \n",
        "  then, for any $p\\in  (f_{min}, f_{max})$, \n",
        "  - there exists unique $\\hat \\sigma$, s.t. $f(\\hat \\sigma) = p$;\n",
        "  - Moreover, \n",
        "  $$\\hat \\sigma = \\arg\\min_{\\sigma\\in (0,\\infty)} | f(\\sigma) - p|.$$"
      ]
    },
    {
      "metadata": {
        "id": "mWYC00qh4Kwk",
        "colab_type": "text"
      },
      "cell_type": "markdown",
      "source": [
        "**proof**, <br>Define set $E=\\{x\\in[0,\\infty)|  f(x)\\leq p\\}$, and let $\\hat\\sigma=sup(E)$. Since $f_{min}< p<f_{max}$, we know there $\\exists$ $b\\in[0,\\infty)$ such that\n",
        "$$\n",
        "f(b)>p.\n",
        "$$\n",
        "Moreover, $f(x)$ is strictly increasing. We have\n",
        "$\n",
        "\\mathop{\\hat\\sigma}\\in(0,b)\n",
        "$\n",
        "Since $\\hat\\sigma$ is supremum, for any $n\\in\\mathcal{N}$, we know $\\exists x_n\\in E$ such that \n",
        "$$\n",
        "\\hat\\sigma-\\frac{1}{n}<x_n\\leq \\hat\\sigma\n",
        "$$\n",
        "We know $\\lim\\limits_{n\\to\\infty}x_n=\\hat\\sigma$. Since for all $n>0$, $x_n\\leq p$. Therefore, by the continuous of $f$, we know $f(\\hat\\sigma)\\leq p$. In the following proof,  we will show that $f(\\hat\\sigma)\\geq p$. Since $\\hat\\sigma$ is the supermum of $E$, for any $n>0$,we have\n",
        "$$\n",
        "\\hat\\sigma+\\frac{1}{n}\\notin E\n",
        "$$\n",
        "Which means $f(\\hat\\sigma+\\frac{1}{n})>p$. By continuous of $f$, we have $$\\lim\\limits_{n\\to\\infty}f(\\hat\\sigma+\\frac{1}{n})=f(\\hat\\sigma)\\geq p.$$\n",
        "Therefore, $f(\\hat\\sigma)=p$. Since $f$ is strickly increasing, for any $x\\neq \\hat\\sigma$,\n",
        "$$\n",
        "f(x)<p\\quad\\text{ or }\\quad f(x)>p\n",
        "$$\n",
        "i.e. $\\hat\\sigma$ is unique value in $[0,\\infty)$ such that $f(\\hat\\sigma)=p$. Therefore, $\\hat\\sigma=argmin|f(\\sigma)-p|$."
      ]
    },
    {
      "metadata": {
        "id": "Hd-DfGOttwTQ",
        "colab_type": "text"
      },
      "cell_type": "markdown",
      "source": [
        "## - Is $f$ strictly increasing on $(0,\\infty)$? Justify your answer."
      ]
    },
    {
      "metadata": {
        "id": "Iy9_a0MfuK0y",
        "colab_type": "text"
      },
      "cell_type": "markdown",
      "source": [
        "**Proof**,  Since \n",
        "$$\n",
        "P_0  = K e^{-rT} \\Phi(- d_2) - S_0  \\Phi(- d_1)\n",
        "$$\n",
        "We have \n",
        "$$\n",
        "\\frac{\\partial}{\\partial\\sigma}P_0=S_0\\phi(-d_1)\\frac{\\partial d_1}{\\partial \\sigma}-Ke^{-rT}\\phi(-d_2)(\\frac{\\partial d_1}{\\partial\\sigma}-\\sqrt{T})\\quad (1)\n",
        "$$\n",
        "<br>\n",
        "$$\n",
        "\\frac{\\partial }{\\partial\\sigma}P_0=S_0\\frac{e^{-\\frac{d_1^2}{2}}}{\\sqrt{2\\pi}}\\frac{(\\frac{1}{2}\\sigma^2-r)T+\\ln{\\frac{K}{S_0}}}{\\sigma^2\\sqrt{T}}-Ke^{-rT}\\frac{e^{-\\frac{d_2^2}{2}}}{\\sqrt{2\\pi}}\\frac{\\ln{\\frac{K}{S_0}-(r+\\frac{1}{2}\\sigma^2)T}}{\\sigma^2\\sqrt{T}}\n",
        "$$\n",
        "<br>\n",
        "As a result, we have\n",
        "$$\n",
        "\\frac{\\partial }{\\partial\\sigma}P_0=S_0\\frac{e^{-\\frac{d_1^2}{2}}}{\\sqrt{2\\pi}}\\frac{(\\frac{1}{2}\\sigma^2-r)T+\\ln{\\frac{K}{S_0}}}{\\sigma^2\\sqrt{T}}-Ke^{-rT}\\frac{e^{-\\frac{d_1^2+\\sigma^2T-2\\sigma d_1\\sqrt{T}}{2}}}{\\sqrt{2\\pi}}\\frac{\\ln{\\frac{K}{S_0}-(r+\\frac{1}{2}\\sigma^2)T}}{\\sigma^2\\sqrt{T}}\n",
        "$$\n",
        "<br>\n",
        "$$\n",
        "\\frac{\\partial }{\\partial\\sigma}P_0=S_0\\frac{e^{-\\frac{d_1^2}{2}}}{\\sqrt{2\\pi}}\\frac{(\\frac{1}{2}\\sigma^2-r)T+\\ln{\\frac{K}{S_0}}}{\\sigma^2\\sqrt{T}}-S_0\\frac{e^{-\\frac{d_1^2}{2}}}{\\sqrt{2\\pi}}\\frac{\\ln{\\frac{K}{S_0}-(r+\\frac{1}{2}\\sigma^2)T}}{\\sigma^2\\sqrt{T}}\n",
        "$$\n",
        "<br>\n",
        "$$\n",
        "\\frac{\\partial }{\\partial\\sigma}P_0=S_0\\frac{e^{-\\frac{d_1^2}{2}}}{\\sqrt{2\\pi}}\\frac{(\\frac{1}{2}\\sigma^2-r+\\frac{1}{2}\\sigma^2+r)T}{\\sigma^2\\sqrt{T}}\n",
        "$$\n",
        "<br>\n",
        "So, we get\n",
        "$$\n",
        "\\frac{\\partial }{\\partial\\sigma}P_0=S_0\\frac{e^{-\\frac{d_1^2}{2}}}{\\sqrt{2\\pi}}\\sqrt{T}>0\n",
        "$$\n",
        "Therefore, $f$ is strictly increasing on$(0,\\infty)$."
      ]
    },
    {
      "metadata": {
        "id": "k8o3r_5wjwGE",
        "colab_type": "text"
      },
      "cell_type": "markdown",
      "source": [
        "##  - What is $f_{min}$ and $f_{max}$?"
      ]
    },
    {
      "metadata": {
        "id": "pifuMDcVj7Ur",
        "colab_type": "text"
      },
      "cell_type": "markdown",
      "source": [
        "**solution**,  We know as $\\sigma\\to\\infty$, we have$d_1\\to\\infty\\text{ and}d_2\\to-\\infty$.Therefore, \n",
        "$$\\lim\\limits_{\\sigma\\to\\infty}\\Phi(-d_1)=0\\text{ and } \\lim\\limits_{\\sigma\\to\\infty}\\Phi(-d_2)=1.$$ As $\\sigma\\to0$, we know\n",
        "$\n",
        "d_1\\to-\\infty\\text{ and }d_2\\to\\infty. \n",
        "$\n",
        "As a result, $$\\lim\\limits_{\\sigma\\to0}\\Phi(-d_1)=1\\text{ and }\\lim\\limits_{\\sigma\\to0}\\Phi(-d_2)=0.$$\n",
        "Therefore, \n",
        "$$\n",
        "\\lim\\limits_{\\sigma\\to0}P_0=-S_0\n",
        "$$\n",
        "and \n",
        "$$\n",
        "\\lim\\limits_{\\sigma\\to\\infty}P_0=Ke^{-rT}\n",
        "$$\n",
        "Since the hoder will not exercise the put option when the underlying price is greater than strike price, we have $ f_{min}=\\max\\{-S_0,0\\}=0$. Therefore, \n",
        "$$\n",
        "f_{max}=Ke^{-rT}\\text{ and }f_{min}=0.\n",
        "$$"
      ]
    },
    {
      "metadata": {
        "id": "qN5PGoxvbiH0",
        "colab_type": "text"
      },
      "cell_type": "markdown",
      "source": [
        "# Codes "
      ]
    },
    {
      "metadata": {
        "id": "HDQQTcQX7hYm",
        "colab_type": "code",
        "outputId": "4f0cf15a-eb31-419d-a81b-7aa10ef82075",
        "colab": {
          "base_uri": "https://localhost:8080/",
          "height": 136
        }
      },
      "cell_type": "code",
      "source": [
        "# We import the py file we have finished, Some classes like Option, GBM, \n",
        "# will be Used in this Homework.\n",
        "'''\n",
        "class Option: (Otype, Strike_Price, Maturity, Market_Price) \n",
        "class GBM: (init_state, drift_ratio, vol_ratio)\n",
        "More definition can be found in hw3_py.py\n",
        "\n",
        "'''\n",
        "# codes start here\n",
        "#---------------------------------------------\n",
        "!git clone https://github.com/ZhyShe/18ma573ZhiyuanShe"
      ],
      "execution_count": 0,
      "outputs": [
        {
          "output_type": "stream",
          "text": [
            "Cloning into '18ma573ZhiyuanShe'...\n",
            "remote: Enumerating objects: 149, done.\u001b[K\n",
            "remote: Counting objects: 100% (149/149), done.\u001b[K\n",
            "remote: Compressing objects: 100% (146/146), done.\u001b[K\n",
            "remote: Total 149 (delta 50), reused 0 (delta 0), pack-reused 0\u001b[K\n",
            "Receiving objects: 100% (149/149), 226.19 KiB | 1.34 MiB/s, done.\n",
            "Resolving deltas: 100% (50/50), done.\n"
          ],
          "name": "stdout"
        }
      ]
    },
    {
      "metadata": {
        "id": "X1fVkLHGac1s",
        "colab_type": "code",
        "outputId": "fee33202-19d9-41a6-ea8e-fe35a9c43eb1",
        "colab": {
          "base_uri": "https://localhost:8080/",
          "height": 34
        }
      },
      "cell_type": "code",
      "source": [
        "cd /content/18ma573ZhiyuanShe/src/"
      ],
      "execution_count": 0,
      "outputs": [
        {
          "output_type": "stream",
          "text": [
            "/content/18ma573ZhiyuanShe/src\n"
          ],
          "name": "stdout"
        }
      ]
    },
    {
      "metadata": {
        "id": "QO6qBIGg9Ohl",
        "colab_type": "code",
        "outputId": "1c23ce9f-f9a2-4e6d-838b-e3899db115d1",
        "colab": {
          "base_uri": "https://localhost:8080/",
          "height": 34
        }
      },
      "cell_type": "code",
      "source": [
        "ls hw3_py.py"
      ],
      "execution_count": 0,
      "outputs": [
        {
          "output_type": "stream",
          "text": [
            "hw3_py.py\n"
          ],
          "name": "stdout"
        }
      ]
    },
    {
      "metadata": {
        "id": "nmPhaQDF9c55",
        "colab_type": "code",
        "colab": {}
      },
      "cell_type": "code",
      "source": [
        "from hw3_py import Option \n",
        "from hw3_py import GBM\n",
        "import scipy.optimize as so\n",
        "import numpy as np\n",
        "import matplotlib.pyplot as plt"
      ],
      "execution_count": 0,
      "outputs": []
    },
    {
      "metadata": {
        "id": "rvlEilTYiVg0",
        "colab_type": "text"
      },
      "cell_type": "markdown",
      "source": [
        "## Now, we will use min square method to find $\\hat\\sigma$."
      ]
    },
    {
      "metadata": {
        "id": "-anBeR6_-BB6",
        "colab_type": "code",
        "colab": {}
      },
      "cell_type": "code",
      "source": [
        "# First we will define our target function |f(\\hat\\sigam)-p| which will be used in MSM.\n",
        "'''\n",
        "sigma: volatility\n",
        "gbm: GBM class\n",
        "option: Option class\n",
        "\n",
        "'''\n",
        "# codes start here\n",
        "#----------------------------------------\n",
        "def targetfunction(sigma, gbm, option):\n",
        "  gbm.vol_ratio=sigma\n",
        "  return np.abs(GBM.bsm_price(gbm, option)-option.Market_Price)\n",
        "\n",
        "def implied_volatility(gbm, option):\n",
        "  init_vol=.1\n",
        "  return float(so.fmin(targetfunction, init_vol, args=(gbm, option), disp=0)[0])"
      ],
      "execution_count": 0,
      "outputs": []
    },
    {
      "metadata": {
        "id": "plRZBSxBA9SB",
        "colab_type": "code",
        "colab": {}
      },
      "cell_type": "code",
      "source": [
        "def f(Sigma):\n",
        "  Prices=[]\n",
        "  option=Option(-1, 110, 1, 100)\n",
        "  Sigma=Sigma.tolist()\n",
        "  for sigma in Sigma:\n",
        "    gbm=GBM(init_state = 100., vol_ratio = sigma)\n",
        "    Prices.append(GBM.bsm_price( gbm, option))\n",
        "  return Prices"
      ],
      "execution_count": 0,
      "outputs": []
    },
    {
      "metadata": {
        "id": "Q8d8bb6S_C2Z",
        "colab_type": "code",
        "outputId": "da624b22-e4b6-4d84-90ba-b065efc65397",
        "colab": {
          "base_uri": "https://localhost:8080/",
          "height": 376
        }
      },
      "cell_type": "code",
      "source": [
        "Sigma=np.linspace(1,20,100)\n",
        "ys=f(Sigma)\n",
        "plt.figure('Volatility Versus Put Option Value')\n",
        "plt.title('Volatility Versus Put Option Value')\n",
        "plt.ylabel(' Put Option Value')\n",
        "plt.xlabel(' Volatility ')\n",
        "plt.plot(Sigma, ys)\n",
        "plt.show()"
      ],
      "execution_count": 0,
      "outputs": [
        {
          "output_type": "display_data",
          "data": {
            "image/png": "[encoded data removed]",
            "text/plain": [
              "<Figure size 576x396 with 1 Axes>"
            ]
          },
          "metadata": {
            "tags": []
          }
        }
      ]
    },
    {
      "metadata": {
        "id": "Sp34h1ILmMpj",
        "colab_type": "text"
      },
      "cell_type": "markdown",
      "source": [
        " ## If the market put price is $10$, then what's the implied volatility?"
      ]
    },
    {
      "metadata": {
        "id": "MBSKcWbMaGPK",
        "colab_type": "code",
        "outputId": "1ecbb71d-e074-486f-cbb9-cad24e736508",
        "colab": {
          "base_uri": "https://localhost:8080/",
          "height": 34
        }
      },
      "cell_type": "code",
      "source": [
        "putoption=Option(-1, 110, 1, 10)\n",
        "gbm=GBM(init_state = 100.)\n",
        "implied_volatility(gbm, putoption)"
      ],
      "execution_count": 0,
      "outputs": [
        {
          "output_type": "execute_result",
          "data": {
            "text/plain": [
              "0.17867187500000026"
            ]
          },
          "metadata": {
            "tags": []
          },
          "execution_count": 9
        }
      ]
    },
    {
      "metadata": {
        "id": "9BnR-A9yv_yL",
        "colab_type": "code",
        "colab": {}
      },
      "cell_type": "code",
      "source": [
        ""
      ],
      "execution_count": 0,
      "outputs": []
    }
  ]
}