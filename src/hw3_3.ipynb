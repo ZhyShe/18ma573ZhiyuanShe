{
  "nbformat": 4,
  "nbformat_minor": 0,
  "metadata": {
    "colab": {
      "name": "hw3_3.ipynb",
      "version": "0.3.2",
      "provenance": [],
      "include_colab_link": true
    },
    "kernelspec": {
      "name": "python3",
      "display_name": "Python 3"
    }
  },
  "cells": [
    {
      "cell_type": "markdown",
      "metadata": {
        "id": "view-in-github",
        "colab_type": "text"
      },
      "source": [
        "<a href=\"https://colab.research.google.com/github/ZhyShe/18ma573ZhiyuanShe/blob/master/src/hw3_3.ipynb\" target=\"_parent\"><img src=\"https://colab.research.google.com/assets/colab-badge.svg\" alt=\"Open In Colab\"/></a>"
      ]
    },
    {
      "metadata": {
        "id": "iHMqWczsik6_",
        "colab_type": "text"
      },
      "cell_type": "markdown",
      "source": [
        "- Prove the following facts: Supose $f$ is a function satisfying\n",
        "  - $f: [0, \\infty) \\mapsto (f_{min}, f_{max})$\n",
        "  - $f$ is continuous\n",
        "  - $f$ is strictly increasing\n",
        "  \n",
        "  then, for any $p\\in  (f_{min}, f_{max})$, \n",
        "  - there exists unique $\\hat \\sigma$, s.t. $f(\\hat \\sigma) = p$;\n",
        "  - Moreover, \n",
        "  $$\\hat \\sigma = \\arg\\min_{\\sigma\\in (0,\\infty)} | f(\\sigma) - p|.$$"
      ]
    },
    {
      "metadata": {
        "id": "F9tYcXcNcbil",
        "colab_type": "text"
      },
      "cell_type": "markdown",
      "source": [
        "- Now we denote by $f(\\sigma)$ the BSM put price with the following parameters:\n",
        "  - vol_ratio = $\\sigma$; spot_price = 100.; drift_ratio = .0475; strike = 110.; maturity = 1.\n",
        "  \n",
        "  Answer the following questions:\n",
        "  - What is $f_{min}$ and $f_{max}$?\n",
        "  - Is $f$ strictly increasing on $(0,\\infty)$? Justify your answer.\n",
        "  - If the market put price is $10$, then what's the implied volatility?"
      ]
    },
    {
      "metadata": {
        "id": "mWYC00qh4Kwk",
        "colab_type": "text"
      },
      "cell_type": "markdown",
      "source": [
        "First we will give a math proof.<br>\n",
        "**proof**, <br>Define set $E=\\{x\\in[0,\\infty)|  f(x)\\leq p\\}$, and let $\\hat\\sigma=sup(E)$. Since $f_{min}< p<f_{max}$, we know there $\\exists$ $b\\in[0,\\infty)$ such that\n",
        "$$\n",
        "f(b)>p.\n",
        "$$\n",
        "Moreover, $f(x)$ is strictly increasing. We have\n",
        "$$\n",
        "\\mathop{\\hat\\sigma}\\in(0,b)\n",
        "$$\n",
        "Since $\\hat\\sigma$ is supremum, for any $n\\in\\mathcal{N}$, we know $\\exists x_n\\in E$ such that \n",
        "$$\n",
        "\\hat\\sigma-\\frac{1}{n}<x_n\\leq \\hat\\sigma\n",
        "$$\n",
        "We know $\\lim\\limits_{n\\to\\infty}x_n=\\hat\\sigma$. Since for all $n>0$, $x_n\\leq p$. Therefore, by the continuous of $f$, we know $f(\\hat\\sigma)\\leq p$. In the following proof,  we will show that $f(\\hat\\sigma)\\geq p$. Since $\\hat\\sigma$ is the supermum of $E$, for any $n>0$,we have\n",
        "$$\n",
        "\\hat\\sigma+\\frac{1}{n}\\notin E\n",
        "$$\n",
        "Which means $f(\\hat\\sigma+\\frac{1}{n})>p$. By continuous of $f$, we have $$\\lim\\limits_{n\\to\\infty}f(\\hat\\sigma+\\frac{1}{n})=f(\\hat\\sigma)\\geq p.$$\n",
        "Therefore, $f(\\hat\\sigma)=p$. Since $f$ is strickly increasing, for any $x\\neq \\hat\\sigma$,\n",
        "$$\n",
        "f(x)<p\\text{ or }f(x)>p\n",
        "$$\n",
        "i.e. $\\hat\\sigma$ is unique value in $[0,\\infty)$ such that $f(\\hat\\sigma)=p$. Therefore, $\\hat\\sigma=argmin|f(\\sigma)-p|$."
      ]
    },
    {
      "metadata": {
        "id": "X1fVkLHGac1s",
        "colab_type": "code",
        "colab": {}
      },
      "cell_type": "code",
      "source": [
        ""
      ],
      "execution_count": 0,
      "outputs": []
    }
  ]
}