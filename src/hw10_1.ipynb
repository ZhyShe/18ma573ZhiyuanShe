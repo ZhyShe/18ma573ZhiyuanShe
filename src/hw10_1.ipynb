{
  "nbformat": 4,
  "nbformat_minor": 0,
  "metadata": {
    "colab": {
      "name": "hw_1.ipynb",
      "version": "0.3.2",
      "provenance": [],
      "collapsed_sections": [],
      "include_colab_link": true
    },
    "kernelspec": {
      "name": "python3",
      "display_name": "Python 3"
    }
  },
  "cells": [
    {
      "cell_type": "markdown",
      "metadata": {
        "id": "view-in-github",
        "colab_type": "text"
      },
      "source": [
        "<a href=\"https://colab.research.google.com/github/ZhyShe/18ma573ZhiyuanShe/blob/master/src/hw_1.ipynb\" target=\"_parent\"><img src=\"https://colab.research.google.com/assets/colab-badge.svg\" alt=\"Open In Colab\"/></a>"
      ]
    },
    {
      "metadata": {
        "id": "xN1NlY4np-Ww",
        "colab_type": "code",
        "colab": {}
      },
      "cell_type": "code",
      "source": [
        "import numpy as np\n",
        "import matplotlib.pyplot as plt\n"
      ],
      "execution_count": 0,
      "outputs": []
    },
    {
      "metadata": {
        "id": "Kp7qg-9xuRgg",
        "colab_type": "code",
        "colab": {}
      },
      "cell_type": "code",
      "source": [
        "def Phi(x):\n",
        "  return np.cos(np.pi*x)*(x>-0.5 and x<0.5)"
      ],
      "execution_count": 0,
      "outputs": []
    },
    {
      "metadata": {
        "id": "kPFESQGAuXFk",
        "colab_type": "code",
        "colab": {}
      },
      "cell_type": "code",
      "source": [
        "X=np.linspace(-1,1,100)\n",
        "\n",
        "Y=[Phi(x) for x in X]"
      ],
      "execution_count": 0,
      "outputs": []
    },
    {
      "metadata": {
        "id": "00RZTW_j0kFq",
        "colab_type": "code",
        "colab": {
          "base_uri": "https://localhost:8080/",
          "height": 347
        },
        "outputId": "cbc6a918-0c23-4676-d855-152451c30383"
      },
      "cell_type": "code",
      "source": [
        "plt.plot(X,Y)\n",
        "plt.show()"
      ],
      "execution_count": 15,
      "outputs": [
        {
          "output_type": "display_data",
          "data": {
            "image/png": "[encoded data removed]",
            "text/plain": [
              "<Figure size 576x396 with 1 Axes>"
            ]
          },
          "metadata": {
            "tags": []
          }
        }
      ]
    },
    {
      "metadata": {
        "id": "a-UgnMva2Sc4",
        "colab_type": "code",
        "colab": {}
      },
      "cell_type": "code",
      "source": [
        "dx=.5\n",
        "dt=.25\n",
        "alpha=1\n",
        "rho=alpha*dt/dx**2\n",
        "a=-1\n",
        "N=5\n",
        "M=10\n",
        "X_n=[a+n*dx for n in range(N)]"
      ],
      "execution_count": 0,
      "outputs": []
    },
    {
      "metadata": {
        "id": "FAqTnjP56LJE",
        "colab_type": "code",
        "colab": {}
      },
      "cell_type": "code",
      "source": [
        "U=np.zeros((N,M))\n",
        "for i in range(N):\n",
        "  U[i,0]=Phi(a+dx*i)\n",
        "for j in range(1,M):\n",
        "  for i in range(1,N-1):\n",
        "    U[i,j]=rho*U[i-1,j-1]+(1-2*rho)*U[i,j-1]+rho*U[i+1,j-1]\n",
        "    U[0,j]=(1-2*rho)*U[0,j-1]+rho*U[1,j-1]\n",
        "    U[N-1,j]=(1-2*rho)*U[N-1,j-1]+rho*U[N-2,j-1]"
      ],
      "execution_count": 0,
      "outputs": []
    },
    {
      "metadata": {
        "id": "sOsw921HO5J5",
        "colab_type": "code",
        "colab": {}
      },
      "cell_type": "code",
      "source": [
        ""
      ],
      "execution_count": 0,
      "outputs": []
    }
  ]
}
