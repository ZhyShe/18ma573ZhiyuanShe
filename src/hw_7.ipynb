{
  "nbformat": 4,
  "nbformat_minor": 0,
  "metadata": {
    "colab": {
      "name": "hw_7.ipynb",
      "version": "0.3.2",
      "provenance": [],
      "include_colab_link": true
    },
    "kernelspec": {
      "name": "python3",
      "display_name": "Python 3"
    }
  },
  "cells": [
    {
      "cell_type": "markdown",
      "metadata": {
        "id": "view-in-github",
        "colab_type": "text"
      },
      "source": [
        "<a href=\"https://colab.research.google.com/github/ZhyShe/18ma573ZhiyuanShe/blob/master/src/hw_7.ipynb\" target=\"_parent\"><img src=\"https://colab.research.google.com/assets/colab-badge.svg\" alt=\"Open In Colab\"/></a>"
      ]
    },
    {
      "metadata": {
        "id": "DzfFelpO6LnN",
        "colab_type": "code",
        "outputId": "8a512571-8f14-4009-83ce-3e3f7abb300e",
        "colab": {
          "base_uri": "https://localhost:8080/",
          "height": 34
        }
      },
      "cell_type": "code",
      "source": [
        "! git clone https://github.com/ZhyShe/18ma573ZhiyuanShe"
      ],
      "execution_count": 15,
      "outputs": [
        {
          "output_type": "stream",
          "text": [
            "fatal: destination path '18ma573ZhiyuanShe' already exists and is not an empty directory.\n"
          ],
          "name": "stdout"
        }
      ]
    },
    {
      "metadata": {
        "id": "cFFVz0He6Z8P",
        "colab_type": "code",
        "outputId": "fd5aa1ef-44a9-4e96-f9ee-4aaff88ae3cd",
        "colab": {
          "base_uri": "https://localhost:8080/",
          "height": 34
        }
      },
      "cell_type": "code",
      "source": [
        "cd /content/18ma573ZhiyuanShe/src/"
      ],
      "execution_count": 16,
      "outputs": [
        {
          "output_type": "stream",
          "text": [
            "/content/18ma573ZhiyuanShe/src\n"
          ],
          "name": "stdout"
        }
      ]
    },
    {
      "metadata": {
        "id": "HJXaRsCJ6ou_",
        "colab_type": "code",
        "colab": {
          "base_uri": "https://localhost:8080/",
          "height": 34
        },
        "outputId": "ddce820c-cbe2-4633-92b4-7c3180902b89"
      },
      "cell_type": "code",
      "source": [
        "ls contract_v01.py"
      ],
      "execution_count": 17,
      "outputs": [
        {
          "output_type": "stream",
          "text": [
            "contract_v01.py\n"
          ],
          "name": "stdout"
        }
      ]
    },
    {
      "metadata": {
        "id": "02jApvRa7Jwp",
        "colab_type": "code",
        "colab": {
          "base_uri": "https://localhost:8080/",
          "height": 34
        },
        "outputId": "19e5a4d0-8f28-49a7-c965-d466becdffa6"
      },
      "cell_type": "code",
      "source": [
        "ls sde_1d_v01.py"
      ],
      "execution_count": 18,
      "outputs": [
        {
          "output_type": "stream",
          "text": [
            "sde_1d_v01.py\n"
          ],
          "name": "stdout"
        }
      ]
    },
    {
      "metadata": {
        "id": "XBAN8NfK7Ncg",
        "colab_type": "code",
        "colab": {}
      },
      "cell_type": "code",
      "source": [
        "from contract_v01 import VanillaOption\n",
        "from sde_1d_v01 import *\n",
        "import numpy as np\n",
        "import matplotlib.pyplot as plt "
      ],
      "execution_count": 0,
      "outputs": []
    },
    {
      "metadata": {
        "id": "XKWkmu3C7U32",
        "colab_type": "code",
        "colab": {}
      },
      "cell_type": "code",
      "source": [
        "def bsm_option_payoff_generators(num_step,num_paths):\n",
        "  gbm_1d=Gbm_1d(init_state = 100., drift_ratio = .0475, vol_ratio = .2)\n",
        "  W=[]\n",
        "  stock=[]\n",
        "  \n",
        "  stock_payoff=[]\n",
        "  arithmetic_asian_payoff=[]\n",
        "  geometric_asian_payoff=[]\n",
        "  european_call=[]\n",
        "  \n",
        "  Voption=VanillaOption(1,110,1,10)\n",
        "  otype=1\n",
        "  strike=110\n",
        "  \n",
        "  for i in range(num_paths):\n",
        "    w,T=BM_gen(0, 1, num_step)\n",
        "    W.append(w)\n",
        "  for w in W:\n",
        "    stock.append(gbm_1d.S_price(w,T))\n",
        "  for s in stock:\n",
        "    S=1\n",
        "    stock_payoff.append(s[-1]-100)\n",
        "    arithmetic_asian_payoff.append(max(np.mean(s)-110,0))\n",
        "    european_call.append(Voption.payoff(s[-1]))\n",
        "    for p in s:\n",
        "      S=S*p**(1/(num_step+1))\n",
        "    geometric_asian_payoff.append(max(S-110,0))\n",
        "  return stock_payoff, arithmetic_asian_payoff, european_call, geometric_asian_payoff\n",
        "    \n",
        "  "
      ],
      "execution_count": 0,
      "outputs": []
    },
    {
      "metadata": {
        "id": "rMfZq0vRQJOB",
        "colab_type": "code",
        "colab": {}
      },
      "cell_type": "code",
      "source": [
        "stk, aac,ec,gac=bsm_option_payoff_generators(4,100)"
      ],
      "execution_count": 0,
      "outputs": []
    },
    {
      "metadata": {
        "id": "Gvr8YhILQORV",
        "colab_type": "code",
        "colab": {
          "base_uri": "https://localhost:8080/",
          "height": 1049
        },
        "outputId": "ca943950-521a-4865-ee7d-5d4682945fdf"
      },
      "cell_type": "code",
      "source": [
        "plt.scatter(aac,stk)\n",
        "plt.xlabel('aac')\n",
        "plt.ylabel('stk')\n",
        "plt.show()\n",
        "plt.scatter(aac,ec)\n",
        "plt.ylabel('ec')\n",
        "plt.xlabel('aac')\n",
        "plt.show()\n",
        "plt.scatter(aac,gac)\n",
        "plt.ylabel('gac')\n",
        "plt.xlabel('aac')\n",
        "plt.show()"
      ],
      "execution_count": 64,
      "outputs": [
        {
          "output_type": "display_data",
          "data": {
            "image/png": "[encoded data removed]",
            "text/plain": [
              "<Figure size 576x396 with 1 Axes>"
            ]
          },
          "metadata": {
            "tags": []
          }
        },
        {
          "output_type": "display_data",
          "data": {
            "image/png": "[encoded data removed]",
            "text/plain": [
              "<Figure size 576x396 with 1 Axes>"
            ]
          },
          "metadata": {
            "tags": []
          }
        },
        {
          "output_type": "display_data",
          "data": {
            "image/png": "[encoded data removed]",
            "text/plain": [
              "<Figure size 576x396 with 1 Axes>"
            ]
          },
          "metadata": {
            "tags": []
          }
        }
      ]
    },
    {
      "metadata": {
        "id": "HhLRJYt0iSWK",
        "colab_type": "text"
      },
      "cell_type": "markdown",
      "source": [
        "Therefore, gac is most highly correlated to aac. In order to improve OMC computaton of aac, we can use the distribution of gac to estimate the distribution of aac. "
      ]
    },
    {
      "metadata": {
        "id": "RxHsgIdgfAW7",
        "colab_type": "code",
        "colab": {}
      },
      "cell_type": "code",
      "source": [
        ""
      ],
      "execution_count": 0,
      "outputs": []
    }
  ]
}