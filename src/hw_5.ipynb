{
  "nbformat": 4,
  "nbformat_minor": 0,
  "metadata": {
    "colab": {
      "name": "hw_5.ipynb",
      "version": "0.3.2",
      "provenance": [],
      "include_colab_link": true
    },
    "kernelspec": {
      "name": "python3",
      "display_name": "Python 3"
    }
  },
  "cells": [
    {
      "cell_type": "markdown",
      "metadata": {
        "id": "view-in-github",
        "colab_type": "text"
      },
      "source": [
        "<a href=\"https://colab.research.google.com/github/ZhyShe/18ma573ZhiyuanShe/blob/master/src/hw_5.ipynb\" target=\"_parent\"><img src=\"https://colab.research.google.com/assets/colab-badge.svg\" alt=\"Open In Colab\"/></a>"
      ]
    },
    {
      "metadata": {
        "id": "E2kxGLrB4zIC",
        "colab_type": "text"
      },
      "cell_type": "markdown",
      "source": [
        "Given i.i.d $\\{\\alpha_i: i\\in 1, 2, \\ldots, N\\}$, we use \n",
        "$$\\bar \\alpha = \\frac 1 N \\sum_{i=1}^N \\alpha_i$$\n",
        "as its estimator of the mean $\\mathbb E[\\alpha_1]$ \n",
        "and \n",
        "$$\\beta_N = \\frac 1 N \\sum_{i=1}^N (\\alpha_i -\\bar \\alpha)^2$$\n",
        "as the estimator of $Var(\\alpha_1)$.\n",
        "\n",
        "\n",
        "Suppose $\\alpha_1\\in L^2$, then \n",
        "- Prove $\\beta_N$ is biased.\n",
        "- Prove that $\\beta_N$ is consistent in $L^2$.\n",
        "- Can you propose an unbiased estimator?\n"
      ]
    },
    {
      "metadata": {
        "id": "vygzQ7jlVPBK",
        "colab_type": "text"
      },
      "cell_type": "markdown",
      "source": [
        "#  Prove $\\beta_N$ is biased."
      ]
    },
    {
      "metadata": {
        "id": "X0yCSh83JZ-W",
        "colab_type": "text"
      },
      "cell_type": "markdown",
      "source": [
        "Since<br>\n",
        "$$\n",
        "\\begin{align*}\n",
        "E[\\beta_N]=&\\frac{1}{N}\\sum_{i=1}^{N}E[(\\alpha_i-\\bar\\alpha)^2]\\\\\n",
        "=&\\frac{1}{N}\\sum_{i=1}^{N}E[\\alpha_i^2-2\\alpha_i\\bar\\alpha+\\bar\\alpha^2]\\\\\n",
        "=&\\frac{1}{N}\\sum_{i=1}^{N}\\bigg(E[\\alpha_i^2]-2\\cdot\\frac{1}{N}(\\sum_{j=1}^{N}E[\\alpha_i\\alpha_j])+E[\\bar\\alpha^2]\\bigg)\\\\\n",
        "=&\\frac{1}{N}\\sum_{i=1}^{N}\\bigg[E[\\alpha_i^2]-2\\cdot\\frac{1}{N}\\bigg((N-1)E^2[\\alpha_1]+E[\\alpha_i^2]\\bigg)+E[\\frac{1}{N^2}(\\sum_{i=1}^{N}\\alpha_i^2+2\\sum_{i<j}\\alpha_i\\alpha_j)]\\bigg]\\\\\n",
        "=&\\frac{1}{N}\\sum_{i=1}^{N}\\bigg[E[\\alpha_1^2]-2\\frac{N-1}{N}E^2[\\alpha_1]-\\frac{2}{N}E[\\alpha_1^2]+\\frac{1}{N}E[\\alpha_1^2]+\\frac{N-1}{N}E^2[\\alpha_1]\\bigg]\\\\\n",
        "=&\\frac{1}{N}\\sum_{i=1}^{N}\\frac{N-1}{N}(E[\\alpha_1^2]-E^2[\\alpha_1])\\\\\n",
        "=&\\frac{N-1}{N}Var(\\alpha_1)\n",
        "\\end{align*}\n",
        "$$\n",
        "\n",
        "Therefore, $E[\\beta_n]\\neq Var(\\alpha_1)$. $\\beta_n$ is biased."
      ]
    },
    {
      "metadata": {
        "id": "ebFeG614WKyn",
        "colab_type": "text"
      },
      "cell_type": "markdown",
      "source": [
        "# Prove that $\\beta_N$ is consistent in $L^2$"
      ]
    },
    {
      "metadata": {
        "id": "EHAkGRcda8zr",
        "colab_type": "text"
      },
      "cell_type": "markdown",
      "source": [
        "Since\n",
        "$$\n",
        "\\begin{align*}\n",
        "|\\beta_N-Var(\\alpha_1)|^2=&|\\frac{1}{N}\\sum_{i=1}^{N}(\\alpha_i-\\bar\\alpha)^2-Var(\\alpha_1)|^2\\\\\n",
        "=&|\\frac{1}{N^3}\\sum_{i=1}^{N}(N\\alpha_i-\\sum_{j=1}^{N}\\alpha_j)^2-Var(\\alpha_1)|^2\\\\\n",
        "=&|\\frac{1}{N^3}\\sum_{i=1}^{N}\\bigg(N^2\\alpha^2_i-2N\\alpha_i\\sum_{j=1}^{N}\\alpha_j+(\\sum_{j=1}^{N}\\alpha_j)^2\\bigg)-Var(\\alpha_1)|^2\\\\\n",
        "=&|\\frac{1}{N}\\sum_{i=1}^{N}\\alpha_i^2-2\\frac{1}{N^2}\\sum_{i=1}^{N}\\alpha_i\\sum_{j=1}^{N}\\alpha_j+\\frac{1}{N^2}(\\sum_{j=1}^{N}\\alpha_j)^2-Var(\\alpha_1)|^2\\\\\n",
        "=&|\\frac{1}{N}\\sum_{i=1}^{N}\\alpha_i^2-E[\\alpha_1^2]-(\\frac{1}{N^2}(\\sum_{i=1}^{N}\\alpha_i)^2-E^2[\\alpha_1])|^2\\\\\n",
        "\\leq&(|\\frac{1}{N}\\sum_{i=1}^{N}\\alpha_i^2-E[\\alpha_1^2]|+|\\frac{1}{N^2}(\\sum_{i=1}^{N}\\alpha_i)^2-E^2[\\alpha_1]|)^2\\\\\n",
        "\\end{align*}\n",
        "$$"
      ]
    },
    {
      "metadata": {
        "id": "knuWqUO_cybP",
        "colab_type": "text"
      },
      "cell_type": "markdown",
      "source": [
        "# Can you propose an unbiased estimator?"
      ]
    },
    {
      "metadata": {
        "id": "v4m8X28UVP5y",
        "colab_type": "text"
      },
      "cell_type": "markdown",
      "source": [
        "Let $$\\beta^*_N=\\frac{1}{N-1}\\sum\\limits_{i=1}^N (\\alpha_i -\\bar \\alpha)^2$$, then we have\n",
        "$$\n",
        "\\begin{align*}\n",
        "E[\\beta_N^*]=&\\frac{1}{N-1}E\\bigg[\\sum_{i=1}^{N}(\\alpha_i^2-2\\alpha_i\\bar\\alpha+\\bar\\alpha^2)\\bigg]\\\\\n",
        "=&\\frac{1}{N-1}E\\bigg[\\sum_{i=1}^N\\alpha_i^2-2\\bar\\alpha\\sum_{i=1}^N\\alpha_i+N\\bar\\alpha^2\\bigg]\\\\\n",
        "=&\\frac{1}{N-1}E\\bigg[\\sum_{i=1}^{N}\\alpha_i^2-N\\bar\\alpha^2\\bigg]\\\\\n",
        "=&\\frac{1}{N-1}(NE[\\alpha_1^2]-E[\\alpha_i^2]-2\\frac{1}{N}\\sum_{i<j}E[\\alpha_i]E[\\alpha_j])\\\\\n",
        "=&\\frac{1}{N-1}\\bigg[(N-1)E[\\alpha_1^2]-(N-1)E^2[\\alpha_1]\\bigg]\\\\\n",
        "=&\\frac{1}{N-1}(N-1)Var(\\alpha_1)\\\\\n",
        "=&Var(\\alpha_1)\n",
        "\\end{align*}\n",
        "$$"
      ]
    },
    {
      "metadata": {
        "id": "zhDE1YkLLAsN",
        "colab_type": "code",
        "colab": {}
      },
      "cell_type": "code",
      "source": [
        ""
      ],
      "execution_count": 0,
      "outputs": []
    }
  ]
}