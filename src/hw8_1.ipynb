{
  "nbformat": 4,
  "nbformat_minor": 0,
  "metadata": {
    "colab": {
      "name": "hw8_1.ipynb",
      "version": "0.3.2",
      "provenance": [],
      "include_colab_link": true
    },
    "kernelspec": {
      "name": "python3",
      "display_name": "Python 3"
    }
  },
  "cells": [
    {
      "cell_type": "markdown",
      "metadata": {
        "id": "view-in-github",
        "colab_type": "text"
      },
      "source": [
        "<a href=\"https://colab.research.google.com/github/ZhyShe/18ma573ZhiyuanShe/blob/master/src/hw8_1.ipynb\" target=\"_parent\"><img src=\"https://colab.research.google.com/assets/colab-badge.svg\" alt=\"Open In Colab\"/></a>"
      ]
    },
    {
      "metadata": {
        "id": "uJwP9ecNEIJb",
        "colab_type": "text"
      },
      "cell_type": "markdown",
      "source": [
        "1. Have shown in HW8_3."
      ]
    },
    {
      "metadata": {
        "id": "dezGnQkjEHZo",
        "colab_type": "code",
        "colab": {
          "base_uri": "https://localhost:8080/",
          "height": 136
        },
        "outputId": "4d62c440-d48a-4f10-d9df-c28453ec5126"
      },
      "cell_type": "code",
      "source": [
        "! git clone https://github.com/ZhyShe/18ma573ZhiyuanShe"
      ],
      "execution_count": 2,
      "outputs": [
        {
          "output_type": "stream",
          "text": [
            "Cloning into '18ma573ZhiyuanShe'...\n",
            "remote: Enumerating objects: 84, done.\u001b[K\n",
            "remote: Counting objects: 100% (84/84), done.\u001b[K\n",
            "remote: Compressing objects: 100% (84/84), done.\u001b[K\n",
            "remote: Total 437 (delta 28), reused 0 (delta 0), pack-reused 353\u001b[K\n",
            "Receiving objects: 100% (437/437), 1.55 MiB | 4.82 MiB/s, done.\n",
            "Resolving deltas: 100% (157/157), done.\n"
          ],
          "name": "stdout"
        }
      ]
    },
    {
      "metadata": {
        "id": "R5tLmSfVFAGr",
        "colab_type": "code",
        "colab": {
          "base_uri": "https://localhost:8080/",
          "height": 34
        },
        "outputId": "c15162ca-75ab-4609-a092-24ae94818564"
      },
      "cell_type": "code",
      "source": [
        "cd /content/18ma573ZhiyuanShe/src/"
      ],
      "execution_count": 4,
      "outputs": [
        {
          "output_type": "stream",
          "text": [
            "/content/18ma573ZhiyuanShe/src\n"
          ],
          "name": "stdout"
        }
      ]
    },
    {
      "metadata": {
        "id": "DL-EYyA9FM-7",
        "colab_type": "code",
        "colab": {}
      },
      "cell_type": "code",
      "source": [
        "import numpy as py\n",
        "from sde_1d_v01 import *\n",
        "from contract_v01 import VanillaOption\n",
        "import scipy.integrate as integrate"
      ],
      "execution_count": 0,
      "outputs": []
    },
    {
      "metadata": {
        "id": "-AYVFUUlFxYE",
        "colab_type": "code",
        "colab": {}
      },
      "cell_type": "code",
      "source": [
        "S0=100\n",
        "sigma=0.2\n",
        "r=0.0475\n",
        "K=110.0\n",
        "T=1.\n",
        "otype=1;"
      ],
      "execution_count": 0,
      "outputs": []
    },
    {
      "metadata": {
        "id": "mK5A1mHeGF56",
        "colab_type": "code",
        "colab": {
          "base_uri": "https://localhost:8080/",
          "height": 34
        },
        "outputId": "77c4846d-c732-4b77-ad50-106f6057a7f9"
      },
      "cell_type": "code",
      "source": [
        "Vp=VanillaOption(otype, K, T)\n",
        "gbm=Gbm_1d(S0, r, sigma)\n",
        "price=gbm.bsm_price(Vp)\n",
        "print('european call option price is %f'%price)"
      ],
      "execution_count": 11,
      "outputs": [
        {
          "output_type": "stream",
          "text": [
            "european call option price is 5.943273\n"
          ],
          "name": "stdout"
        }
      ]
    },
    {
      "metadata": {
        "id": "cdjgJ53PJJIn",
        "colab_type": "text"
      },
      "cell_type": "markdown",
      "source": [
        "By Chiu's PDF, we know\n",
        "$$\n",
        "C = S_{0}I_{1} - Ke^{-rT}I_{2}\n",
        "$$\n",
        "where\n",
        "$$\n",
        "I_{1}(\\phi,\\ln(K)) = \\frac{1}{2} + \\frac{1}{\\pi}\\int_{0}^{\\infty}Re(\\frac{e^{-iu\\ln(K)}\\phi(u-i)}{iu\\phi(-i)})du=\\frac{1}{2} + \\frac{1}{\\pi} \\int_{0}^{\\infty} \\frac{\\sin(d_{1}t)}{t}e^{-\\frac{t^{2}}{2}}dt\n",
        "$$\n",
        "\n",
        "$$\n",
        "I_{2}(\\phi,\\ln(K)) = \\frac{1}{2} + \\frac{1}{\\pi}\\int_{0}^{\\infty}Re(\\frac{e^{-iu\\ln(K)}\\phi(u)}{iu})du=\\frac{1}{2} + \\frac{1}{\\pi} \\int_{0}^{\\infty}\\frac{\\sin (d_{2}t)}{t}e^{-\\frac{t^{2}}{2}}dt\n",
        "$$\n",
        "here\n",
        "$$d_{1} = \\frac{\\ln(\\frac{S_{0}}{K}) + (r + \\frac{\\sigma^{2}}{2})T}{\\sigma\\sqrt{T}}$$\n",
        "\n",
        "$$d_{2} = \\frac{\\ln(\\frac{S_0}{K})+(r-\\frac{\\sigma^{2}}{2})T}{\\sigma \\sqrt{T}}$$\n"
      ]
    },
    {
      "metadata": {
        "id": "jJEExwrqGb7A",
        "colab_type": "code",
        "colab": {}
      },
      "cell_type": "code",
      "source": [
        "d1 = (np.log((S0)/K) + ((r + ((sigma**2)/2))*T))/(sigma*np.sqrt(T))\n",
        "d2 = (np.log((S0)/K) + ((r - ((sigma**2)/2))*T))/(sigma*np.sqrt(T))"
      ],
      "execution_count": 0,
      "outputs": []
    },
    {
      "metadata": {
        "id": "slgjeC_0KPjY",
        "colab_type": "code",
        "colab": {}
      },
      "cell_type": "code",
      "source": [
        "I1 = 0.5 + (1/np.pi) *integrate.quad(lambda t: ((np.sin(d1 * t))/t)*np.exp(-1 * (t**2) / 2),0,np.inf)[0]\n",
        "I2 = 0.5 + (1/np.pi) *integrate.quad(lambda t: ((np.sin(d2 * t))/t)*np.exp(-1 * (t**2) / 2),0,np.inf)[0]\n"
      ],
      "execution_count": 0,
      "outputs": []
    },
    {
      "metadata": {
        "id": "gOziWu4JKTye",
        "colab_type": "code",
        "colab": {}
      },
      "cell_type": "code",
      "source": [
        "Price= (S0 * I1) - (K*(np.exp(-1*r*T))*I2)\n"
      ],
      "execution_count": 0,
      "outputs": []
    },
    {
      "metadata": {
        "id": "7_kyxt4FKhKj",
        "colab_type": "code",
        "colab": {
          "base_uri": "https://localhost:8080/",
          "height": 34
        },
        "outputId": "ec346abb-3cdb-448d-c610-82e4fa919cf8"
      },
      "cell_type": "code",
      "source": [
        "print('Fourier Transform computation of BSM price is %f'%Price)"
      ],
      "execution_count": 20,
      "outputs": [
        {
          "output_type": "stream",
          "text": [
            "Fourier Transform computation of BSM price is 5.943273\n"
          ],
          "name": "stdout"
        }
      ]
    },
    {
      "metadata": {
        "id": "QqSHw7SmKreF",
        "colab_type": "code",
        "colab": {}
      },
      "cell_type": "code",
      "source": [
        ""
      ],
      "execution_count": 0,
      "outputs": []
    }
  ]
}