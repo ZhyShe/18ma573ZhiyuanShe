{
  "nbformat": 4,
  "nbformat_minor": 0,
  "metadata": {
    "colab": {
      "name": "hw8_3.ipynb",
      "version": "0.3.2",
      "provenance": [],
      "include_colab_link": true
    },
    "kernelspec": {
      "name": "python3",
      "display_name": "Python 3"
    }
  },
  "cells": [
    {
      "cell_type": "markdown",
      "metadata": {
        "id": "view-in-github",
        "colab_type": "text"
      },
      "source": [
        "<a href=\"https://colab.research.google.com/github/ZhyShe/18ma573ZhiyuanShe/blob/master/src/hw8_3.ipynb\" target=\"_parent\"><img src=\"https://colab.research.google.com/assets/colab-badge.svg\" alt=\"Open In Colab\"/></a>"
      ]
    },
    {
      "metadata": {
        "id": "iYRuKiahrebE",
        "colab_type": "text"
      },
      "cell_type": "markdown",
      "source": [
        "1. Find $\\phi(t)$ <br>( Actually, I think $W$ here should be std brownian motion, otherwise, 1 will be same with 2) So, $W_t\\sim N(0,t)$\n",
        "$$\n",
        "\\phi(t)=\\frac{1}{\\sqrt{2\\pi t}}\\int_{-\\infty}^{\\infty}e^{iux}e^{-\\frac{1}{2t}x^2}dx=\\frac{e^{\\frac{-u^2}{2}t}}{\\sqrt{2\\pi t}}\\int_{-\\infty}^{\\infty}e^{-\\frac{1}{2t}(x-uti)^2}dx\n",
        "$$\n",
        "Consider integral in complex plane. Since $e^{-\\frac{1}{2t}(z-uti)^2}$ is analytic in the area circled by $(I),(II),(III),(IV)$, we have\n",
        "$$\n",
        "0=\\oint e^{-\\frac{1}{2t}(z-uti)^2}dz=(\\int_I+\\int_{II}+\\int_{III}+\\int_{IV})\\quad e^{-\\frac{1}{2t}(z-uti)^2}dz\n",
        "$$\n",
        "So,\n",
        "$$\n",
        "\\int_{-a}^{a}e^{-\\frac{1}{2t}(z-uti)^2}dz=\\int_{I}e^{-\\frac{1}{2t}(z-uti)^2}dz=-(\\int_{II}+\\int_{III}+\\int_{IV})\\quad e^{-\\frac{1}{2t}(z-uti)^2}dz\n",
        "$$\n",
        "First, consider $(II),(IV)$\n",
        "$$\n",
        "|\\int_{II}e^{-\\frac{1}{2t}(z-uti)^2}dz|\\leq \\int_{-ut}^{0}|e^{-\\frac{a^2-(k-ut)^2}{2t}}|dk\\to0\n",
        "$$\n",
        "as $a$ goes to infnity. Similarly, $\\int_{IV}e^{-\\frac{1}{2t}(z-uti)^2}dz=0.$ Now, consider $(III)$, $z=x+uti$ on $(III)$\n",
        "$$\n",
        "\\int_{III}e^{-\\frac{1}{2t}(z-uti)^2}dz=\\int_{a}^{-a}e^{-\\frac{1}{2t}x^2}dx\\to-\\sqrt{2\\pi t}\n",
        "$$\n",
        "When $a$ goes to infinity. So, we have\n",
        "$$\n",
        "\\phi(t)=\\frac{1}{\\sqrt{2\\pi t}}\\int_{-\\infty}^{\\infty}e^{iux}e^{-\\frac{1}{2t}x^2}dx=\\frac{e^{\\frac{-u^2}{2}t}}{\\sqrt{2\\pi t}}\\int_{-\\infty}^{\\infty}e^{-\\frac{1}{2t}(x-uti)^2}dx=e^{\\frac{-u^2}{2}t}\n",
        "$$"
      ]
    },
    {
      "metadata": {
        "id": "Fn5-2gAvra2c",
        "colab_type": "code",
        "colab": {}
      },
      "cell_type": "code",
      "source": [
        "import matplotlib.pyplot as plt\n",
        "import numpy as np"
      ],
      "execution_count": 0,
      "outputs": []
    },
    {
      "metadata": {
        "id": "AVWp2gLruJ7g",
        "colab_type": "code",
        "colab": {
          "base_uri": "https://localhost:8080/",
          "height": 585
        },
        "outputId": "3026a374-7a4d-4f5f-d35c-c9d054f993a5"
      },
      "cell_type": "code",
      "source": [
        "fig=plt.figure(figsize=(10,10))\n",
        "ax=fig.add_subplot(111)\n",
        "ax.spines['top'].set_color('none')\n",
        "ax.spines['right'].set_color('none')\n",
        "ax.spines['left'].set_position(('data',0))\n",
        "ax.spines['bottom'].set_position(('data',0))\n",
        "ax.plot([-2,-2,2,2,-2],[0,-1,-1,0,0])\n",
        "plt.xlim(-4,4)\n",
        "plt.ylim(-4,4)\n",
        "plt.annotate(s='-a',xy=(-2,0))\n",
        "plt.annotate(s='a',xy=(2,0))\n",
        "plt.annotate(s='(I)',xy=(0,0.2))\n",
        "plt.annotate(s='(II)',xy=(-2.3,-0.5))\n",
        "plt.annotate(s='(IV)',xy=(2.3,-0.5))\n",
        "plt.annotate(s='(III)',xy=(0,-1.2))\n",
        "plt.show()"
      ],
      "execution_count": 54,
      "outputs": [
        {
          "output_type": "display_data",
          "data": {
            "image/png": "[encoded data removed]",
            "text/plain": [
              "<Figure size 720x720 with 1 Axes>"
            ]
          },
          "metadata": {
            "tags": []
          }
        }
      ]
    },
    {
      "metadata": {
        "id": "TtzuNaxmA7T9",
        "colab_type": "text"
      },
      "cell_type": "markdown",
      "source": [
        "2. Prove $\\phi(u)=e^{iu\\mu-\\frac{1}{2}u^2\\sigma^2}$<br>\n",
        "By 1, we know if $X\\sim N(0,\\sigma^2)$\n",
        "$$\n",
        "\\phi(u)=e^{-\\frac{1}{2}u^2\\sigma^2}\n",
        "$$\n",
        "Let $Y=\\mu+X$, so\n",
        "$$\n",
        "\\phi(u)=E[e^{iuY}]=E[e^{iuX+iu\\mu}]=e^{iu\\mu}E[e^{iuX}]=e^{iu\\mu-\\frac{1}{2}u^2\\sigma^2}\n",
        "$$"
      ]
    },
    {
      "metadata": {
        "id": "GjX9ats4uVpu",
        "colab_type": "code",
        "colab": {}
      },
      "cell_type": "code",
      "source": [
        "\n"
      ],
      "execution_count": 0,
      "outputs": []
    }
  ]
}