{
  "nbformat": 4,
  "nbformat_minor": 0,
  "metadata": {
    "colab": {
      "name": "hw4_2.ipynb",
      "version": "0.3.2",
      "provenance": [],
      "include_colab_link": true
    },
    "kernelspec": {
      "name": "python3",
      "display_name": "Python 3"
    }
  },
  "cells": [
    {
      "cell_type": "markdown",
      "metadata": {
        "id": "view-in-github",
        "colab_type": "text"
      },
      "source": [
        "<a href=\"https://colab.research.google.com/github/ZhyShe/18ma573ZhiyuanShe/blob/master/src/hw4_2.ipynb\" target=\"_parent\"><img src=\"https://colab.research.google.com/assets/colab-badge.svg\" alt=\"Open In Colab\"/></a>"
      ]
    },
    {
      "metadata": {
        "id": "pxu-nFhT0IqU",
        "colab_type": "code",
        "outputId": "55550a1a-52a5-401a-f998-970536081762",
        "colab": {
          "base_uri": "https://localhost:8080/",
          "height": 136
        }
      },
      "cell_type": "code",
      "source": [
        "!git clone https://github.com/ZhyShe/18ma573ZhiyuanShe"
      ],
      "execution_count": 0,
      "outputs": [
        {
          "output_type": "stream",
          "text": [
            "Cloning into '18ma573ZhiyuanShe'...\n",
            "remote: Enumerating objects: 52, done.\u001b[K\n",
            "remote: Counting objects: 100% (52/52), done.\u001b[K\n",
            "remote: Compressing objects: 100% (52/52), done.\u001b[K\n",
            "remote: Total 257 (delta 15), reused 0 (delta 0), pack-reused 205\u001b[K\n",
            "Receiving objects: 100% (257/257), 1.56 MiB | 8.60 MiB/s, done.\n",
            "Resolving deltas: 100% (86/86), done.\n"
          ],
          "name": "stdout"
        }
      ]
    },
    {
      "metadata": {
        "id": "7e97_aLg0SWF",
        "colab_type": "code",
        "outputId": "6301c73f-7259-4489-dd13-152a29a34278",
        "colab": {
          "base_uri": "https://localhost:8080/",
          "height": 34
        }
      },
      "cell_type": "code",
      "source": [
        "cd/content/18ma573ZhiyuanShe/src/"
      ],
      "execution_count": 0,
      "outputs": [
        {
          "output_type": "stream",
          "text": [
            "/content/18ma573ZhiyuanShe/src\n"
          ],
          "name": "stdout"
        }
      ]
    },
    {
      "metadata": {
        "id": "V4BKe3OQ0ZFY",
        "colab_type": "code",
        "outputId": "539837a4-5a3d-40ac-cc50-f0262c7f6224",
        "colab": {
          "base_uri": "https://localhost:8080/",
          "height": 34
        }
      },
      "cell_type": "code",
      "source": [
        "ls sde_1d_v01.py"
      ],
      "execution_count": 0,
      "outputs": [
        {
          "output_type": "stream",
          "text": [
            "sde_1d_v01.py\n"
          ],
          "name": "stdout"
        }
      ]
    },
    {
      "metadata": {
        "id": "kVCOEyrK0oel",
        "colab_type": "code",
        "outputId": "3723dba8-6543-4928-fe9c-0c9add21ee57",
        "colab": {
          "base_uri": "https://localhost:8080/",
          "height": 34
        }
      },
      "cell_type": "code",
      "source": [
        "ls contract_v01.py"
      ],
      "execution_count": 0,
      "outputs": [
        {
          "output_type": "stream",
          "text": [
            "contract_v01.py\n"
          ],
          "name": "stdout"
        }
      ]
    },
    {
      "metadata": {
        "id": "VS4akzlV0wPZ",
        "colab_type": "code",
        "colab": {}
      },
      "cell_type": "code",
      "source": [
        "import numpy as np\n",
        "import matplotlib.pyplot as plt\n",
        "import scipy.stats as ss\n",
        "from contract_v01 import VanillaOption\n",
        "from sde_1d_v01 import Sde_1d, Gbm_1d\n",
        "import scipy.optimize as so"
      ],
      "execution_count": 0,
      "outputs": []
    },
    {
      "metadata": {
        "id": "KMMEhGN-1Po3",
        "colab_type": "code",
        "outputId": "ba81bd3e-de6c-4d63-f808-b6aa80715f95",
        "colab": {
          "base_uri": "https://localhost:8080/",
          "height": 34
        }
      },
      "cell_type": "code",
      "source": [
        "#---------------------------\n",
        "# Test BSM geometric asian option price\n",
        "#----------------------------\n",
        "gbm1 = Gbm_1d(init_state=100., drift_ratio=.0475, vol_ratio=.2)\n",
        "goa1=gbm1.bsm_geometric_asian_price(otype=1, strike=110, marturity=1, num_step=4)\n",
        "print('>>>>>>>>>> geometric call option value is ' + str(goa1))"
      ],
      "execution_count": 0,
      "outputs": [
        {
          "output_type": "stream",
          "text": [
            ">>>>>>>>>> geometric call option value is 1.607164727431734\n"
          ],
          "name": "stdout"
        }
      ]
    },
    {
      "metadata": {
        "id": "CR4XOo3t1Z7P",
        "colab_type": "code",
        "colab": {}
      },
      "cell_type": "code",
      "source": [
        "#----------\n",
        "spot=100\n",
        "rate=.05\n",
        "\n",
        "otype=1\n",
        "marturity=2/12\n",
        "num_step=8\n",
        "strike_list=[97,99,101,103]\n",
        "market_price_list=[\n",
        "    3.7925736094875964,\n",
        "    2.5429985313737244,\n",
        "    1.6026613800895042,\n",
        "    0.9366198675047346]"
      ],
      "execution_count": 0,
      "outputs": []
    },
    {
      "metadata": {
        "id": "TMmevRiN4pk4",
        "colab_type": "code",
        "colab": {}
      },
      "cell_type": "code",
      "source": [
        "def erro_function(sigma, strike_list,market_price_list):\n",
        "  erro=0\n",
        "  gbm1 = Gbm_1d(init_state=spot, drift_ratio=rate, vol_ratio=sigma)\n",
        "  for strike, market_price in zip(strike_list,market_price_list):\n",
        "    erro+=(gbm1.bsm_geometric_asian_price(otype=1, strike=strike,marturity=marturity, num_step=8)-market_price)**2\n",
        "  return erro\n",
        "    \n",
        "def calibration_Absm(strike_list,market_price_list):\n",
        "  init_vol=.1\n",
        "  return so.fmin(erro_function, init_vol, args = (strike_list, market_price_list), disp = 0)[0]"
      ],
      "execution_count": 0,
      "outputs": []
    },
    {
      "metadata": {
        "id": "a8ZTZ-WJ8ky_",
        "colab_type": "code",
        "outputId": "6f0bae2b-0f1c-4ce4-b413-9376156c6c8a",
        "colab": {
          "base_uri": "https://localhost:8080/",
          "height": 119
        }
      },
      "cell_type": "code",
      "source": [
        "sigma=0.18109375000000028\n",
        "values=[]\n",
        "gbm1 = Gbm_1d(init_state=spot, drift_ratio=rate, vol_ratio=sigma)\n",
        "for strike, market_price in zip(strike_list,market_price_list):\n",
        "  values.append(gbm1.bsm_geometric_asian_price(otype=1, strike=strike,marturity=marturity, num_step=8))\n",
        "print('>>>>>>>>> calibrated price are:\\n ')\n",
        "for value in values:\n",
        "  print(value)"
      ],
      "execution_count": 0,
      "outputs": [
        {
          "output_type": "stream",
          "text": [
            ">>>>>>>>> calibrated price are:\n",
            " \n",
            "3.807571582023542\n",
            "2.4020600269716677\n",
            "1.3571851322662047\n",
            "0.6779174887750915\n"
          ],
          "name": "stdout"
        }
      ]
    },
    {
      "metadata": {
        "id": "ueihcZMy9psN",
        "colab_type": "code",
        "outputId": "ab226b70-d13e-4fcf-ce7d-8dfb84b30071",
        "colab": {
          "base_uri": "https://localhost:8080/",
          "height": 361
        }
      },
      "cell_type": "code",
      "source": [
        "x_co = strike_list\n",
        "y_co = market_price_list\n",
        "plt.plot(x_co, y_co, 'o', label='market price')\n",
        "\n",
        "y_co = values\n",
        "plt.plot(x_co, y_co, label = 'calib price')\n",
        "\n",
        "plt.ylabel('option price')\n",
        "plt.xlabel('strike with maturity')\n",
        "plt.legend()\n",
        "plt.show()"
      ],
      "execution_count": 0,
      "outputs": [
        {
          "output_type": "display_data",
          "data": {
            "image/png": "[encoded data removed]",
            "text/plain": [
              "<Figure size 576x396 with 1 Axes>"
            ]
          },
          "metadata": {
            "tags": []
          }
        }
      ]
    },
    {
      "metadata": {
        "id": "buczpl9EA0O-",
        "colab_type": "code",
        "colab": {}
      },
      "cell_type": "code",
      "source": [
        ""
      ],
      "execution_count": 0,
      "outputs": []
    }
  ]
}