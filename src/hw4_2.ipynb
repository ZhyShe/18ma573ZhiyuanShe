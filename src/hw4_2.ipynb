{
  "nbformat": 4,
  "nbformat_minor": 0,
  "metadata": {
    "colab": {
      "name": "hw4_2.ipynb",
      "version": "0.3.2",
      "provenance": [],
      "include_colab_link": true
    },
    "kernelspec": {
      "name": "python3",
      "display_name": "Python 3"
    }
  },
  "cells": [
    {
      "cell_type": "markdown",
      "metadata": {
        "id": "view-in-github",
        "colab_type": "text"
      },
      "source": [
        "<a href=\"https://colab.research.google.com/github/ZhyShe/18ma573ZhiyuanShe/blob/master/src/hw4_2.ipynb\" target=\"_parent\"><img src=\"https://colab.research.google.com/assets/colab-badge.svg\" alt=\"Open In Colab\"/></a>"
      ]
    },
    {
      "metadata": {
        "id": "pxu-nFhT0IqU",
        "colab_type": "code",
        "outputId": "6ae0a904-4477-45fc-8ca6-047a3612aa66",
        "colab": {
          "base_uri": "https://localhost:8080/",
          "height": 136
        }
      },
      "cell_type": "code",
      "source": [
        "!git clone https://github.com/ZhyShe/18ma573ZhiyuanShe"
      ],
      "execution_count": 0,
      "outputs": [
        {
          "output_type": "stream",
          "text": [
            "Cloning into '18ma573ZhiyuanShe'...\n",
            "remote: Enumerating objects: 38, done.\u001b[K\n",
            "remote: Counting objects:   2% (1/38)   \u001b[K\rremote: Counting objects:   5% (2/38)   \u001b[K\rremote: Counting objects:   7% (3/38)   \u001b[K\rremote: Counting objects:  10% (4/38)   \u001b[K\rremote: Counting objects:  13% (5/38)   \u001b[K\rremote: Counting objects:  15% (6/38)   \u001b[K\rremote: Counting objects:  18% (7/38)   \u001b[K\rremote: Counting objects:  21% (8/38)   \u001b[K\rremote: Counting objects:  23% (9/38)   \u001b[K\rremote: Counting objects:  26% (10/38)   \u001b[K\rremote: Counting objects:  28% (11/38)   \u001b[K\rremote: Counting objects:  31% (12/38)   \u001b[K\rremote: Counting objects:  34% (13/38)   \u001b[K\rremote: Counting objects:  36% (14/38)   \u001b[K\rremote: Counting objects:  39% (15/38)   \u001b[K\rremote: Counting objects:  42% (16/38)   \u001b[K\rremote: Counting objects:  44% (17/38)   \u001b[K\rremote: Counting objects:  47% (18/38)   \u001b[K\rremote: Counting objects:  50% (19/38)   \u001b[K\rremote: Counting objects:  52% (20/38)   \u001b[K\rremote: Counting objects:  55% (21/38)   \u001b[K\rremote: Counting objects:  57% (22/38)   \u001b[K\rremote: Counting objects:  60% (23/38)   \u001b[K\rremote: Counting objects:  63% (24/38)   \u001b[K\rremote: Counting objects:  65% (25/38)   \u001b[K\rremote: Counting objects:  68% (26/38)   \u001b[K\rremote: Counting objects:  71% (27/38)   \u001b[K\rremote: Counting objects:  73% (28/38)   \u001b[K\rremote: Counting objects:  76% (29/38)   \u001b[K\rremote: Counting objects:  78% (30/38)   \u001b[K\rremote: Counting objects:  81% (31/38)   \u001b[K\rremote: Counting objects:  84% (32/38)   \u001b[K\rremote: Counting objects:  86% (33/38)   \u001b[K\rremote: Counting objects:  89% (34/38)   \u001b[K\rremote: Counting objects:  92% (35/38)   \u001b[K\rremote: Counting objects:  94% (36/38)   \u001b[K\rremote: Counting objects:  97% (37/38)   \u001b[K\rremote: Counting objects: 100% (38/38)   \u001b[K\rremote: Counting objects: 100% (38/38), done.\u001b[K\n",
            "remote: Compressing objects:   2% (1/38)   \u001b[K\rremote: Compressing objects:   5% (2/38)   \u001b[K\rremote: Compressing objects:   7% (3/38)   \u001b[K\rremote: Compressing objects:  10% (4/38)   \u001b[K\rremote: Compressing objects:  13% (5/38)   \u001b[K\rremote: Compressing objects:  15% (6/38)   \u001b[K\rremote: Compressing objects:  18% (7/38)   \u001b[K\rremote: Compressing objects:  21% (8/38)   \u001b[K\rremote: Compressing objects:  23% (9/38)   \u001b[K\rremote: Compressing objects:  26% (10/38)   \u001b[K\rremote: Compressing objects:  28% (11/38)   \u001b[K\rremote: Compressing objects:  31% (12/38)   \u001b[K\rremote: Compressing objects:  34% (13/38)   \u001b[K\rremote: Compressing objects:  36% (14/38)   \u001b[K\rremote: Compressing objects:  39% (15/38)   \u001b[K\rremote: Compressing objects:  42% (16/38)   \u001b[K\rremote: Compressing objects:  44% (17/38)   \u001b[K\rremote: Compressing objects:  47% (18/38)   \u001b[K\rremote: Compressing objects:  50% (19/38)   \u001b[K\rremote: Compressing objects:  52% (20/38)   \u001b[K\rremote: Compressing objects:  55% (21/38)   \u001b[K\rremote: Compressing objects:  57% (22/38)   \u001b[K\rremote: Compressing objects:  60% (23/38)   \u001b[K\rremote: Compressing objects:  63% (24/38)   \u001b[K\rremote: Compressing objects:  65% (25/38)   \u001b[K\rremote: Compressing objects:  68% (26/38)   \u001b[K\rremote: Compressing objects:  71% (27/38)   \u001b[K\rremote: Compressing objects:  73% (28/38)   \u001b[K\rremote: Compressing objects:  76% (29/38)   \u001b[K\rremote: Compressing objects:  78% (30/38)   \u001b[K\rremote: Compressing objects:  81% (31/38)   \u001b[K\rremote: Compressing objects:  84% (32/38)   \u001b[K\rremote: Compressing objects:  86% (33/38)   \u001b[K\rremote: Compressing objects:  89% (34/38)   \u001b[K\rremote: Compressing objects:  92% (35/38)   \u001b[K\rremote: Compressing objects:  94% (36/38)   \u001b[K\rremote: Compressing objects:  97% (37/38)   \u001b[K\rremote: Compressing objects: 100% (38/38)   \u001b[K\rremote: Compressing objects: 100% (38/38), done.\u001b[K\n",
            "Receiving objects:   0% (1/243)   \rReceiving objects:   1% (3/243)   \rReceiving objects:   2% (5/243)   \rReceiving objects:   3% (8/243)   \rReceiving objects:   4% (10/243)   \rReceiving objects:   5% (13/243)   \rReceiving objects:   6% (15/243)   \rReceiving objects:   7% (18/243)   \rReceiving objects:   8% (20/243)   \rReceiving objects:   9% (22/243)   \rReceiving objects:  10% (25/243)   \rReceiving objects:  11% (27/243)   \rReceiving objects:  12% (30/243)   \rReceiving objects:  13% (32/243)   \rReceiving objects:  14% (35/243)   \rReceiving objects:  15% (37/243)   \rReceiving objects:  16% (39/243)   \rReceiving objects:  17% (42/243)   \rReceiving objects:  18% (44/243)   \rReceiving objects:  19% (47/243)   \rReceiving objects:  20% (49/243)   \rReceiving objects:  21% (52/243)   \rReceiving objects:  22% (54/243)   \rReceiving objects:  23% (56/243)   \rReceiving objects:  24% (59/243)   \rReceiving objects:  25% (61/243)   \rReceiving objects:  26% (64/243)   \rReceiving objects:  27% (66/243)   \rReceiving objects:  28% (69/243)   \rReceiving objects:  29% (71/243)   \rReceiving objects:  30% (73/243)   \rReceiving objects:  31% (76/243)   \rReceiving objects:  32% (78/243)   \rReceiving objects:  33% (81/243)   \rReceiving objects:  34% (83/243)   \rReceiving objects:  35% (86/243)   \rReceiving objects:  36% (88/243)   \rReceiving objects:  37% (90/243)   \rReceiving objects:  38% (93/243)   \rReceiving objects:  39% (95/243)   \rReceiving objects:  40% (98/243)   \rReceiving objects:  41% (100/243)   \rReceiving objects:  42% (103/243)   \rReceiving objects:  43% (105/243)   \rReceiving objects:  44% (107/243)   \rReceiving objects:  45% (110/243)   \rReceiving objects:  46% (112/243)   \rReceiving objects:  47% (115/243)   \rReceiving objects:  48% (117/243)   \rReceiving objects:  49% (120/243)   \rReceiving objects:  50% (122/243)   \rReceiving objects:  51% (124/243)   \rReceiving objects:  52% (127/243)   \rReceiving objects:  53% (129/243)   \rReceiving objects:  54% (132/243)   \rReceiving objects:  55% (134/243)   \rReceiving objects:  56% (137/243)   \rReceiving objects:  57% (139/243)   \rReceiving objects:  58% (141/243)   \rReceiving objects:  59% (144/243)   \rReceiving objects:  60% (146/243)   \rReceiving objects:  61% (149/243)   \rReceiving objects:  62% (151/243)   \rReceiving objects:  63% (154/243)   \rReceiving objects:  64% (156/243)   \rReceiving objects:  65% (158/243)   \rReceiving objects:  66% (161/243)   \rReceiving objects:  67% (163/243)   \rReceiving objects:  68% (166/243)   \rReceiving objects:  69% (168/243)   \rReceiving objects:  70% (171/243)   \rReceiving objects:  71% (173/243)   \rReceiving objects:  72% (175/243)   \rReceiving objects:  73% (178/243)   \rReceiving objects:  74% (180/243)   \rReceiving objects:  75% (183/243)   \rReceiving objects:  76% (185/243)   \rReceiving objects:  77% (188/243)   \rReceiving objects:  78% (190/243)   \rReceiving objects:  79% (192/243)   \rReceiving objects:  80% (195/243)   \rReceiving objects:  81% (197/243)   \rReceiving objects:  82% (200/243)   \rReceiving objects:  83% (202/243)   \rReceiving objects:  84% (205/243)   \rReceiving objects:  85% (207/243)   \rReceiving objects:  86% (209/243)   \rReceiving objects:  87% (212/243)   \rReceiving objects:  88% (214/243)   \rReceiving objects:  89% (217/243)   \rReceiving objects:  90% (219/243)   \rReceiving objects:  91% (222/243)   \rReceiving objects:  92% (224/243)   \rReceiving objects:  93% (226/243)   \rReceiving objects:  94% (229/243)   \rReceiving objects:  95% (231/243)   \rReceiving objects:  96% (234/243)   \rReceiving objects:  97% (236/243)   \rReceiving objects:  98% (239/243)   \rReceiving objects:  99% (241/243)   \rremote: Total 243 (delta 10), reused 0 (delta 0), pack-reused 205\u001b[K\n",
            "Receiving objects: 100% (243/243)   \rReceiving objects: 100% (243/243), 1.54 MiB | 22.84 MiB/s, done.\n",
            "Resolving deltas:   0% (0/81)   \rResolving deltas:   1% (1/81)   \rResolving deltas:  43% (35/81)   \rResolving deltas:  53% (43/81)   \rResolving deltas:  55% (45/81)   \rResolving deltas:  56% (46/81)   \rResolving deltas:  61% (50/81)   \rResolving deltas:  62% (51/81)   \rResolving deltas:  65% (53/81)   \rResolving deltas:  70% (57/81)   \rResolving deltas:  72% (59/81)   \rResolving deltas:  76% (62/81)   \rResolving deltas:  80% (65/81)   \rResolving deltas:  81% (66/81)   \rResolving deltas:  91% (74/81)   \rResolving deltas:  96% (78/81)   \rResolving deltas:  97% (79/81)   \rResolving deltas: 100% (81/81)   \rResolving deltas: 100% (81/81), done.\n"
          ],
          "name": "stdout"
        }
      ]
    },
    {
      "metadata": {
        "id": "7e97_aLg0SWF",
        "colab_type": "code",
        "outputId": "11060674-d696-4cd1-a3fb-386f037f9413",
        "colab": {
          "base_uri": "https://localhost:8080/",
          "height": 34
        }
      },
      "cell_type": "code",
      "source": [
        "cd/content/18ma573ZhiyuanShe/src/"
      ],
      "execution_count": 0,
      "outputs": [
        {
          "output_type": "stream",
          "text": [
            "/content/18ma573ZhiyuanShe/src\n"
          ],
          "name": "stdout"
        }
      ]
    },
    {
      "metadata": {
        "id": "V4BKe3OQ0ZFY",
        "colab_type": "code",
        "outputId": "3aee15cf-8b2f-4462-a238-8a698a41c050",
        "colab": {
          "base_uri": "https://localhost:8080/",
          "height": 34
        }
      },
      "cell_type": "code",
      "source": [
        "ls sde_1d_v01.py"
      ],
      "execution_count": 0,
      "outputs": [
        {
          "output_type": "stream",
          "text": [
            "sde_1d_v01.py\n"
          ],
          "name": "stdout"
        }
      ]
    },
    {
      "metadata": {
        "id": "kVCOEyrK0oel",
        "colab_type": "code",
        "outputId": "52a791f2-8715-47bf-8a32-3047f6af0a59",
        "colab": {
          "base_uri": "https://localhost:8080/",
          "height": 34
        }
      },
      "cell_type": "code",
      "source": [
        "ls contract_v01.py"
      ],
      "execution_count": 0,
      "outputs": [
        {
          "output_type": "stream",
          "text": [
            "contract_v01.py\n"
          ],
          "name": "stdout"
        }
      ]
    },
    {
      "metadata": {
        "id": "VS4akzlV0wPZ",
        "colab_type": "code",
        "colab": {}
      },
      "cell_type": "code",
      "source": [
        "import numpy as np\n",
        "import matplotlib.pyplot as plt\n",
        "import scipy.stats as ss\n",
        "from contract_v01 import VanillaOption\n",
        "from sde_1d_v01 import Sde_1d, Gbm_1d\n",
        "import scipy.optimize as so"
      ],
      "execution_count": 0,
      "outputs": []
    },
    {
      "metadata": {
        "id": "KMMEhGN-1Po3",
        "colab_type": "code",
        "outputId": "38a0e4ca-29ba-467a-a0df-2deb798aad47",
        "colab": {
          "base_uri": "https://localhost:8080/",
          "height": 34
        }
      },
      "cell_type": "code",
      "source": [
        "#---------------------------\n",
        "# Test BSM geometric asian option price\n",
        "#----------------------------\n",
        "gbm1 = Gbm_1d(init_state=100., drift_ratio=.0475, vol_ratio=.2)\n",
        "goa1=gbm1.bsm_geometric_asian_price(otype=1, strike=110, marturity=1, num_step=4)\n",
        "print('>>>>>>>>>> geometric call option value is ' + str(goa1))"
      ],
      "execution_count": 0,
      "outputs": [
        {
          "output_type": "stream",
          "text": [
            ">>>>>>>>>> geometric call option value is 1.607164727431734\n"
          ],
          "name": "stdout"
        }
      ]
    },
    {
      "metadata": {
        "id": "CR4XOo3t1Z7P",
        "colab_type": "code",
        "colab": {}
      },
      "cell_type": "code",
      "source": [
        "#----------\n",
        "spot=100\n",
        "rate=.05\n",
        "\n",
        "otype=1\n",
        "marturity=2/12\n",
        "num_step=8\n",
        "strike_list=[97,99,101,103]\n",
        "market_price_list=[\n",
        "    3.7925736094875964,\n",
        "    2.5429985313737244,\n",
        "    1.6026613800895042,\n",
        "    0.9366198675047346]"
      ],
      "execution_count": 0,
      "outputs": []
    },
    {
      "metadata": {
        "id": "TMmevRiN4pk4",
        "colab_type": "code",
        "colab": {}
      },
      "cell_type": "code",
      "source": [
        "def erro_function(sigma, strike_list,market_price_list):\n",
        "  erro=0\n",
        "  gbm1 = Gbm_1d(init_state=spot, drift_ratio=rate, vol_ratio=sigma)\n",
        "  for strike, market_price in zip(strike_list,market_price_list):\n",
        "    erro+=(gbm1.bsm_geometric_asian_price(otype=1, strike=strike,marturity=marturity, num_step=8)-market_price)**2\n",
        "  return erro\n",
        "    \n",
        "def calibration_Absm(strike_list,market_price_list):\n",
        "  init_vol=.1\n",
        "  return so.fmin(erro_function, init_vol, args = (strike_list, market_price_list), disp = 0)[0]"
      ],
      "execution_count": 0,
      "outputs": []
    },
    {
      "metadata": {
        "id": "waGwLpFM5CQs",
        "colab_type": "code",
        "outputId": "f776e92d-c58b-440e-e7c4-8f3cdaab4d85",
        "colab": {
          "base_uri": "https://localhost:8080/",
          "height": 34
        }
      },
      "cell_type": "code",
      "source": [
        "calibration_Absm(strike_list,market_price_list)"
      ],
      "execution_count": 0,
      "outputs": [
        {
          "output_type": "execute_result",
          "data": {
            "text/plain": [
              "0.20257812500000033"
            ]
          },
          "metadata": {
            "tags": []
          },
          "execution_count": 29
        }
      ]
    },
    {
      "metadata": {
        "id": "a8ZTZ-WJ8ky_",
        "colab_type": "code",
        "outputId": "4504de8e-b355-445b-c128-74bbfa2c18ec",
        "colab": {
          "base_uri": "https://localhost:8080/",
          "height": 85
        }
      },
      "cell_type": "code",
      "source": [
        "sigma=0.20257812500000033\n",
        "gbm1 = Gbm_1d(init_state=spot, drift_ratio=rate, vol_ratio=sigma)\n",
        "for strike, market_price in zip(strike_list,market_price_list):\n",
        "  print(gbm1.bsm_geometric_asian_price(otype=1, strike=strike,marturity=marturity, num_step=8))"
      ],
      "execution_count": 0,
      "outputs": [
        {
          "output_type": "stream",
          "text": [
            "3.9397222494782103\n",
            "2.5789391451123804\n",
            "1.545406418873814\n",
            "0.8404502752683524\n"
          ],
          "name": "stdout"
        }
      ]
    },
    {
      "metadata": {
        "id": "ueihcZMy9psN",
        "colab_type": "code",
        "colab": {}
      },
      "cell_type": "code",
      "source": [
        ""
      ],
      "execution_count": 0,
      "outputs": []
    }
  ]
}