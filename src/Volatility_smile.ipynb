{
  "nbformat": 4,
  "nbformat_minor": 0,
  "metadata": {
    "colab": {
      "name": "Volatility smile.ipynb",
      "version": "0.3.2",
      "provenance": [],
      "include_colab_link": true
    },
    "kernelspec": {
      "name": "python3",
      "display_name": "Python 3"
    }
  },
  "cells": [
    {
      "cell_type": "markdown",
      "metadata": {
        "id": "view-in-github",
        "colab_type": "text"
      },
      "source": [
        "<a href=\"https://colab.research.google.com/github/ZhyShe/18ma573ZhiyuanShe/blob/master/src/Volatility_smile.ipynb\" target=\"_parent\"><img src=\"https://colab.research.google.com/assets/colab-badge.svg\" alt=\"Open In Colab\"/></a>"
      ]
    },
    {
      "metadata": {
        "id": "q0dyvyr8EiY3",
        "colab_type": "code",
        "colab": {
          "base_uri": "https://localhost:8080/",
          "height": 136
        },
        "outputId": "33a4f3ea-7734-443c-a175-dfca30c3903b"
      },
      "cell_type": "code",
      "source": [
        "!git clone https://github.com/ZhyShe/18ma573ZhiyuanShe"
      ],
      "execution_count": 18,
      "outputs": [
        {
          "output_type": "stream",
          "text": [
            "Cloning into '18ma573ZhiyuanShe'...\n",
            "remote: Enumerating objects: 172, done.\u001b[K\n",
            "remote: Counting objects:   0% (1/172)   \u001b[K\rremote: Counting objects:   1% (2/172)   \u001b[K\rremote: Counting objects:   2% (4/172)   \u001b[K\rremote: Counting objects:   3% (6/172)   \u001b[K\rremote: Counting objects:   4% (7/172)   \u001b[K\rremote: Counting objects:   5% (9/172)   \u001b[K\rremote: Counting objects:   6% (11/172)   \u001b[K\rremote: Counting objects:   7% (13/172)   \u001b[K\rremote: Counting objects:   8% (14/172)   \u001b[K\rremote: Counting objects:   9% (16/172)   \u001b[K\rremote: Counting objects:  10% (18/172)   \u001b[K\rremote: Counting objects:  11% (19/172)   \u001b[K\rremote: Counting objects:  12% (21/172)   \u001b[K\rremote: Counting objects:  13% (23/172)   \u001b[K\rremote: Counting objects:  14% (25/172)   \u001b[K\rremote: Counting objects:  15% (26/172)   \u001b[K\rremote: Counting objects:  16% (28/172)   \u001b[K\rremote: Counting objects:  17% (30/172)   \u001b[K\rremote: Counting objects:  18% (31/172)   \u001b[K\rremote: Counting objects:  19% (33/172)   \rremote: Counting objects:  20% (35/172)   \u001b[K\rremote: Counting objects:  21% (37/172)   \u001b[K\rremote: Counting objects:  22% (38/172)   \u001b[K\rremote: Counting objects:  23% (40/172)   \u001b[K\rremote: Counting objects:  24% (42/172)   \u001b[K\rremote: Counting objects:  25% (43/172)   \u001b[K\rremote: Counting objects:  26% (45/172)   \u001b[K\rremote: Counting objects:  27% (47/172)   \u001b[K\rremote: Counting objects:  28% (49/172)   \u001b[K\rremote: Counting objects:  29% (50/172)   \u001b[K\rremote: Counting objects:  30% (52/172)   \u001b[K\rremote: Counting objects:  31% (54/172)   \u001b[K\rremote: Counting objects:  32% (56/172)   \u001b[K\rremote: Counting objects:  33% (57/172)   \u001b[K\rremote: Counting objects:  34% (59/172)   \u001b[K\rremote: Counting objects:  35% (61/172)   \u001b[K\rremote: Counting objects:  36% (62/172)   \u001b[K\rremote: Counting objects:  37% (64/172)   \u001b[K\rremote: Counting objects:  38% (66/172)   \u001b[K\rremote: Counting objects:  39% (68/172)   \u001b[K\rremote: Counting objects:  40% (69/172)   \u001b[K\rremote: Counting objects:  41% (71/172)   \u001b[K\rremote: Counting objects:  42% (73/172)   \u001b[K\rremote: Counting objects:  43% (74/172)   \u001b[K\rremote: Counting objects:  44% (76/172)   \u001b[K\rremote: Counting objects:  45% (78/172)   \u001b[K\rremote: Counting objects:  46% (80/172)   \u001b[K\rremote: Counting objects:  47% (81/172)   \u001b[K\rremote: Counting objects:  48% (83/172)   \u001b[K\rremote: Counting objects:  49% (85/172)   \u001b[K\rremote: Counting objects:  50% (86/172)   \u001b[K\rremote: Counting objects:  51% (88/172)   \u001b[K\rremote: Counting objects:  52% (90/172)   \u001b[K\rremote: Counting objects:  53% (92/172)   \u001b[K\rremote: Counting objects:  54% (93/172)   \u001b[K\rremote: Counting objects:  55% (95/172)   \u001b[K\rremote: Counting objects:  56% (97/172)   \u001b[K\rremote: Counting objects:  57% (99/172)   \u001b[K\rremote: Counting objects:  58% (100/172)   \u001b[K\rremote: Counting objects:  59% (102/172)   \u001b[K\rremote: Counting objects:  60% (104/172)   \u001b[K\rremote: Counting objects:  61% (105/172)   \u001b[K\rremote: Counting objects:  62% (107/172)   \u001b[K\rremote: Counting objects:  63% (109/172)   \u001b[K\rremote: Counting objects:  64% (111/172)   \u001b[K\rremote: Counting objects:  65% (112/172)   \u001b[K\rremote: Counting objects:  66% (114/172)   \u001b[K\rremote: Counting objects:  67% (116/172)   \u001b[K\rremote: Counting objects:  68% (117/172)   \u001b[K\rremote: Counting objects:  69% (119/172)   \u001b[K\rremote: Counting objects:  70% (121/172)   \u001b[K\rremote: Counting objects:  71% (123/172)   \u001b[K\rremote: Counting objects:  72% (124/172)   \u001b[K\rremote: Counting objects:  73% (126/172)   \u001b[K\rremote: Counting objects:  74% (128/172)   \u001b[K\rremote: Counting objects:  75% (129/172)   \u001b[K\rremote: Counting objects:  76% (131/172)   \u001b[K\rremote: Counting objects:  77% (133/172)   \u001b[K\rremote: Counting objects:  78% (135/172)   \u001b[K\rremote: Counting objects:  79% (136/172)   \u001b[K\rremote: Counting objects:  80% (138/172)   \u001b[K\rremote: Counting objects:  81% (140/172)   \u001b[K\rremote: Counting objects:  82% (142/172)   \u001b[K\rremote: Counting objects:  83% (143/172)   \u001b[K\rremote: Counting objects:  84% (145/172)   \u001b[K\rremote: Counting objects:  85% (147/172)   \u001b[K\rremote: Counting objects:  86% (148/172)   \u001b[K\rremote: Counting objects:  87% (150/172)   \u001b[K\rremote: Counting objects:  88% (152/172)   \u001b[K\rremote: Counting objects:  89% (154/172)   \u001b[K\rremote: Counting objects:  90% (155/172)   \u001b[K\rremote: Counting objects:  91% (157/172)   \u001b[K\rremote: Counting objects:  92% (159/172)   \u001b[K\rremote: Counting objects:  93% (160/172)   \u001b[K\rremote: Counting objects:  94% (162/172)   \u001b[K\rremote: Counting objects:  95% (164/172)   \u001b[K\rremote: Counting objects:  96% (166/172)   \u001b[K\rremote: Counting objects:  97% (167/172)   \u001b[K\rremote: Counting objects:  98% (169/172)   \u001b[K\rremote: Counting objects:  99% (171/172)   \u001b[K\rremote: Counting objects: 100% (172/172)   \u001b[K\rremote: Counting objects: 100% (172/172), done.\u001b[K\n",
            "remote: Compressing objects:   0% (1/169)   \u001b[K\rremote: Compressing objects:   1% (2/169)   \u001b[K\rremote: Compressing objects:   2% (4/169)   \u001b[K\rremote: Compressing objects:   3% (6/169)   \u001b[K\rremote: Compressing objects:   4% (7/169)   \u001b[K\rremote: Compressing objects:   5% (9/169)   \u001b[K\rremote: Compressing objects:   6% (11/169)   \u001b[K\rremote: Compressing objects:   7% (12/169)   \u001b[K\rremote: Compressing objects:   8% (14/169)   \u001b[K\rremote: Compressing objects:   9% (16/169)   \u001b[K\rremote: Compressing objects:  10% (17/169)   \u001b[K\rremote: Compressing objects:  11% (19/169)   \u001b[K\rremote: Compressing objects:  12% (21/169)   \u001b[K\rremote: Compressing objects:  13% (22/169)   \u001b[K\rremote: Compressing objects:  14% (24/169)   \u001b[K\rremote: Compressing objects:  15% (26/169)   \u001b[K\rremote: Compressing objects:  16% (28/169)   \u001b[K\rremote: Compressing objects:  17% (29/169)   \u001b[K\rremote: Compressing objects:  18% (31/169)   \u001b[K\rremote: Compressing objects:  19% (33/169)   \u001b[K\rremote: Compressing objects:  20% (34/169)   \u001b[K\rremote: Compressing objects:  21% (36/169)   \u001b[K\rremote: Compressing objects:  22% (38/169)   \u001b[K\rremote: Compressing objects:  23% (39/169)   \u001b[K\rremote: Compressing objects:  24% (41/169)   \u001b[K\rremote: Compressing objects:  25% (43/169)   \u001b[K\rremote: Compressing objects:  26% (44/169)   \u001b[K\rremote: Compressing objects:  27% (46/169)   \u001b[K\rremote: Compressing objects:  28% (48/169)   \u001b[K\rremote: Compressing objects:  29% (50/169)   \u001b[K\rremote: Compressing objects:  30% (51/169)   \u001b[K\rremote: Compressing objects:  31% (53/169)   \u001b[K\rremote: Compressing objects:  32% (55/169)   \u001b[K\rremote: Compressing objects:  33% (56/169)   \u001b[K\rremote: Compressing objects:  34% (58/169)   \u001b[K\rremote: Compressing objects:  35% (60/169)   \u001b[K\rremote: Compressing objects:  36% (61/169)   \u001b[K\rremote: Compressing objects:  37% (63/169)   \u001b[K\rremote: Compressing objects:  38% (65/169)   \u001b[K\rremote: Compressing objects:  39% (66/169)   \u001b[K\rremote: Compressing objects:  40% (68/169)   \u001b[K\rremote: Compressing objects:  41% (70/169)   \u001b[K\rremote: Compressing objects:  42% (71/169)   \u001b[K\rremote: Compressing objects:  43% (73/169)   \u001b[K\rremote: Compressing objects:  44% (75/169)   \u001b[K\rremote: Compressing objects:  45% (77/169)   \u001b[K\rremote: Compressing objects:  46% (78/169)   \u001b[K\rremote: Compressing objects:  47% (80/169)   \u001b[K\rremote: Compressing objects:  48% (82/169)   \u001b[K\rremote: Compressing objects:  49% (83/169)   \u001b[K\rremote: Compressing objects:  50% (85/169)   \u001b[K\rremote: Compressing objects:  51% (87/169)   \u001b[K\rremote: Compressing objects:  52% (88/169)   \u001b[K\rremote: Compressing objects:  53% (90/169)   \u001b[K\rremote: Compressing objects:  54% (92/169)   \u001b[K\rremote: Compressing objects:  55% (93/169)   \u001b[K\rremote: Compressing objects:  56% (95/169)   \u001b[K\rremote: Compressing objects:  57% (97/169)   \u001b[K\rremote: Compressing objects:  58% (99/169)   \u001b[K\rremote: Compressing objects:  59% (100/169)   \u001b[K\rremote: Compressing objects:  60% (102/169)   \u001b[K\rremote: Compressing objects:  61% (104/169)   \u001b[K\rremote: Compressing objects:  62% (105/169)   \u001b[K\rremote: Compressing objects:  63% (107/169)   \u001b[K\rremote: Compressing objects:  64% (109/169)   \u001b[K\rremote: Compressing objects:  65% (110/169)   \u001b[K\rremote: Compressing objects:  66% (112/169)   \u001b[K\rremote: Compressing objects:  67% (114/169)   \u001b[K\rremote: Compressing objects:  68% (115/169)   \u001b[K\rremote: Compressing objects:  69% (117/169)   \u001b[K\rremote: Compressing objects:  70% (119/169)   \u001b[K\rremote: Compressing objects:  71% (120/169)   \u001b[K\rremote: Compressing objects:  72% (122/169)   \u001b[K\rremote: Compressing objects:  73% (124/169)   \u001b[K\rremote: Compressing objects:  74% (126/169)   \u001b[K\rremote: Compressing objects:  75% (127/169)   \u001b[K\rremote: Compressing objects:  76% (129/169)   \u001b[K\rremote: Compressing objects:  77% (131/169)   \u001b[K\rremote: Compressing objects:  78% (132/169)   \u001b[K\rremote: Compressing objects:  79% (134/169)   \u001b[K\rremote: Compressing objects:  80% (136/169)   \u001b[K\rremote: Compressing objects:  81% (137/169)   \u001b[K\rremote: Compressing objects:  82% (139/169)   \u001b[K\rremote: Compressing objects:  83% (141/169)   \u001b[K\rremote: Compressing objects:  84% (142/169)   \u001b[K\rremote: Compressing objects:  85% (144/169)   \u001b[K\rremote: Compressing objects:  86% (146/169)   \u001b[K\rremote: Compressing objects:  87% (148/169)   \u001b[K\rremote: Compressing objects:  88% (149/169)   \u001b[K\rremote: Compressing objects:  89% (151/169)   \u001b[K\rremote: Compressing objects:  90% (153/169)   \u001b[K\rremote: Compressing objects:  91% (154/169)   \u001b[K\rremote: Compressing objects:  92% (156/169)   \u001b[K\rremote: Compressing objects:  93% (158/169)   \u001b[K\rremote: Compressing objects:  94% (159/169)   \u001b[K\rremote: Compressing objects:  95% (161/169)   \u001b[K\rremote: Compressing objects:  96% (163/169)   \u001b[K\rremote: Compressing objects:  97% (164/169)   \u001b[K\rremote: Compressing objects:  98% (166/169)   \u001b[K\rremote: Compressing objects:  99% (168/169)   \u001b[K\rremote: Compressing objects: 100% (169/169)   \u001b[K\rremote: Compressing objects: 100% (169/169), done.\u001b[K\n",
            "Receiving objects:   0% (1/172)   \rReceiving objects:   1% (2/172)   \rReceiving objects:   2% (4/172)   \rReceiving objects:   3% (6/172)   \rReceiving objects:   4% (7/172)   \rReceiving objects:   5% (9/172)   \rReceiving objects:   6% (11/172)   \rReceiving objects:   7% (13/172)   \rReceiving objects:   8% (14/172)   \rReceiving objects:   9% (16/172)   \rReceiving objects:  10% (18/172)   \rReceiving objects:  11% (19/172)   \rReceiving objects:  12% (21/172)   \rReceiving objects:  13% (23/172)   \rReceiving objects:  14% (25/172)   \rReceiving objects:  15% (26/172)   \rReceiving objects:  16% (28/172)   \rReceiving objects:  17% (30/172)   \rReceiving objects:  18% (31/172)   \rReceiving objects:  19% (33/172)   \rReceiving objects:  20% (35/172)   \rReceiving objects:  21% (37/172)   \rReceiving objects:  22% (38/172)   \rReceiving objects:  23% (40/172)   \rReceiving objects:  24% (42/172)   \rReceiving objects:  25% (43/172)   \rReceiving objects:  26% (45/172)   \rReceiving objects:  27% (47/172)   \rReceiving objects:  28% (49/172)   \rReceiving objects:  29% (50/172)   \rReceiving objects:  30% (52/172)   \rReceiving objects:  31% (54/172)   \rReceiving objects:  32% (56/172)   \rReceiving objects:  33% (57/172)   \rReceiving objects:  34% (59/172)   \rReceiving objects:  35% (61/172)   \rReceiving objects:  36% (62/172)   \rReceiving objects:  37% (64/172)   \rReceiving objects:  38% (66/172)   \rReceiving objects:  39% (68/172)   \rReceiving objects:  40% (69/172)   \rReceiving objects:  41% (71/172)   \rReceiving objects:  42% (73/172)   \rReceiving objects:  43% (74/172)   \rReceiving objects:  44% (76/172)   \rReceiving objects:  45% (78/172)   \rReceiving objects:  46% (80/172)   \rReceiving objects:  47% (81/172)   \rReceiving objects:  48% (83/172)   \rReceiving objects:  49% (85/172)   \rReceiving objects:  50% (86/172)   \rReceiving objects:  51% (88/172)   \rReceiving objects:  52% (90/172)   \rReceiving objects:  53% (92/172)   \rReceiving objects:  54% (93/172)   \rReceiving objects:  55% (95/172)   \rReceiving objects:  56% (97/172)   \rReceiving objects:  57% (99/172)   \rReceiving objects:  58% (100/172)   \rReceiving objects:  59% (102/172)   \rReceiving objects:  60% (104/172)   \rReceiving objects:  61% (105/172)   \rReceiving objects:  62% (107/172)   \rReceiving objects:  63% (109/172)   \rReceiving objects:  64% (111/172)   \rReceiving objects:  65% (112/172)   \rReceiving objects:  66% (114/172)   \rReceiving objects:  67% (116/172)   \rReceiving objects:  68% (117/172)   \rReceiving objects:  69% (119/172)   \rReceiving objects:  70% (121/172)   \rReceiving objects:  71% (123/172)   \rReceiving objects:  72% (124/172)   \rReceiving objects:  73% (126/172)   \rReceiving objects:  74% (128/172)   \rReceiving objects:  75% (129/172)   \rReceiving objects:  76% (131/172)   \rReceiving objects:  77% (133/172)   \rReceiving objects:  78% (135/172)   \rReceiving objects:  79% (136/172)   \rReceiving objects:  80% (138/172)   \rReceiving objects:  81% (140/172)   \rReceiving objects:  82% (142/172)   \rReceiving objects:  83% (143/172)   \rReceiving objects:  84% (145/172)   \rReceiving objects:  85% (147/172)   \rReceiving objects:  86% (148/172)   \rReceiving objects:  87% (150/172)   \rReceiving objects:  88% (152/172)   \rReceiving objects:  89% (154/172)   \rReceiving objects:  90% (155/172)   \rReceiving objects:  91% (157/172)   \rReceiving objects:  92% (159/172)   \rReceiving objects:  93% (160/172)   \rremote: Total 172 (delta 59), reused 0 (delta 0), pack-reused 0\u001b[K\n",
            "Receiving objects:  94% (162/172)   \rReceiving objects:  95% (164/172)   \rReceiving objects:  96% (166/172)   \rReceiving objects:  97% (167/172)   \rReceiving objects:  98% (169/172)   \rReceiving objects:  99% (171/172)   \rReceiving objects: 100% (172/172)   \rReceiving objects: 100% (172/172), 231.38 KiB | 10.52 MiB/s, done.\n",
            "Resolving deltas:   0% (0/59)   \rResolving deltas:  22% (13/59)   \rResolving deltas:  57% (34/59)   \rResolving deltas:  59% (35/59)   \rResolving deltas:  61% (36/59)   \rResolving deltas:  62% (37/59)   \rResolving deltas:  67% (40/59)   \rResolving deltas:  69% (41/59)   \rResolving deltas:  76% (45/59)   \rResolving deltas:  81% (48/59)   \rResolving deltas:  86% (51/59)   \rResolving deltas:  88% (52/59)   \rResolving deltas: 100% (59/59)   \rResolving deltas: 100% (59/59), done.\n"
          ],
          "name": "stdout"
        }
      ]
    },
    {
      "metadata": {
        "id": "CRAalyelISa1",
        "colab_type": "code",
        "colab": {
          "base_uri": "https://localhost:8080/",
          "height": 34
        },
        "outputId": "66c062bb-00f2-4f04-ff75-2d63afd1e523"
      },
      "cell_type": "code",
      "source": [
        "cd/content/18ma573ZhiyuanShe/src/"
      ],
      "execution_count": 19,
      "outputs": [
        {
          "output_type": "stream",
          "text": [
            "/content/18ma573ZhiyuanShe/src\n"
          ],
          "name": "stdout"
        }
      ]
    },
    {
      "metadata": {
        "id": "k_nKbPA4IZWr",
        "colab_type": "code",
        "colab": {
          "base_uri": "https://localhost:8080/",
          "height": 34
        },
        "outputId": "a55dd625-28cf-4180-80fb-8e376604bb8a"
      },
      "cell_type": "code",
      "source": [
        "ls hw3_py.py\n"
      ],
      "execution_count": 20,
      "outputs": [
        {
          "output_type": "stream",
          "text": [
            "hw3_py.py\n"
          ],
          "name": "stdout"
        }
      ]
    },
    {
      "metadata": {
        "id": "IGZYED-nIsTn",
        "colab_type": "code",
        "colab": {}
      },
      "cell_type": "code",
      "source": [
        "import numpy as np\n",
        "import matplotlib.pyplot as plt \n",
        "from hw3_py import GBM, Option\n",
        "import scipy.optimize as so\n",
        "from prettytable import PrettyTable"
      ],
      "execution_count": 0,
      "outputs": []
    },
    {
      "metadata": {
        "id": "HYwYwCKUJCEW",
        "colab_type": "code",
        "colab": {
          "base_uri": "https://localhost:8080/",
          "height": 221
        },
        "outputId": "94bede45-941e-4508-e0c9-fac9f4de6b70"
      },
      "cell_type": "code",
      "source": [
        "'''\n",
        "Code here is used to read data in src file\n",
        "\n",
        "'''\n",
        "#------------------\n",
        "## Code starts here\n",
        "#------------------\n",
        "\n",
        "Odata=np.loadtxt('optiondata2.dat', comments='#', delimiter=',')\n",
        "table = PrettyTable(['otype', 'maturity', 'strike', 'option_price'])\n",
        "[table.add_row(row) for row in Odata]\n",
        "print(table)"
      ],
      "execution_count": 22,
      "outputs": [
        {
          "output_type": "stream",
          "text": [
            "+-------+---------------------+--------+--------------------+\n",
            "| otype |       maturity      | strike |    option_price    |\n",
            "+-------+---------------------+--------+--------------------+\n",
            "|  1.0  | 0.16666666666666666 |  97.0  |  5.3270546077076   |\n",
            "|  1.0  | 0.16666666666666666 |  99.0  |  3.86224255083792  |\n",
            "|  1.0  | 0.16666666666666666 | 101.0  | 2.7204370993761713 |\n",
            "|  1.0  | 0.16666666666666666 | 103.0  | 2.120279298119744  |\n",
            "|  1.0  |  0.4166666666666667 |  97.0  | 7.237563067159547  |\n",
            "|  1.0  |  0.4166666666666667 |  99.0  | 5.950534606338715  |\n",
            "|  1.0  |  0.4166666666666667 | 101.0  | 5.264012203816427  |\n",
            "|  1.0  |  0.4166666666666667 | 103.0  | 4.974934217069144  |\n",
            "+-------+---------------------+--------+--------------------+\n"
          ],
          "name": "stdout"
        }
      ]
    },
    {
      "metadata": {
        "id": "FYil8tgLKeHc",
        "colab_type": "code",
        "colab": {}
      },
      "cell_type": "code",
      "source": [
        "gbm = GBM(\n",
        "    init_state = 100, #market data\n",
        "    drift_ratio = .05, #market data\n",
        "    vol_ratio = .1 #initial guess\n",
        ")\n",
        "\n",
        "def Clist(Odata):\n",
        "  Olist=[]\n",
        "  for row in Odata:\n",
        "    otype, maturity, strike, option_price=row\n",
        "    Olist.append(Option(Otype=otype, Strike=strike, Maturity=maturity, Market_Price=option_price))\n",
        "  return Olist\n",
        "\n",
        "def err_function(vol, gbm, Olist):\n",
        "  gbm.vol_ratio=vol\n",
        "  err=0\n",
        "  for option in Olist:\n",
        "    err=err+(GBM.bsm_price(gbm, option)-option.Market_Price)**2\n",
        "  return err\n",
        "\n",
        "def calibration_bsm(gbm, Olist):\n",
        "  init_vol=.1\n",
        "  return so.fmin(err_function, init_vol, args = (gbm, Olist), disp = 0)[0]"
      ],
      "execution_count": 0,
      "outputs": []
    },
    {
      "metadata": {
        "id": "QV_f0XDyh3Tz",
        "colab_type": "code",
        "colab": {}
      },
      "cell_type": "code",
      "source": [
        "filter1 = list(filter(lambda x: x.Maturity == 2/12, Olist))\n",
        "calibrated_volatility1 = calibration_bsm(gbm, filter1)"
      ],
      "execution_count": 0,
      "outputs": []
    },
    {
      "metadata": {
        "id": "7PDDDG01mhYD",
        "colab_type": "code",
        "colab": {
          "base_uri": "https://localhost:8080/",
          "height": 51
        },
        "outputId": "14a9b716-f277-4b30-e15a-f8faa224cb52"
      },
      "cell_type": "code",
      "source": [
        "gbm.vol_ratio = calibrated_volatility1\n",
        "\n",
        "#find calibrated option price\n",
        "filter1_calibrated_price = [GBM.bsm_price(gbm, filter1[i]) for i in range(len(filter1))]\n",
        "print('>>>>>>>>> this is option price calculated from calibrated vol')\n",
        "filter1_calibrated_price"
      ],
      "execution_count": 28,
      "outputs": [
        {
          "output_type": "stream",
          "text": [
            ">>>>>>>>> this is option price calculated from calibrated vol\n"
          ],
          "name": "stdout"
        },
        {
          "output_type": "execute_result",
          "data": {
            "text/plain": [
              "[5.184221823763238, 3.9225121216534404, 2.8709333662230563, 2.0297005112870465]"
            ]
          },
          "metadata": {
            "tags": []
          },
          "execution_count": 28
        }
      ]
    },
    {
      "metadata": {
        "id": "2hnJokppqShd",
        "colab_type": "code",
        "colab": {
          "base_uri": "https://localhost:8080/",
          "height": 365
        },
        "outputId": "1d8dc14b-ea8d-45fa-e86d-58110c1e49f8"
      },
      "cell_type": "code",
      "source": [
        "x_co = [filter1[i].Strike for i in range(len(filter1))]\n",
        "y_co = [filter1[i].Market_Price for i in range(len(filter1))]\n",
        "plt.scatter(x_co, y_co,color='r', label='market price')\n",
        "\n",
        "y_co = filter1_calibrated_price\n",
        "plt.plot(x_co, y_co, label = 'calib price')\n",
        "\n",
        "plt.ylabel('option price')\n",
        "plt.xlabel('strike with fixed 2-mon maturity')\n",
        "plt.legend()\n",
        "plt.show()"
      ],
      "execution_count": 39,
      "outputs": [
        {
          "output_type": "display_data",
          "data": {
            "image/png": "[encoded data removed]",
            "text/plain": [
              "<Figure size 576x396 with 1 Axes>"
            ]
          },
          "metadata": {
            "tags": []
          }
        }
      ]
    },
    {
      "metadata": {
        "id": "In04eG81qgu_",
        "colab_type": "code",
        "colab": {}
      },
      "cell_type": "code",
      "source": [
        ""
      ],
      "execution_count": 0,
      "outputs": []
    }
  ]
}