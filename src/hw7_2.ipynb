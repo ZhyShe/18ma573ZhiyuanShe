{
  "nbformat": 4,
  "nbformat_minor": 0,
  "metadata": {
    "colab": {
      "name": "hw7_2.ipynb",
      "version": "0.3.2",
      "provenance": [],
      "include_colab_link": true
    },
    "kernelspec": {
      "name": "python3",
      "display_name": "Python 3"
    },
    "accelerator": "TPU"
  },
  "cells": [
    {
      "cell_type": "markdown",
      "metadata": {
        "id": "view-in-github",
        "colab_type": "text"
      },
      "source": [
        "<a href=\"https://colab.research.google.com/github/ZhyShe/18ma573ZhiyuanShe/blob/master/src/hw7_2.ipynb\" target=\"_parent\"><img src=\"https://colab.research.google.com/assets/colab-badge.svg\" alt=\"Open In Colab\"/></a>"
      ]
    },
    {
      "metadata": {
        "id": "-J27Ga0Cl6U2",
        "colab_type": "code",
        "colab": {
          "base_uri": "https://localhost:8080/",
          "height": 34
        },
        "outputId": "85d505a1-e33e-4165-e679-6a831b025d05"
      },
      "cell_type": "code",
      "source": [
        "! git clone https://github.com/ZhyShe/18ma573ZhiyuanShe"
      ],
      "execution_count": 11,
      "outputs": [
        {
          "output_type": "stream",
          "text": [
            "fatal: destination path '18ma573ZhiyuanShe' already exists and is not an empty directory.\n"
          ],
          "name": "stdout"
        }
      ]
    },
    {
      "metadata": {
        "id": "w6PGKmONopje",
        "colab_type": "code",
        "colab": {
          "base_uri": "https://localhost:8080/",
          "height": 34
        },
        "outputId": "32fd1e78-fc13-449e-957b-4333e83a8e06"
      },
      "cell_type": "code",
      "source": [
        "cd /content/18ma573ZhiyuanShe/src/"
      ],
      "execution_count": 12,
      "outputs": [
        {
          "output_type": "stream",
          "text": [
            "/content/18ma573ZhiyuanShe/src\n"
          ],
          "name": "stdout"
        }
      ]
    },
    {
      "metadata": {
        "id": "MdspnWvvourC",
        "colab_type": "code",
        "colab": {
          "base_uri": "https://localhost:8080/",
          "height": 34
        },
        "outputId": "6d7ca4a4-ddfe-415d-933e-3b9e75025b56"
      },
      "cell_type": "code",
      "source": [
        "ls contract_v01.py\n"
      ],
      "execution_count": 13,
      "outputs": [
        {
          "output_type": "stream",
          "text": [
            "contract_v01.py\n"
          ],
          "name": "stdout"
        }
      ]
    },
    {
      "metadata": {
        "id": "fYnVkCmooyOQ",
        "colab_type": "code",
        "colab": {
          "base_uri": "https://localhost:8080/",
          "height": 34
        },
        "outputId": "92f16a75-69d7-4df1-9459-14a99acff2a1"
      },
      "cell_type": "code",
      "source": [
        "ls sde_1d_v01.py"
      ],
      "execution_count": 14,
      "outputs": [
        {
          "output_type": "stream",
          "text": [
            "sde_1d_v01.py\n"
          ],
          "name": "stdout"
        }
      ]
    },
    {
      "metadata": {
        "id": "dfLCnaoNo0gM",
        "colab_type": "code",
        "colab": {}
      },
      "cell_type": "code",
      "source": [
        "from contract_v01 import VanillaOption\n",
        "from sde_1d_v01 import *\n",
        "import numpy as np\n",
        "import matplotlib.pyplot as plt"
      ],
      "execution_count": 0,
      "outputs": []
    },
    {
      "metadata": {
        "id": "q1XK7BrUo5YT",
        "colab_type": "code",
        "colab": {}
      },
      "cell_type": "code",
      "source": [
        "def knock_in_price(s, K=96, H=85):\n",
        "  return 1000*(s[-1]>K)*(min(s)<H)"
      ],
      "execution_count": 0,
      "outputs": []
    },
    {
      "metadata": {
        "id": "Kfebc8bCrnmh",
        "colab_type": "code",
        "colab": {}
      },
      "cell_type": "code",
      "source": [
        "n=1000\n",
        "m=50\n",
        "k=100\n",
        "F=[]\n",
        "gbm_1d=Gbm_1d(init_state = 95, drift_ratio = .05, vol_ratio = .15)\n",
        "\n",
        "def Run(n,m): \n",
        "  for i in range(n):\n",
        "    w,T=BM_gen(0, 0.25, m)\n",
        "    s=gbm_1d.S_price(w,T)\n",
        "    F.append(knock_in_price(s))\n",
        "  F_mean=np.mean(F)\n",
        "  return F_mean\n",
        "\n",
        "def OMC(k, n, m):\n",
        "  F=[]\n",
        "  for _ in range(k):\n",
        "    F.append(Run(n,m))\n",
        "  return F\n",
        "    "
      ],
      "execution_count": 0,
      "outputs": []
    },
    {
      "metadata": {
        "id": "1j_EH6T-v8HY",
        "colab_type": "code",
        "colab": {}
      },
      "cell_type": "code",
      "source": [
        "F=OMC(1000, 1000, 50)"
      ],
      "execution_count": 0,
      "outputs": []
    },
    {
      "metadata": {
        "id": "w-4Wu4x7JSMz",
        "colab_type": "code",
        "colab": {
          "base_uri": "https://localhost:8080/",
          "height": 85
        },
        "outputId": "07a3bce6-008f-472a-f546-2d1fe471268b"
      },
      "cell_type": "code",
      "source": [
        "mean=np.mean(F)\n",
        "Price=mean*np.exp(-0.05*0.25)\n",
        "MSE=np.mean((np.array(F)-mean)**2)\n",
        "\n",
        "print('Price is %f' %Price)\n",
        "print('Mean is %f'%mean)\n",
        "print('MSE is %f'%MSE)\n",
        "print('95%'+' CI is (%f,%f)'%(mean-1.96*np.sqrt(MSE),mean+1.96*np.sqrt(MSE)))"
      ],
      "execution_count": 33,
      "outputs": [
        {
          "output_type": "stream",
          "text": [
            "Price is 0.559373\n",
            "Mean is 0.566409\n",
            "MSE is 0.000011\n",
            "95% CI is (0.559808,0.573010)\n"
          ],
          "name": "stdout"
        }
      ]
    },
    {
      "metadata": {
        "id": "AVaDwj-hP87M",
        "colab_type": "code",
        "colab": {}
      },
      "cell_type": "code",
      "source": [
        ""
      ],
      "execution_count": 0,
      "outputs": []
    }
  ]
}