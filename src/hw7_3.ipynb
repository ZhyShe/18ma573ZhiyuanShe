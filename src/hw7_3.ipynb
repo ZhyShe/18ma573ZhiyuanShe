{
  "nbformat": 4,
  "nbformat_minor": 0,
  "metadata": {
    "colab": {
      "name": "hw7_3.ipynb",
      "version": "0.3.2",
      "provenance": [],
      "include_colab_link": true
    },
    "kernelspec": {
      "name": "python3",
      "display_name": "Python 3"
    }
  },
  "cells": [
    {
      "cell_type": "markdown",
      "metadata": {
        "id": "view-in-github",
        "colab_type": "text"
      },
      "source": [
        "<a href=\"https://colab.research.google.com/github/ZhyShe/18ma573ZhiyuanShe/blob/master/src/hw7_3.ipynb\" target=\"_parent\"><img src=\"https://colab.research.google.com/assets/colab-badge.svg\" alt=\"Open In Colab\"/></a>"
      ]
    },
    {
      "metadata": {
        "id": "STjg0WSZkr7k",
        "colab_type": "text"
      },
      "cell_type": "markdown",
      "source": [
        "- Verify the solution.\n",
        "\n",
        "Verify the explicit form of $r_{t}$ given by\n",
        "\n",
        "$$r_{t} = r_{0}e^{-\\kappa t} + \\mu(1 - e^{-\\kappa t}) + \\sigma e^{-\\kappa t}\\int_{0}^{t}e^{\\kappa s} dW_{s}$$"
      ]
    },
    {
      "metadata": {
        "id": "Q9Nhfnk-k8Ue",
        "colab_type": "text"
      },
      "cell_type": "markdown",
      "source": [
        "Since \n",
        "$$\n",
        "dr_{t} = \\kappa(\\mu - r_{t})dt + \\sigma dW_{t}\n",
        "$$\n",
        "We have\n",
        "$$\n",
        "e^{kt}dr_t+ke^{kt}r_tdt=\\kappa\\mu e^{kt}dt+\\sigma e^{kt} dW_t\n",
        "$$\n",
        "Therefore, \n",
        "$$d(e^{kt}r_t)=\\kappa\\mu e^{kt}dt+\\sigma e^{kt} dW_t$$\n",
        "As a result, do integral both sides\n",
        "$$\n",
        "e^{kt}r_t-r_0=\\mu(e^{kt}-1)+\\int_0^te^{ks}dW_s\n",
        "$$\n",
        "So, $$r_t=r_{0}e^{-\\kappa t} + \\mu(1 - e^{-\\kappa t}) + \\sigma e^{-\\kappa t}\\int_{0}^{t}e^{\\kappa s} dW_{s}$$"
      ]
    },
    {
      "metadata": {
        "id": "p8_Ynnp4khSd",
        "colab_type": "code",
        "colab": {}
      },
      "cell_type": "code",
      "source": [
        "import numpy as np\n",
        "import pandas as pd\n",
        "import scipy.optimize as so\n",
        "\n",
        "def B(t,T,k):\n",
        "  return (1 - np.exp(-k *(T-t)))/k\n",
        "          \n",
        "def A(t,T,k,mu,sigma):\n",
        "  return (mu-sigma**2/(2*k**2))*(B(t,T,k)-(T-t))-(sigma**2/(4*k))*(B(t,T,k))**2"
      ],
      "execution_count": 0,
      "outputs": []
    },
    {
      "metadata": {
        "id": "giBKi7uYrbKY",
        "colab_type": "code",
        "colab": {}
      },
      "cell_type": "code",
      "source": [
        "def P(t,T,k,mu,sigma,r_0):\n",
        "  a=A(t,T,k,mu,sigma)-B(t,T,k)*r_0\n",
        "  return np.exp(a)\n",
        "\n",
        "def P1(t,T,k,mu,sigma,r_0):\n",
        "  loc=mu*T+(r_0-mu)*(1 - np.exp(-k *T))/k\n",
        "  vol=((sigma**2)/(2*(k**3)))*((2*k*T) - 3 + (4*np.exp(-1*k*T)) - np.exp(-2*k*T))\n",
        "  r = np.random.normal(loc,vol,1000)\n",
        "  P=np.exp(-r)\n",
        "  P=np.mean(P)\n",
        "  return P\n",
        "\n",
        "def L(t,T,P):\n",
        "  return (100/(T-t)) * (1/P - 1)"
      ],
      "execution_count": 0,
      "outputs": []
    },
    {
      "metadata": {
        "id": "jU5dlpt5sLxZ",
        "colab_type": "code",
        "colab": {}
      },
      "cell_type": "code",
      "source": [
        "theta = [.1, .05, .003, .03]\n",
        "k, mu, sigma, r_0 = theta\n",
        "t=0\n",
        "T=1"
      ],
      "execution_count": 0,
      "outputs": []
    },
    {
      "metadata": {
        "id": "aup7wlaMsPXn",
        "colab_type": "code",
        "colab": {
          "base_uri": "https://localhost:8080/",
          "height": 34
        },
        "outputId": "a249efa1-d1c0-4697-b353-16bf697fe1bf"
      },
      "cell_type": "code",
      "source": [
        "P_0=P(t,T,k,mu,sigma,r_0)\n",
        "print('ZCB P(0,1) price using ZCB formula price is %f' %P_0)"
      ],
      "execution_count": 27,
      "outputs": [
        {
          "output_type": "stream",
          "text": [
            "ZCB P(0,1) price using ZCB formula price is 0.969508\n"
          ],
          "name": "stdout"
        }
      ]
    },
    {
      "metadata": {
        "id": "L0T3NTwwvrWc",
        "colab_type": "code",
        "colab": {
          "base_uri": "https://localhost:8080/",
          "height": 34
        },
        "outputId": "9a49d0d6-be7f-4fbc-d0e3-1f3bc002576e"
      },
      "cell_type": "code",
      "source": [
        "P_1=P1(t,T,k,mu,sigma,r_0)\n",
        "print('ZCB P(0,1) price by exact sampling is %f' %P_1)"
      ],
      "execution_count": 28,
      "outputs": [
        {
          "output_type": "stream",
          "text": [
            "ZCB P(0,1) price by exact sampling is 0.969507\n"
          ],
          "name": "stdout"
        }
      ]
    },
    {
      "metadata": {
        "id": "MIUCF117vxZj",
        "colab_type": "code",
        "colab": {
          "base_uri": "https://localhost:8080/",
          "height": 51
        },
        "outputId": "88f1e4c5-83ee-4296-80f9-e5812004e9ec"
      },
      "cell_type": "code",
      "source": [
        "L_0=L(t,T,P_0)\n",
        "L_1=L(t,T,P_1)\n",
        "print('LIBOR L(0,1) price using ZCB formula price is %f' %L_0)\n",
        "print('LIBOR L(0,1) price using ZCB sample price is %f' %L_1)"
      ],
      "execution_count": 29,
      "outputs": [
        {
          "output_type": "stream",
          "text": [
            "LIBOR L(0,1) price using ZCB formula price is 3.145053\n",
            "LIBOR L(0,1) price using ZCB sample price is 3.145187\n"
          ],
          "name": "stdout"
        }
      ]
    },
    {
      "metadata": {
        "id": "4sUkK7fmxh7a",
        "colab_type": "code",
        "colab": {}
      },
      "cell_type": "code",
      "source": [
        "def S(t,T,k,mu,sigma,r_0,N):\n",
        "  Ps=[]\n",
        "  Ps1=[]\n",
        "  delta=(T-t)/N\n",
        "  for j in range(N):\n",
        "    Ps.append(P(t,t+(j+1)*delta,k,mu,sigma,r_0))\n",
        "    Ps1.append(P1(t,t+(j+1)*delta,k,mu,sigma,r_0))\n",
        "  c=delta*sum(Ps)\n",
        "  c1=delta*sum(Ps1)\n",
        "  a=1-P(t,T,k,mu,sigma,r_0)\n",
        "  a1=1-P1(t,T,k,mu,sigma,r_0)\n",
        "  return 100*a/c, 100*a1/c1\n",
        "  "
      ],
      "execution_count": 0,
      "outputs": []
    },
    {
      "metadata": {
        "id": "hL5YCAwNzDiL",
        "colab_type": "code",
        "colab": {
          "base_uri": "https://localhost:8080/",
          "height": 51
        },
        "outputId": "70811553-6882-45d8-ec9d-2f62d23e57b2"
      },
      "cell_type": "code",
      "source": [
        "S_0,S_1=S(0,5,k,mu,sigma,r_0,10)\n",
        "print(\"10-term swap rate with term length 1/2 year using the formula is %f\" %S_0)\n",
        "print(\"10-term swap rate with term length 1/2 year using exact sampling is %f\" %S_1)"
      ],
      "execution_count": 45,
      "outputs": [
        {
          "output_type": "stream",
          "text": [
            "10-term swap rate with term length 1/2 year using the formula is 3.441821\n",
            "10-term swap rate with term length 1/2 year using exact sampling is 3.444207\n"
          ],
          "name": "stdout"
        }
      ]
    },
    {
      "metadata": {
        "id": "Z8mpe402zH2o",
        "colab_type": "code",
        "colab": {}
      },
      "cell_type": "code",
      "source": [
        "dfLiborRate = pd.DataFrame({'maturity (months)': [1, 2, 3, 6, 12],\n",
        "                           '20081029 rate(%)': [3.1175, 3.2738, 3.4200, 3.4275, 3.4213],\n",
        "                           '20110214 rate(%)': [0.2647, 0.2890, 0.3140, 0.4657, 0.7975]\n",
        "                           })\n",
        "\n",
        "libor_2008_10_29 = np.array([3.1175, 3.2738, 3.4200, 3.4275, 3.4213])\n",
        "libor_maturities = [1/12, 2/12, 3/12, 6/12, 12/12]"
      ],
      "execution_count": 0,
      "outputs": []
    },
    {
      "metadata": {
        "id": "QA9eESIh0opP",
        "colab_type": "code",
        "colab": {}
      },
      "cell_type": "code",
      "source": [
        "def err_function(x,libor_2008_10_29,libor_maturities):\n",
        "  k,mu,sigma,r_0=x\n",
        "  P_0=[]\n",
        "  for T in libor_maturities:\n",
        "    P_0.append(P(0,T,k,mu,sigma,r_0))\n",
        "  P_0=np.array(P_0)\n",
        "  return sum((P_0-libor_2008_10_29)**2)\n",
        "    "
      ],
      "execution_count": 0,
      "outputs": []
    },
    {
      "metadata": {
        "id": "F9yYfP9g66zg",
        "colab_type": "code",
        "colab": {
          "base_uri": "https://localhost:8080/",
          "height": 34
        },
        "outputId": "2e269b88-3e84-4ed9-f93e-a5bafea3290f"
      },
      "cell_type": "code",
      "source": [
        "x=np.array([k,mu,sigma,r_0])\n",
        "err_function(x, libor_2008_10_29,libor_maturities)"
      ],
      "execution_count": 97,
      "outputs": [
        {
          "output_type": "execute_result",
          "data": {
            "text/plain": [
              "27.55805596080814"
            ]
          },
          "metadata": {
            "tags": []
          },
          "execution_count": 97
        }
      ]
    },
    {
      "metadata": {
        "id": "TVK6beFE6_fT",
        "colab_type": "code",
        "colab": {}
      },
      "cell_type": "code",
      "source": [
        "def calibration(libor_maturities,libor_2008_10_29):\n",
        "  init_guess=np.array([.1, .05, .003, .03])\n",
        "  return so.fmin(err_function, init_guess, args = (libor_2008_10_29,libor_maturities), disp = 0)"
      ],
      "execution_count": 0,
      "outputs": []
    },
    {
      "metadata": {
        "id": "lxdGKSKO8UJu",
        "colab_type": "code",
        "colab": {
          "base_uri": "https://localhost:8080/",
          "height": 153
        },
        "outputId": "f162607c-029b-4448-a91c-9871377896c5"
      },
      "cell_type": "code",
      "source": [
        "c_k,c_mu,c_sigma,c_r=calibration(libor_maturities,libor_2008_10_29)"
      ],
      "execution_count": 99,
      "outputs": [
        {
          "output_type": "stream",
          "text": [
            "/usr/local/lib/python3.6/dist-packages/ipykernel_launcher.py:6: RuntimeWarning: overflow encountered in exp\n",
            "  \n",
            "/usr/local/lib/python3.6/dist-packages/ipykernel_launcher.py:9: RuntimeWarning: invalid value encountered in double_scalars\n",
            "  if __name__ == '__main__':\n",
            "/usr/local/lib/python3.6/dist-packages/ipykernel_launcher.py:9: RuntimeWarning: overflow encountered in double_scalars\n",
            "  if __name__ == '__main__':\n",
            "/usr/local/lib/python3.6/dist-packages/ipykernel_launcher.py:3: RuntimeWarning: overflow encountered in exp\n",
            "  This is separate from the ipykernel package so we can avoid doing imports until\n"
          ],
          "name": "stderr"
        }
      ]
    },
    {
      "metadata": {
        "id": "NV7AqoGB-xCh",
        "colab_type": "code",
        "colab": {}
      },
      "cell_type": "code",
      "source": [
        "xs=[]\n",
        "for T in libor_maturities:\n",
        "  xs.append(P1(0,T,c_k,c_mu,c_sigma,c_r))"
      ],
      "execution_count": 0,
      "outputs": []
    },
    {
      "metadata": {
        "id": "jQejsm4o_aJw",
        "colab_type": "code",
        "colab": {
          "base_uri": "https://localhost:8080/",
          "height": 365
        },
        "outputId": "dc6e3a2a-4590-47e3-96fe-5c70207972e0"
      },
      "cell_type": "code",
      "source": [
        "import matplotlib.pyplot as plt\n",
        "plt.plot(libor_maturities,xs,color='b',label='calibrated rate')\n",
        "plt.scatter(libor_maturities,libor_2008_10_29,color='r',label='market rate')\n",
        "plt.legend()\n",
        "plt.xlabel('maturities')\n",
        "plt.ylabel('rate')\n",
        "plt.xlim(0,1)\n",
        "plt.ylim(0,4)\n",
        "plt.show()\n"
      ],
      "execution_count": 115,
      "outputs": [
        {
          "output_type": "display_data",
          "data": {
            "image/png": "[encoded data removed]",
            "text/plain": [
              "<Figure size 576x396 with 1 Axes>"
            ]
          },
          "metadata": {
            "tags": []
          }
        }
      ]
    },
    {
      "metadata": {
        "id": "qaSUtM0PBgMP",
        "colab_type": "code",
        "colab": {}
      },
      "cell_type": "code",
      "source": [
        "swap_2008_10_29 = np.array([2.6967, 3.1557, 3.8111, 4.1497, 4.3638, 4.3753, 4.2772])\n",
        "swap_maturities = [2, 3, 5, 7, 10, 15, 30]\n",
        "swap_terms = [4, 6, 10, 14, 20, 30, 60]"
      ],
      "execution_count": 0,
      "outputs": []
    },
    {
      "metadata": {
        "id": "eUtiTumBDUSW",
        "colab_type": "code",
        "colab": {}
      },
      "cell_type": "code",
      "source": [
        "def err1_function(x,swap_terms,swap_2008_10_29):\n",
        "  k,mu,sigma,r_0=x\n",
        "  s=[]\n",
        "  for N in swap_terms:\n",
        "    s.append(S(0,N/2,k,mu,sigma,r_0,N)[0])\n",
        "  s=np.array(s)\n",
        "  return sum((s-swap_2008_10_29)**2)\n",
        "              "
      ],
      "execution_count": 0,
      "outputs": []
    },
    {
      "metadata": {
        "id": "cR2xkHgMHcvD",
        "colab_type": "code",
        "colab": {
          "base_uri": "https://localhost:8080/",
          "height": 34
        },
        "outputId": "95600d56-8522-467a-9936-90963dca45d6"
      },
      "cell_type": "code",
      "source": [
        "err1_function(x,swap_terms,swap_2008_10_29)"
      ],
      "execution_count": 129,
      "outputs": [
        {
          "output_type": "execute_result",
          "data": {
            "text/plain": [
              "1.3812164823969513"
            ]
          },
          "metadata": {
            "tags": []
          },
          "execution_count": 129
        }
      ]
    },
    {
      "metadata": {
        "id": "RUeCijIIHeo4",
        "colab_type": "code",
        "colab": {}
      },
      "cell_type": "code",
      "source": [
        "def calibration1(swap_terms,swap_2008_10_29):\n",
        "  init_guess=np.array([.1, .05, .003, .03])\n",
        "  return so.fmin(err1_function, init_guess, args = (swap_terms,swap_2008_10_29), disp = 0)"
      ],
      "execution_count": 0,
      "outputs": []
    },
    {
      "metadata": {
        "id": "Nwj6B3l2JE5J",
        "colab_type": "code",
        "colab": {}
      },
      "cell_type": "code",
      "source": [
        "c_k,c_mu,c_sigma,c_r=calibration1(swap_terms,swap_2008_10_29)"
      ],
      "execution_count": 0,
      "outputs": []
    },
    {
      "metadata": {
        "id": "SYNUndYLJHss",
        "colab_type": "code",
        "colab": {
          "base_uri": "https://localhost:8080/",
          "height": 361
        },
        "outputId": "a1b31d0a-de53-44e0-c53e-90c639067089"
      },
      "cell_type": "code",
      "source": [
        "xs=[]\n",
        "for N in swap_terms:\n",
        "  xs.append(S(0,N/2,c_k,c_mu,c_sigma,c_r,N)[0])\n",
        "plt.plot(swap_terms,xs,color='b',label='calibrated rate') \n",
        "plt.scatter(swap_terms,swap_2008_10_29,color='r',label='market rate')\n",
        "plt.legend()\n",
        "plt.xlabel('terms')\n",
        "plt.ylabel('Rate')\n",
        "plt.show()\n",
        "  "
      ],
      "execution_count": 137,
      "outputs": [
        {
          "output_type": "display_data",
          "data": {
            "image/png": "[encoded data removed]",
            "text/plain": [
              "<Figure size 576x396 with 1 Axes>"
            ]
          },
          "metadata": {
            "tags": []
          }
        }
      ]
    },
    {
      "metadata": {
        "id": "PNDP5VmlKj_r",
        "colab_type": "code",
        "colab": {}
      },
      "cell_type": "code",
      "source": [
        ""
      ],
      "execution_count": 0,
      "outputs": []
    }
  ]
}