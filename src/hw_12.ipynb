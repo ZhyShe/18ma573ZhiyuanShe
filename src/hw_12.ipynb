{
  "nbformat": 4,
  "nbformat_minor": 0,
  "metadata": {
    "colab": {
      "name": "hw_12.ipynb",
      "version": "0.3.2",
      "provenance": [],
      "include_colab_link": true
    },
    "kernelspec": {
      "name": "python3",
      "display_name": "Python 3"
    }
  },
  "cells": [
    {
      "cell_type": "markdown",
      "metadata": {
        "id": "view-in-github",
        "colab_type": "text"
      },
      "source": [
        "<a href=\"https://colab.research.google.com/github/ZhyShe/18ma573ZhiyuanShe/blob/master/src/hw_12.ipynb\" target=\"_parent\"><img src=\"https://colab.research.google.com/assets/colab-badge.svg\" alt=\"Open In Colab\"/></a>"
      ]
    },
    {
      "metadata": {
        "id": "TPmlvUOYFcVn",
        "colab_type": "code",
        "colab": {}
      },
      "cell_type": "code",
      "source": [
        "import numpy as np\n",
        "import scipy.optimize as so\n",
        "import scipy.integrate as si\n",
        "import matplotlib.pyplot as plt"
      ],
      "execution_count": 0,
      "outputs": []
    },
    {
      "metadata": {
        "id": "dGN_DmyBFe23",
        "colab_type": "code",
        "colab": {}
      },
      "cell_type": "code",
      "source": [
        "def omc_v10_sq(n):\n",
        "  v_vec = np.zeros(n)\n",
        "  for j in range(n):\n",
        "    indic_sum = 0 \n",
        "    for i in range(10):\n",
        "      z = np.random.normal(0,1) \n",
        "      if z < -2:\n",
        "        indic_sum = indic_sum + 1 \n",
        "    v10 = indic_sum/10\n",
        "    v_vec[j] = v10**2 \n",
        "  return v_vec.mean()"
      ],
      "execution_count": 0,
      "outputs": []
    },
    {
      "metadata": {
        "id": "cMIfOc0-FhKq",
        "colab_type": "code",
        "colab": {
          "base_uri": "https://localhost:8080/",
          "height": 68
        },
        "outputId": "bba17f39-e58e-48d9-d52a-494c890045c9"
      },
      "cell_type": "code",
      "source": [
        "out_1 = omc_v10_sq(1000)\n",
        "out_2 = omc_v10_sq(2000)\n",
        "out_3 = omc_v10_sq(100000)\n",
        "print(\"OMC approximation for 1000 trials is: \" + str(out_1))\n",
        "print(\"OMC approximation for 2000 trials is: \" + str(out_2))\n",
        "print(\"OMC approximation for 100000 trials is: \" + str(out_3))"
      ],
      "execution_count": 3,
      "outputs": [
        {
          "output_type": "stream",
          "text": [
            "OMC approximation for 1000 trials is: 0.002630000000000001\n",
            "OMC approximation for 2000 trials is: 0.002865000000000001\n",
            "OMC approximation for 100000 trials is: 0.0027067000000000007\n"
          ],
          "name": "stdout"
        }
      ]
    },
    {
      "metadata": {
        "id": "FJY0nwfHFjhI",
        "colab_type": "code",
        "colab": {}
      },
      "cell_type": "code",
      "source": [
        "def v10_is(n,b):\n",
        "  indic_sum = 0 \n",
        "  for i in range(n):\n",
        "    x = np.random.normal(-b,1) \n",
        "    if x < -2:\n",
        "      indic_sum = indic_sum + np.exp(x * b)\n",
        "  v10 = np.exp(0.5 * (b**2)) * (1/10) * indic_sum\n",
        "  return v10"
      ],
      "execution_count": 0,
      "outputs": []
    },
    {
      "metadata": {
        "id": "qm_vK7yQFvAc",
        "colab_type": "code",
        "colab": {}
      },
      "cell_type": "code",
      "source": [
        "def is_average(m,n,b):\n",
        "  v10_is_vec = np.zeros(m)\n",
        "  for i in range(m):\n",
        "    v10_out = v10_is(n,b)\n",
        "    v10_is_vec[i] = v10_out**2\n",
        "  return v10_is_vec.mean()"
      ],
      "execution_count": 0,
      "outputs": []
    },
    {
      "metadata": {
        "id": "dPnkY5Z2Fnj-",
        "colab_type": "code",
        "colab": {
          "base_uri": "https://localhost:8080/",
          "height": 68
        },
        "outputId": "0c172296-06fb-4922-900d-f2da24ae7eab"
      },
      "cell_type": "code",
      "source": [
        "is_out_1 = is_average(1000,10,2)\n",
        "is_out_2 = is_average(2000,10,2)\n",
        "is_out_3 = is_average(10000,10,2)\n",
        "\n",
        "print(\"Importance Sampling output for m = 1000 is \" + str(is_out_1))\n",
        "print(\"Importance Sampling output for m = 2000 is \" + str(is_out_2))\n",
        "print(\"Importance Sampling output for m = 10000 is \" + str(is_out_3))"
      ],
      "execution_count": 7,
      "outputs": [
        {
          "output_type": "stream",
          "text": [
            "Importance Sampling output for m = 1000 is 0.0006264082483543832\n",
            "Importance Sampling output for m = 2000 is 0.0006579231058193278\n",
            "Importance Sampling output for m = 10000 is 0.0006305794618147522\n"
          ],
          "name": "stdout"
        }
      ]
    },
    {
      "metadata": {
        "id": "oP92zFT2F0a9",
        "colab_type": "text"
      },
      "cell_type": "markdown",
      "source": [
        "The important sampling method generate the $E[\\hat V_{10} ^{2}]$ is around .0006 which is much smaller than what we get from OMC method."
      ]
    },
    {
      "metadata": {
        "id": "vh90XBLnFrSZ",
        "colab_type": "code",
        "colab": {}
      },
      "cell_type": "code",
      "source": [
        ""
      ],
      "execution_count": 0,
      "outputs": []
    }
  ]
}