{
  "nbformat": 4,
  "nbformat_minor": 0,
  "metadata": {
    "colab": {
      "name": "hw8_2.ipynb",
      "version": "0.3.2",
      "provenance": []
    },
    "kernelspec": {
      "name": "python3",
      "display_name": "Python 3"
    }
  },
  "cells": [
    {
      "metadata": {
        "id": "m6XYw683aURf",
        "colab_type": "code",
        "colab": {}
      },
      "cell_type": "code",
      "source": [
        "import numpy as np\n",
        "import matplotlib.pyplot as plt\n",
        "import scipy.integrate as integrate"
      ],
      "execution_count": 0,
      "outputs": []
    },
    {
      "metadata": {
        "id": "GI5Hzku8XGJq",
        "colab_type": "code",
        "colab": {}
      },
      "cell_type": "code",
      "source": [
        "s0 = 100.\n",
        "v0 = 0.04\n",
        "r = 0.05\n",
        "k = 1.2\n",
        "theta = 0.04\n",
        "xi = 0.3\n",
        "rho = 0.5\n",
        "K = 100\n",
        "T = 1"
      ],
      "execution_count": 0,
      "outputs": []
    },
    {
      "metadata": {
        "id": "qnuzgOfTXJdH",
        "colab_type": "code",
        "colab": {}
      },
      "cell_type": "code",
      "source": [
        "def Phi(u, s0, v0, T, r, k, theta, xi, rho):\n",
        "  gamma = np.sqrt(((xi**2) * (u**2 + 1j*u)) + ((k - 1j*rho*xi*u)**2))\n",
        "  factor1 = np.exp((1j*u*np.log(s0)) + (1j*u*r*T) + ((k*theta*T*(k - (1j*rho*xi*u)))/ (xi**2)))\n",
        "  factor2 = (np.cosh(gamma*T/2) + ((k-1j*rho*xi*u)/gamma)*np.sinh(gamma*T/2))**(2*k*theta/(xi**2))\n",
        "  coth = np.cosh(gamma*T/2) / np.sinh(gamma*T/2)\n",
        "  factor3 = np.exp(-1*(u**2 + 1j*u)*v0/(gamma*coth + k - 1j*rho*xi*u))\n",
        "  return factor1 * factor3 / factor2\n",
        "\n",
        "  "
      ],
      "execution_count": 0,
      "outputs": []
    },
    {
      "metadata": {
        "id": "iOHg6zMSYoq-",
        "colab_type": "code",
        "colab": {}
      },
      "cell_type": "code",
      "source": [
        "def Re1(u, s0, v0, T, r, k, theta, xi, rho):\n",
        "  return (np.exp(-1j*np.log(K/s0)*u)*Phi(u-1j, s0, v0, T, r, k, theta, xi, rho)/(1j*u*Phi(-1j, s0, v0, T, r, k, theta, xi, rho))).real"
      ],
      "execution_count": 0,
      "outputs": []
    },
    {
      "metadata": {
        "id": "XUvRMCM-Z719",
        "colab_type": "code",
        "colab": {}
      },
      "cell_type": "code",
      "source": [
        "def Re2(u, s0, v0, T, r, k, theta, xi, rho):\n",
        "  return (np.exp(-1j*np.log(K/s0)*u)*Phi(u, s0, v0, T, r, k, theta, xi, rho)/(1j*u)).real"
      ],
      "execution_count": 0,
      "outputs": []
    },
    {
      "metadata": {
        "id": "PSpooT-2aE4l",
        "colab_type": "code",
        "colab": {}
      },
      "cell_type": "code",
      "source": [
        "Int1=1/2+(1/np.pi)*integrate.quad(lambda u:Re1(u, s0, v0, T, r, k, theta, xi, rho),0,1000)[0]\n",
        "Int2=1/2+(1/np.pi)*integrate.quad(lambda u:Re2(u, s0, v0, T, r, k, theta, xi, rho),0,1000)[0]"
      ],
      "execution_count": 0,
      "outputs": []
    },
    {
      "metadata": {
        "id": "s_HQscVlaNbM",
        "colab_type": "code",
        "outputId": "fa2475de-37cd-4d7c-c07b-318e3bd6c93c",
        "colab": {
          "base_uri": "https://localhost:8080/",
          "height": 34
        }
      },
      "cell_type": "code",
      "source": [
        "Price= (s0 * Int1) - (K*(np.exp(-r*T))*Int2)\n",
        "print('Fourier Transform computation of BSM price is %f'%Price)"
      ],
      "execution_count": 0,
      "outputs": [
        {
          "output_type": "stream",
          "text": [
            "Fourier Transform computation of BSM price is 4.877058\n"
          ],
          "name": "stdout"
        }
      ]
    },
    {
      "metadata": {
        "id": "1flrfr24b_-x",
        "colab_type": "code",
        "outputId": "172f81d3-d099-4c65-a219-567c46929899",
        "colab": {
          "base_uri": "https://localhost:8080/",
          "height": 136
        }
      },
      "cell_type": "code",
      "source": [
        "! git clone https://github.com/ZhyShe/18ma573ZhiyuanShe"
      ],
      "execution_count": 0,
      "outputs": [
        {
          "output_type": "stream",
          "text": [
            "Cloning into '18ma573ZhiyuanShe'...\n",
            "remote: Enumerating objects: 91, done.\u001b[K\n",
            "remote: Counting objects: 100% (91/91), done.\u001b[K\n",
            "remote: Compressing objects: 100% (91/91), done.\u001b[K\n",
            "remote: Total 444 (delta 31), reused 0 (delta 0), pack-reused 353\u001b[K\n",
            "Receiving objects: 100% (444/444), 1.55 MiB | 5.04 MiB/s, done.\n",
            "Resolving deltas: 100% (160/160), done.\n"
          ],
          "name": "stdout"
        }
      ]
    },
    {
      "metadata": {
        "id": "0Hf-a2Z4diyO",
        "colab_type": "code",
        "outputId": "257e8a60-09e1-47ba-e373-df2a4a677684",
        "colab": {
          "base_uri": "https://localhost:8080/",
          "height": 34
        }
      },
      "cell_type": "code",
      "source": [
        "cd /content/18ma573ZhiyuanShe/src/"
      ],
      "execution_count": 0,
      "outputs": [
        {
          "output_type": "stream",
          "text": [
            "/content/18ma573ZhiyuanShe/src\n"
          ],
          "name": "stdout"
        }
      ]
    },
    {
      "metadata": {
        "id": "-KB08-ZjdmH0",
        "colab_type": "code",
        "colab": {}
      },
      "cell_type": "code",
      "source": [
        "from sde_1d_v01 import *\n",
        "from contract_v01 import VanillaOption"
      ],
      "execution_count": 0,
      "outputs": []
    },
    {
      "metadata": {
        "id": "EOFJdInVdyYH",
        "colab_type": "code",
        "colab": {}
      },
      "cell_type": "code",
      "source": [
        "otype = 1\n",
        "strike = 100.\n",
        "maturity= 1.\n",
        "market_price=15."
      ],
      "execution_count": 0,
      "outputs": []
    },
    {
      "metadata": {
        "id": "ez29xtsUd1m-",
        "colab_type": "code",
        "outputId": "d9e4e9e5-b7f6-4f19-eb62-f0d326d58549",
        "colab": {
          "base_uri": "https://localhost:8080/",
          "height": 34
        }
      },
      "cell_type": "code",
      "source": [
        "Vp=VanillaOption(otype, strike, maturity, market_price)\n",
        "gbm=Gbm_1d(s0, r, xi*np.sqrt(market_price))\n",
        "price=gbm.bsm_price(Vp)\n",
        "print('european call option price is %f'%price)"
      ],
      "execution_count": 0,
      "outputs": [
        {
          "output_type": "stream",
          "text": [
            "european call option price is 10.317924\n"
          ],
          "name": "stdout"
        }
      ]
    },
    {
      "metadata": {
        "id": "zqwd-eqEeCs2",
        "colab_type": "code",
        "colab": {}
      },
      "cell_type": "code",
      "source": [
        ""
      ],
      "execution_count": 0,
      "outputs": []
    }
  ]
}