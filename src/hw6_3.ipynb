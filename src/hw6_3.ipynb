{
  "nbformat": 4,
  "nbformat_minor": 0,
  "metadata": {
    "colab": {
      "name": "hw6_3.ipynb",
      "version": "0.3.2",
      "provenance": [],
      "include_colab_link": true
    },
    "kernelspec": {
      "name": "python3",
      "display_name": "Python 3"
    }
  },
  "cells": [
    {
      "cell_type": "markdown",
      "metadata": {
        "id": "view-in-github",
        "colab_type": "text"
      },
      "source": [
        "<a href=\"https://colab.research.google.com/github/ZhyShe/18ma573ZhiyuanShe/blob/master/src/hw6_3.ipynb\" target=\"_parent\"><img src=\"https://colab.research.google.com/assets/colab-badge.svg\" alt=\"Open In Colab\"/></a>"
      ]
    },
    {
      "metadata": {
        "id": "T_fTSNtWhB3e",
        "colab_type": "code",
        "colab": {
          "base_uri": "https://localhost:8080/",
          "height": 136
        },
        "outputId": "cbd03efd-8d60-4213-aa53-d09fdb75f20b"
      },
      "cell_type": "code",
      "source": [
        "!git clone https://github.com/ZhyShe/18ma573ZhiyuanShe"
      ],
      "execution_count": 15,
      "outputs": [
        {
          "output_type": "stream",
          "text": [
            "Cloning into '18ma573ZhiyuanShe'...\n",
            "remote: Enumerating objects: 29, done.\u001b[K\n",
            "remote: Counting objects: 100% (29/29), done.\u001b[K\n",
            "remote: Compressing objects: 100% (29/29), done.\u001b[K\n",
            "remote: Total 382 (delta 6), reused 0 (delta 0), pack-reused 353\u001b[K\n",
            "Receiving objects: 100% (382/382), 1.48 MiB | 4.61 MiB/s, done.\n",
            "Resolving deltas: 100% (135/135), done.\n"
          ],
          "name": "stdout"
        }
      ]
    },
    {
      "metadata": {
        "id": "m4lQ8fD5hQqi",
        "colab_type": "code",
        "colab": {
          "base_uri": "https://localhost:8080/",
          "height": 34
        },
        "outputId": "8a270bb6-cae6-4ca7-9051-07acb3f541af"
      },
      "cell_type": "code",
      "source": [
        "cd /content/18ma573ZhiyuanShe/src/"
      ],
      "execution_count": 16,
      "outputs": [
        {
          "output_type": "stream",
          "text": [
            "/content/18ma573ZhiyuanShe/src\n"
          ],
          "name": "stdout"
        }
      ]
    },
    {
      "metadata": {
        "id": "96nWSb4BhUDG",
        "colab_type": "code",
        "colab": {
          "base_uri": "https://localhost:8080/",
          "height": 34
        },
        "outputId": "e5190d95-e51e-46ee-964e-55610e31273b"
      },
      "cell_type": "code",
      "source": [
        "ls contract_v01.py"
      ],
      "execution_count": 17,
      "outputs": [
        {
          "output_type": "stream",
          "text": [
            "contract_v01.py\n"
          ],
          "name": "stdout"
        }
      ]
    },
    {
      "metadata": {
        "id": "e02AAPvuhjKI",
        "colab_type": "code",
        "colab": {
          "base_uri": "https://localhost:8080/",
          "height": 34
        },
        "outputId": "61fddf26-e3d8-4ec1-93d9-b9635395412e"
      },
      "cell_type": "code",
      "source": [
        "ls sde_1d_v01.py"
      ],
      "execution_count": 18,
      "outputs": [
        {
          "output_type": "stream",
          "text": [
            "sde_1d_v01.py\n"
          ],
          "name": "stdout"
        }
      ]
    },
    {
      "metadata": {
        "id": "3bl2oklOhqmm",
        "colab_type": "code",
        "colab": {}
      },
      "cell_type": "code",
      "source": [
        "from contract_v01 import VanillaOption\n",
        "from sde_1d_v01 import *"
      ],
      "execution_count": 0,
      "outputs": []
    },
    {
      "metadata": {
        "id": "eXRgv17GiDod",
        "colab_type": "code",
        "colab": {}
      },
      "cell_type": "code",
      "source": [
        "AAP=Gbm_1d(init_state = 100., drift_ratio = .0475, vol_ratio = .2)"
      ],
      "execution_count": 0,
      "outputs": []
    },
    {
      "metadata": {
        "id": "oQKcvMo1iVKZ",
        "colab_type": "code",
        "colab": {
          "base_uri": "https://localhost:8080/",
          "height": 34
        },
        "outputId": "35c391bf-1c4e-4d68-ce12-5a352e375b29"
      },
      "cell_type": "code",
      "source": [
        "## Compute the price of arithmetic asia \n",
        "#-------------------------\n",
        "Ar_Op=AAP.bsm_arithmetic_asian_exact_sample(otype=1, strike=110, maturity=1, num_step=5, num_path=100000)\n",
        "print('Arithmetic Asian Call Option Price is ' + str(Ar_Op)) "
      ],
      "execution_count": 30,
      "outputs": [
        {
          "output_type": "stream",
          "text": [
            "Arithmetic Asian Call Option Price is 1.8119600741512034\n"
          ],
          "name": "stdout"
        }
      ]
    },
    {
      "metadata": {
        "id": "xcVi43W2ja3Z",
        "colab_type": "code",
        "colab": {
          "base_uri": "https://localhost:8080/",
          "height": 34
        },
        "outputId": "1932722c-761b-4f93-c440-79800bc9623c"
      },
      "cell_type": "code",
      "source": [
        "## Compute the price of geometric asia \n",
        "#-------------------------\n",
        "Ge_Op=AAP.bsm_geometric_asian_price(otype=1, strike=110, marturity=1, num_step=4)\n",
        "print('Geometric Asian Call Option Price is ' + str(float(Ge_Op)))"
      ],
      "execution_count": 33,
      "outputs": [
        {
          "output_type": "stream",
          "text": [
            "Geometric Asian Call Option Price is 1.607164727431734\n"
          ],
          "name": "stdout"
        }
      ]
    },
    {
      "metadata": {
        "id": "uB3yv2Tpjo6B",
        "colab_type": "code",
        "colab": {
          "base_uri": "https://localhost:8080/",
          "height": 34
        },
        "outputId": "571d7056-5dbf-47b2-8485-dfc16a08bf2f"
      },
      "cell_type": "code",
      "source": [
        "# Compute the price of European \n",
        "#-------------------------\n",
        "vanilla_option=VanillaOption(otype = 1,strike = 110, maturity = 1, market_price = 100)\n",
        "Eu_Op=AAP.bsm_price(vanilla_option)\n",
        "print('European Call Option Price is ' + str(Eu_Op))"
      ],
      "execution_count": 34,
      "outputs": [
        {
          "output_type": "stream",
          "text": [
            "European Call Option Price is 5.943273183452838\n"
          ],
          "name": "stdout"
        }
      ]
    },
    {
      "metadata": {
        "id": "w2-k5U2vp47u",
        "colab_type": "text"
      },
      "cell_type": "markdown",
      "source": [
        "Therefore,<br>\n",
        "Geometric Asian Call $\\leq$ Arithmetic Asian Call $\\leq$ European Call"
      ]
    },
    {
      "metadata": {
        "id": "4wgHlX10lDh-",
        "colab_type": "code",
        "colab": {}
      },
      "cell_type": "code",
      "source": [
        ""
      ],
      "execution_count": 0,
      "outputs": []
    }
  ]
}