{
  "nbformat": 4,
  "nbformat_minor": 0,
  "metadata": {
    "colab": {
      "name": "hw4_1.ipynb",
      "version": "0.3.2",
      "provenance": [],
      "include_colab_link": true
    },
    "kernelspec": {
      "name": "python3",
      "display_name": "Python 3"
    }
  },
  "cells": [
    {
      "cell_type": "markdown",
      "metadata": {
        "id": "view-in-github",
        "colab_type": "text"
      },
      "source": [
        "<a href=\"https://colab.research.google.com/github/ZhyShe/18ma573ZhiyuanShe/blob/master/src/hw4_1.ipynb\" target=\"_parent\"><img src=\"https://colab.research.google.com/assets/colab-badge.svg\" alt=\"Open In Colab\"/></a>"
      ]
    },
    {
      "metadata": {
        "id": "rULOYWJrdGe8",
        "colab_type": "text"
      },
      "cell_type": "markdown",
      "source": [
        "The objective is to get familiar with model calibration.\n",
        "- download call today's option prices of your favrite stock with maturity $T_1$ and several near the money strikes $(K_1, \\ldots, K_n)$.\n",
        "- compute IV with your bsm price engine for each option price. You are going to use USD Libor 3-month for your interest rate input. \n",
        "- plot a figure of strike v.s. IV. Do you find any volatility smile? \n",
        "- calibrate bsm volatility for the option prices, denote it by $\\hat \\sigma$. You may use any error function for the calibration purpose.\n",
        "- reproduce option prices using your price engine with calibrated volatility, then compare how close they are to the market prices.\n"
      ]
    },
    {
      "metadata": {
        "id": "YL529wVRgJqh",
        "colab_type": "code",
        "outputId": "67de6938-27c6-4c07-f5b7-cb6261bb70fa",
        "colab": {
          "base_uri": "https://localhost:8080/",
          "height": 136
        }
      },
      "cell_type": "code",
      "source": [
        "!git clone https://github.com/ZhyShe/18ma573ZhiyuanShe"
      ],
      "execution_count": 0,
      "outputs": [
        {
          "output_type": "stream",
          "text": [
            "Cloning into '18ma573ZhiyuanShe'...\n",
            "remote: Enumerating objects: 184, done.\u001b[K\n",
            "remote: Counting objects:   0% (1/184)   \u001b[K\rremote: Counting objects:   1% (2/184)   \u001b[K\rremote: Counting objects:   2% (4/184)   \u001b[K\rremote: Counting objects:   3% (6/184)   \u001b[K\rremote: Counting objects:   4% (8/184)   \u001b[K\rremote: Counting objects:   5% (10/184)   \u001b[K\rremote: Counting objects:   6% (12/184)   \u001b[K\rremote: Counting objects:   7% (13/184)   \u001b[K\rremote: Counting objects:   8% (15/184)   \u001b[K\rremote: Counting objects:   9% (17/184)   \u001b[K\rremote: Counting objects:  10% (19/184)   \u001b[K\rremote: Counting objects:  11% (21/184)   \u001b[K\rremote: Counting objects:  12% (23/184)   \u001b[K\rremote: Counting objects:  13% (24/184)   \u001b[K\rremote: Counting objects:  14% (26/184)   \u001b[K\rremote: Counting objects:  15% (28/184)   \u001b[K\rremote: Counting objects:  16% (30/184)   \u001b[K\rremote: Counting objects:  17% (32/184)   \u001b[K\rremote: Counting objects:  18% (34/184)   \u001b[K\rremote: Counting objects:  19% (35/184)   \u001b[K\rremote: Counting objects:  20% (37/184)   \u001b[K\rremote: Counting objects:  21% (39/184)   \u001b[K\rremote: Counting objects:  22% (41/184)   \u001b[K\rremote: Counting objects:  23% (43/184)   \u001b[K\rremote: Counting objects:  24% (45/184)   \u001b[K\rremote: Counting objects:  25% (46/184)   \u001b[K\rremote: Counting objects:  26% (48/184)   \u001b[K\rremote: Counting objects:  27% (50/184)   \u001b[K\rremote: Counting objects:  28% (52/184)   \u001b[K\rremote: Counting objects:  29% (54/184)   \u001b[K\rremote: Counting objects:  30% (56/184)   \u001b[K\rremote: Counting objects:  31% (58/184)   \u001b[K\rremote: Counting objects:  32% (59/184)   \u001b[K\rremote: Counting objects:  33% (61/184)   \u001b[K\rremote: Counting objects:  34% (63/184)   \u001b[K\rremote: Counting objects:  35% (65/184)   \u001b[K\rremote: Counting objects:  36% (67/184)   \u001b[K\rremote: Counting objects:  37% (69/184)   \u001b[K\rremote: Counting objects:  38% (70/184)   \u001b[K\rremote: Counting objects:  39% (72/184)   \u001b[K\rremote: Counting objects:  40% (74/184)   \u001b[K\rremote: Counting objects:  41% (76/184)   \u001b[K\rremote: Counting objects:  42% (78/184)   \u001b[K\rremote: Counting objects:  43% (80/184)   \u001b[K\rremote: Counting objects:  44% (81/184)   \u001b[K\rremote: Counting objects:  45% (83/184)   \u001b[K\rremote: Counting objects:  46% (85/184)   \u001b[K\rremote: Counting objects:  47% (87/184)   \u001b[K\rremote: Counting objects:  48% (89/184)   \u001b[K\rremote: Counting objects:  49% (91/184)   \u001b[K\rremote: Counting objects:  50% (92/184)   \u001b[K\rremote: Counting objects:  51% (94/184)   \u001b[K\rremote: Counting objects:  52% (96/184)   \u001b[K\rremote: Counting objects:  53% (98/184)   \u001b[K\rremote: Counting objects:  54% (100/184)   \u001b[K\rremote: Counting objects:  55% (102/184)   \u001b[K\rremote: Counting objects:  56% (104/184)   \u001b[K\rremote: Counting objects:  57% (105/184)   \u001b[K\rremote: Counting objects:  58% (107/184)   \u001b[K\rremote: Counting objects:  59% (109/184)   \u001b[K\rremote: Counting objects:  60% (111/184)   \u001b[K\rremote: Counting objects:  61% (113/184)   \u001b[K\rremote: Counting objects:  62% (115/184)   \u001b[K\rremote: Counting objects:  63% (116/184)   \u001b[K\rremote: Counting objects:  64% (118/184)   \u001b[K\rremote: Counting objects:  65% (120/184)   \u001b[K\rremote: Counting objects:  66% (122/184)   \u001b[K\rremote: Counting objects:  67% (124/184)   \u001b[K\rremote: Counting objects:  68% (126/184)   \u001b[K\rremote: Counting objects:  69% (127/184)   \u001b[K\rremote: Counting objects:  70% (129/184)   \u001b[K\rremote: Counting objects:  71% (131/184)   \u001b[K\rremote: Counting objects:  72% (133/184)   \u001b[K\rremote: Counting objects:  73% (135/184)   \u001b[K\rremote: Counting objects:  74% (137/184)   \u001b[K\rremote: Counting objects:  75% (138/184)   \u001b[K\rremote: Counting objects:  76% (140/184)   \u001b[K\rremote: Counting objects:  77% (142/184)   \u001b[K\rremote: Counting objects:  78% (144/184)   \u001b[K\rremote: Counting objects:  79% (146/184)   \u001b[K\rremote: Counting objects:  80% (148/184)   \u001b[K\rremote: Counting objects:  81% (150/184)   \u001b[K\rremote: Counting objects:  82% (151/184)   \u001b[K\rremote: Counting objects:  83% (153/184)   \u001b[K\rremote: Counting objects:  84% (155/184)   \u001b[K\rremote: Counting objects:  85% (157/184)   \u001b[K\rremote: Counting objects:  86% (159/184)   \u001b[K\rremote: Counting objects:  87% (161/184)   \u001b[K\rremote: Counting objects:  88% (162/184)   \u001b[K\rremote: Counting objects:  89% (164/184)   \u001b[K\rremote: Counting objects:  90% (166/184)   \u001b[K\rremote: Counting objects:  91% (168/184)   \u001b[K\rremote: Counting objects:  92% (170/184)   \u001b[K\rremote: Counting objects:  93% (172/184)   \u001b[K\rremote: Counting objects:  94% (173/184)   \u001b[K\rremote: Counting objects:  95% (175/184)   \u001b[K\rremote: Counting objects:  96% (177/184)   \u001b[K\rremote: Counting objects:  97% (179/184)   \u001b[K\rremote: Counting objects:  98% (181/184)   \u001b[K\rremote: Counting objects:  99% (183/184)   \u001b[K\rremote: Counting objects: 100% (184/184)   \u001b[K\rremote: Counting objects: 100% (184/184), done.\u001b[K\n",
            "remote: Compressing objects:   0% (1/181)   \u001b[K\rremote: Compressing objects:   1% (2/181)   \u001b[K\rremote: Compressing objects:   2% (4/181)   \u001b[K\rremote: Compressing objects:   3% (6/181)   \u001b[K\rremote: Compressing objects:   4% (8/181)   \u001b[K\rremote: Compressing objects:   5% (10/181)   \u001b[K\rremote: Compressing objects:   6% (11/181)   \u001b[K\rremote: Compressing objects:   7% (13/181)   \u001b[K\rremote: Compressing objects:   8% (15/181)   \u001b[K\rremote: Compressing objects:   9% (17/181)   \u001b[K\rremote: Compressing objects:  10% (19/181)   \u001b[K\rremote: Compressing objects:  11% (20/181)   \u001b[K\rremote: Compressing objects:  12% (22/181)   \u001b[K\rremote: Compressing objects:  13% (24/181)   \u001b[K\rremote: Compressing objects:  14% (26/181)   \u001b[K\rremote: Compressing objects:  15% (28/181)   \u001b[K\rremote: Compressing objects:  16% (29/181)   \u001b[K\rremote: Compressing objects:  17% (31/181)   \u001b[K\rremote: Compressing objects:  18% (33/181)   \u001b[K\rremote: Compressing objects:  19% (35/181)   \u001b[K\rremote: Compressing objects:  20% (37/181)   \u001b[K\rremote: Compressing objects:  21% (39/181)   \u001b[K\rremote: Compressing objects:  22% (40/181)   \u001b[K\rremote: Compressing objects:  23% (42/181)   \u001b[K\rremote: Compressing objects:  24% (44/181)   \u001b[K\rremote: Compressing objects:  25% (46/181)   \u001b[K\rremote: Compressing objects:  26% (48/181)   \u001b[K\rremote: Compressing objects:  27% (49/181)   \u001b[K\rremote: Compressing objects:  28% (51/181)   \u001b[K\rremote: Compressing objects:  29% (53/181)   \u001b[K\rremote: Compressing objects:  30% (55/181)   \u001b[K\rremote: Compressing objects:  31% (57/181)   \u001b[K\rremote: Compressing objects:  32% (58/181)   \u001b[K\rremote: Compressing objects:  33% (60/181)   \u001b[K\rremote: Compressing objects:  34% (62/181)   \u001b[K\rremote: Compressing objects:  35% (64/181)   \u001b[K\rremote: Compressing objects:  36% (66/181)   \u001b[K\rremote: Compressing objects:  37% (67/181)   \u001b[K\rremote: Compressing objects:  38% (69/181)   \u001b[K\rremote: Compressing objects:  39% (71/181)   \u001b[K\rremote: Compressing objects:  40% (73/181)   \u001b[K\rremote: Compressing objects:  41% (75/181)   \u001b[K\rremote: Compressing objects:  42% (77/181)   \u001b[K\rremote: Compressing objects:  43% (78/181)   \u001b[K\rremote: Compressing objects:  44% (80/181)   \u001b[K\rremote: Compressing objects:  45% (82/181)   \u001b[K\rremote: Compressing objects:  46% (84/181)   \u001b[K\rremote: Compressing objects:  47% (86/181)   \u001b[K\rremote: Compressing objects:  48% (87/181)   \u001b[K\rremote: Compressing objects:  49% (89/181)   \u001b[K\rremote: Compressing objects:  50% (91/181)   \u001b[K\rremote: Compressing objects:  51% (93/181)   \u001b[K\rremote: Compressing objects:  52% (95/181)   \u001b[K\rremote: Compressing objects:  53% (96/181)   \u001b[K\rremote: Compressing objects:  54% (98/181)   \u001b[K\rremote: Compressing objects:  55% (100/181)   \u001b[K\rremote: Compressing objects:  56% (102/181)   \u001b[K\rremote: Compressing objects:  57% (104/181)   \u001b[K\rremote: Compressing objects:  58% (105/181)   \u001b[K\rremote: Compressing objects:  59% (107/181)   \u001b[K\rremote: Compressing objects:  60% (109/181)   \u001b[K\rremote: Compressing objects:  61% (111/181)   \u001b[K\rremote: Compressing objects:  62% (113/181)   \u001b[K\rremote: Compressing objects:  63% (115/181)   \u001b[K\rremote: Compressing objects:  64% (116/181)   \u001b[K\rremote: Compressing objects:  65% (118/181)   \u001b[K\rremote: Compressing objects:  66% (120/181)   \u001b[K\rremote: Compressing objects:  67% (122/181)   \u001b[K\rremote: Compressing objects:  68% (124/181)   \u001b[K\rremote: Compressing objects:  69% (125/181)   \u001b[K\rremote: Compressing objects:  70% (127/181)   \u001b[K\rremote: Compressing objects:  71% (129/181)   \u001b[K\rremote: Compressing objects:  72% (131/181)   \u001b[K\rremote: Compressing objects:  73% (133/181)   \u001b[K\rremote: Compressing objects:  74% (134/181)   \u001b[K\rremote: Compressing objects:  75% (136/181)   \u001b[K\rremote: Compressing objects:  76% (138/181)   \u001b[K\rremote: Compressing objects:  77% (140/181)   \u001b[K\rremote: Compressing objects:  78% (142/181)   \u001b[K\rremote: Compressing objects:  79% (143/181)   \u001b[K\rremote: Compressing objects:  80% (145/181)   \u001b[K\rremote: Compressing objects:  81% (147/181)   \u001b[K\rremote: Compressing objects:  82% (149/181)   \u001b[K\rremote: Compressing objects:  83% (151/181)   \u001b[K\rremote: Compressing objects:  84% (153/181)   \u001b[K\rremote: Compressing objects:  85% (154/181)   \u001b[K\rremote: Compressing objects:  86% (156/181)   \u001b[K\rremote: Compressing objects:  87% (158/181)   \u001b[K\rremote: Compressing objects:  88% (160/181)   \u001b[K\rremote: Compressing objects:  89% (162/181)   \u001b[K\rremote: Compressing objects:  90% (163/181)   \u001b[K\rremote: Compressing objects:  91% (165/181)   \u001b[K\rremote: Compressing objects:  92% (167/181)   \u001b[K\rremote: Compressing objects:  93% (169/181)   \u001b[K\rremote: Compressing objects:  94% (171/181)   \u001b[K\rremote: Compressing objects:  95% (172/181)   \u001b[K\rremote: Compressing objects:  96% (174/181)   \u001b[K\rremote: Compressing objects:  97% (176/181)   \u001b[K\rremote: Compressing objects:  98% (178/181)   \u001b[K\rremote: Compressing objects:  99% (180/181)   \u001b[K\rremote: Compressing objects: 100% (181/181)   \u001b[K\rremote: Compressing objects: 100% (181/181), done.\u001b[K\n",
            "Receiving objects:   0% (1/184)   \rReceiving objects:   1% (2/184)   \rReceiving objects:   2% (4/184)   \rReceiving objects:   3% (6/184)   \rReceiving objects:   4% (8/184)   \rReceiving objects:   5% (10/184)   \rReceiving objects:   6% (12/184)   \rReceiving objects:   7% (13/184)   \rReceiving objects:   8% (15/184)   \rReceiving objects:   9% (17/184)   \rReceiving objects:  10% (19/184)   \rReceiving objects:  11% (21/184)   \rReceiving objects:  12% (23/184)   \rReceiving objects:  13% (24/184)   \rReceiving objects:  14% (26/184)   \rReceiving objects:  15% (28/184)   \rReceiving objects:  16% (30/184)   \rReceiving objects:  17% (32/184)   \rReceiving objects:  18% (34/184)   \rReceiving objects:  19% (35/184)   \rReceiving objects:  20% (37/184)   \rReceiving objects:  21% (39/184)   \rReceiving objects:  22% (41/184)   \rReceiving objects:  23% (43/184)   \rReceiving objects:  24% (45/184)   \rReceiving objects:  25% (46/184)   \rReceiving objects:  26% (48/184)   \rReceiving objects:  27% (50/184)   \rReceiving objects:  28% (52/184)   \rReceiving objects:  29% (54/184)   \rReceiving objects:  30% (56/184)   \rReceiving objects:  31% (58/184)   \rReceiving objects:  32% (59/184)   \rReceiving objects:  33% (61/184)   \rReceiving objects:  34% (63/184)   \rReceiving objects:  35% (65/184)   \rReceiving objects:  36% (67/184)   \rReceiving objects:  37% (69/184)   \rReceiving objects:  38% (70/184)   \rReceiving objects:  39% (72/184)   \rReceiving objects:  40% (74/184)   \rReceiving objects:  41% (76/184)   \rReceiving objects:  42% (78/184)   \rReceiving objects:  43% (80/184)   \rReceiving objects:  44% (81/184)   \rReceiving objects:  45% (83/184)   \rReceiving objects:  46% (85/184)   \rReceiving objects:  47% (87/184)   \rReceiving objects:  48% (89/184)   \rReceiving objects:  49% (91/184)   \rReceiving objects:  50% (92/184)   \rReceiving objects:  51% (94/184)   \rReceiving objects:  52% (96/184)   \rReceiving objects:  53% (98/184)   \rReceiving objects:  54% (100/184)   \rReceiving objects:  55% (102/184)   \rReceiving objects:  56% (104/184)   \rReceiving objects:  57% (105/184)   \rReceiving objects:  58% (107/184)   \rReceiving objects:  59% (109/184)   \rReceiving objects:  60% (111/184)   \rReceiving objects:  61% (113/184)   \rReceiving objects:  62% (115/184)   \rReceiving objects:  63% (116/184)   \rReceiving objects:  64% (118/184)   \rReceiving objects:  65% (120/184)   \rReceiving objects:  66% (122/184)   \rReceiving objects:  67% (124/184)   \rReceiving objects:  68% (126/184)   \rReceiving objects:  69% (127/184)   \rReceiving objects:  70% (129/184)   \rReceiving objects:  71% (131/184)   \rReceiving objects:  72% (133/184)   \rReceiving objects:  73% (135/184)   \rReceiving objects:  74% (137/184)   \rReceiving objects:  75% (138/184)   \rReceiving objects:  76% (140/184)   \rReceiving objects:  77% (142/184)   \rReceiving objects:  78% (144/184)   \rReceiving objects:  79% (146/184)   \rReceiving objects:  80% (148/184)   \rReceiving objects:  81% (150/184)   \rReceiving objects:  82% (151/184)   \rReceiving objects:  83% (153/184)   \rReceiving objects:  84% (155/184)   \rReceiving objects:  85% (157/184)   \rReceiving objects:  86% (159/184)   \rReceiving objects:  87% (161/184)   \rReceiving objects:  88% (162/184)   \rReceiving objects:  89% (164/184)   \rReceiving objects:  90% (166/184)   \rReceiving objects:  91% (168/184)   \rReceiving objects:  92% (170/184)   \rReceiving objects:  93% (172/184)   \rremote: Total 184 (delta 63), reused 0 (delta 0), pack-reused 0\u001b[K\n",
            "Receiving objects:  94% (173/184)   \rReceiving objects:  95% (175/184)   \rReceiving objects:  96% (177/184)   \rReceiving objects:  97% (179/184)   \rReceiving objects:  98% (181/184)   \rReceiving objects:  99% (183/184)   \rReceiving objects: 100% (184/184)   \rReceiving objects: 100% (184/184), 265.32 KiB | 10.61 MiB/s, done.\n",
            "Resolving deltas:   0% (0/63)   \rResolving deltas:  20% (13/63)   \rResolving deltas:  58% (37/63)   \rResolving deltas:  60% (38/63)   \rResolving deltas:  61% (39/63)   \rResolving deltas:  63% (40/63)   \rResolving deltas:  68% (43/63)   \rResolving deltas:  69% (44/63)   \rResolving deltas:  76% (48/63)   \rResolving deltas:  77% (49/63)   \rResolving deltas:  82% (52/63)   \rResolving deltas:  87% (55/63)   \rResolving deltas:  88% (56/63)   \rResolving deltas: 100% (63/63)   \rResolving deltas: 100% (63/63), done.\n"
          ],
          "name": "stdout"
        }
      ]
    },
    {
      "metadata": {
        "id": "Rag6uaCAgRpG",
        "colab_type": "code",
        "outputId": "e907dbdb-a537-45e0-9b68-cc97efafe5d7",
        "colab": {
          "base_uri": "https://localhost:8080/",
          "height": 34
        }
      },
      "cell_type": "code",
      "source": [
        "cd /content/18ma573ZhiyuanShe/src/"
      ],
      "execution_count": 0,
      "outputs": [
        {
          "output_type": "stream",
          "text": [
            "/content/18ma573ZhiyuanShe/src\n"
          ],
          "name": "stdout"
        }
      ]
    },
    {
      "metadata": {
        "id": "LVZbQIsJgWmz",
        "colab_type": "code",
        "outputId": "65a8fc43-f4e2-4093-b513-8418b383fdfa",
        "colab": {
          "base_uri": "https://localhost:8080/",
          "height": 34
        }
      },
      "cell_type": "code",
      "source": [
        "ls hw3_py.py"
      ],
      "execution_count": 0,
      "outputs": [
        {
          "output_type": "stream",
          "text": [
            "hw3_py.py\n"
          ],
          "name": "stdout"
        }
      ]
    },
    {
      "metadata": {
        "id": "NrNaHHXrgecR",
        "colab_type": "code",
        "colab": {}
      },
      "cell_type": "code",
      "source": [
        "import numpy as np\n",
        "import matplotlib.pyplot as plt \n",
        "from hw3_py import GBM, Option\n",
        "import scipy.optimize as so\n",
        "import csv\n"
      ],
      "execution_count": 0,
      "outputs": []
    },
    {
      "metadata": {
        "id": "2eWMdpFaxkAr",
        "colab_type": "code",
        "outputId": "16d05ddf-4922-4df9-a138-f71951646e6c",
        "colab": {
          "base_uri": "https://localhost:8080/",
          "height": 219
        }
      },
      "cell_type": "code",
      "source": [
        "f=open('datacall.csv')\n",
        "reader=csv.reader(f)\n",
        "data=[row in reader]\n",
        "f.close"
      ],
      "execution_count": 0,
      "outputs": [
        {
          "output_type": "error",
          "ename": "FileNotFoundError",
          "evalue": "ignored",
          "traceback": [
            "\u001b[0;31m---------------------------------------------------------------------------\u001b[0m",
            "\u001b[0;31mFileNotFoundError\u001b[0m                         Traceback (most recent call last)",
            "\u001b[0;32m<ipython-input-41-54c317c2dd60>\u001b[0m in \u001b[0;36m<module>\u001b[0;34m()\u001b[0m\n\u001b[0;32m----> 1\u001b[0;31m \u001b[0mf\u001b[0m\u001b[0;34m=\u001b[0m\u001b[0mopen\u001b[0m\u001b[0;34m(\u001b[0m\u001b[0;34m'datacall.csv'\u001b[0m\u001b[0;34m)\u001b[0m\u001b[0;34m\u001b[0m\u001b[0;34m\u001b[0m\u001b[0m\n\u001b[0m\u001b[1;32m      2\u001b[0m \u001b[0mreader\u001b[0m\u001b[0;34m=\u001b[0m\u001b[0mcsv\u001b[0m\u001b[0;34m.\u001b[0m\u001b[0mreader\u001b[0m\u001b[0;34m(\u001b[0m\u001b[0mf\u001b[0m\u001b[0;34m)\u001b[0m\u001b[0;34m\u001b[0m\u001b[0;34m\u001b[0m\u001b[0m\n\u001b[1;32m      3\u001b[0m \u001b[0mdata\u001b[0m\u001b[0;34m=\u001b[0m\u001b[0;34m[\u001b[0m\u001b[0mrow\u001b[0m \u001b[0;32min\u001b[0m \u001b[0mreader\u001b[0m\u001b[0;34m]\u001b[0m\u001b[0;34m\u001b[0m\u001b[0;34m\u001b[0m\u001b[0m\n\u001b[1;32m      4\u001b[0m \u001b[0mf\u001b[0m\u001b[0;34m.\u001b[0m\u001b[0mclose\u001b[0m\u001b[0;34m\u001b[0m\u001b[0;34m\u001b[0m\u001b[0m\n",
            "\u001b[0;31mFileNotFoundError\u001b[0m: [Errno 2] No such file or directory: 'datacall.csv'"
          ]
        }
      ]
    },
    {
      "metadata": {
        "id": "r2qCZoC8k-Hj",
        "colab_type": "code",
        "colab": {}
      },
      "cell_type": "code",
      "source": [
        "L_rate=2.73263/100.0\n",
        "today = np.datetime64('2019-02-04')\n",
        "maturity = np.datetime64('2019-06-21')\n",
        "time_to_maturity_days = maturity - today\n",
        "T_1 = time_to_maturity_days/np.timedelta64(1,'D')/365\n",
        "\n",
        "Init_state=171.25\n",
        "Drift_ratio=L_rate\n",
        "maturity=T_1\n",
        "\n",
        "gbm = GBM(\n",
        "    init_state = Init_state, #market data\n",
        "    drift_ratio = Drift_ratio, #market data\n",
        "    vol_ratio = .1 #initial guess\n",
        ")\n",
        "\n",
        "def Clist(Odata):\n",
        "  Olist=[]\n",
        "  Slist=[]\n",
        "  for row in Odata:\n",
        "    strike, market_price=row\n",
        "    Slist.apend(strike)\n",
        "    Olist.append(Option(Otype=1,Strike=strike, Maturity=T_1,Market_Price=market_price))\n",
        "    return Olist, Slist\n",
        "\n",
        "def targetfunction(sigma, gbm, option):\n",
        "  gbm.vol_ratio=sigma\n",
        "  return np.abs(GBM.bsm_price(gbm, option)-option.Market_Price)\n",
        "\n",
        "def implied_volatility(gbm, Olist):\n",
        "  Vlist=[]\n",
        "  init_vol=.1\n",
        "  for option in Olist:\n",
        "    Vlist.append(float(so.fmin(targetfunction, init_vol, args=(gbm, option), disp=0)[0]))\n",
        "  return Vlist\n",
        "\n",
        "Olist, Slist=Clist(Odata)\n",
        "Vlist=implied_volatility(gbm, Olist)\n",
        "plt.plot(Slist, Vlist)\n"
      ],
      "execution_count": 0,
      "outputs": []
    },
    {
      "metadata": {
        "id": "7dcx7rHWBq0s",
        "colab_type": "code",
        "colab": {}
      },
      "cell_type": "code",
      "source": [
        ""
      ],
      "execution_count": 0,
      "outputs": []
    }
  ]
}