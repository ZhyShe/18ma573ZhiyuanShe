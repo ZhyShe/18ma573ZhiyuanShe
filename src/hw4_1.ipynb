{
  "nbformat": 4,
  "nbformat_minor": 0,
  "metadata": {
    "colab": {
      "name": "hw4_1.ipynb",
      "version": "0.3.2",
      "provenance": [],
      "include_colab_link": true
    },
    "kernelspec": {
      "name": "python3",
      "display_name": "Python 3"
    }
  },
  "cells": [
    {
      "cell_type": "markdown",
      "metadata": {
        "id": "view-in-github",
        "colab_type": "text"
      },
      "source": [
        "<a href=\"https://colab.research.google.com/github/ZhyShe/18ma573ZhiyuanShe/blob/master/src/hw4_1.ipynb\" target=\"_parent\"><img src=\"https://colab.research.google.com/assets/colab-badge.svg\" alt=\"Open In Colab\"/></a>"
      ]
    },
    {
      "metadata": {
        "id": "rULOYWJrdGe8",
        "colab_type": "text"
      },
      "cell_type": "markdown",
      "source": [
        "The objective is to get familiar with model calibration.\n",
        "- download call today's option prices of your favrite stock with maturity $T_1$ and several near the money strikes $(K_1, \\ldots, K_n)$.\n",
        "- compute IV with your bsm price engine for each option price. You are going to use USD Libor 3-month for your interest rate input. \n",
        "- plot a figure of strike v.s. IV. Do you find any volatility smile? \n",
        "- calibrate bsm volatility for the option prices, denote it by $\\hat \\sigma$. You may use any error function for the calibration purpose.\n",
        "- reproduce option prices using your price engine with calibrated volatility, then compare how close they are to the market prices.\n"
      ]
    },
    {
      "metadata": {
        "id": "wrzhoZyUljqn",
        "colab_type": "code",
        "colab": {}
      },
      "cell_type": "code",
      "source": [
        "#----------------\n",
        "\n",
        "# First, we will import the file we have written\n",
        "\n",
        "#----------------\n",
        "\n",
        "## code starts here"
      ],
      "execution_count": 0,
      "outputs": []
    },
    {
      "metadata": {
        "id": "YL529wVRgJqh",
        "colab_type": "code",
        "outputId": "6c64e3b4-fb03-4f4e-8f4d-a3564c00fafc",
        "colab": {
          "base_uri": "https://localhost:8080/",
          "height": 34
        }
      },
      "cell_type": "code",
      "source": [
        "!git clone https://github.com/ZhyShe/18ma573ZhiyuanShe"
      ],
      "execution_count": 0,
      "outputs": [
        {
          "output_type": "stream",
          "text": [
            "fatal: destination path '18ma573ZhiyuanShe' already exists and is not an empty directory.\n"
          ],
          "name": "stdout"
        }
      ]
    },
    {
      "metadata": {
        "id": "Rag6uaCAgRpG",
        "colab_type": "code",
        "outputId": "fc629fc9-7d2b-4cfe-c4cd-bc73c7ca7b55",
        "colab": {
          "base_uri": "https://localhost:8080/",
          "height": 34
        }
      },
      "cell_type": "code",
      "source": [
        "cd /content/18ma573ZhiyuanShe/src/"
      ],
      "execution_count": 0,
      "outputs": [
        {
          "output_type": "stream",
          "text": [
            "/content/18ma573ZhiyuanShe/src\n"
          ],
          "name": "stdout"
        }
      ]
    },
    {
      "metadata": {
        "id": "LVZbQIsJgWmz",
        "colab_type": "code",
        "outputId": "6f0452df-ef63-4a6a-d001-83ffc925b757",
        "colab": {
          "base_uri": "https://localhost:8080/",
          "height": 34
        }
      },
      "cell_type": "code",
      "source": [
        "ls hw3_py.py"
      ],
      "execution_count": 0,
      "outputs": [
        {
          "output_type": "stream",
          "text": [
            "hw3_py.py\n"
          ],
          "name": "stdout"
        }
      ]
    },
    {
      "metadata": {
        "id": "Ko6log3dl4Lo",
        "colab_type": "code",
        "colab": {}
      },
      "cell_type": "code",
      "source": [
        "#-------------------\n",
        "\n",
        "## The Stock I choose is 'AAPl', and I download its Price from Yahoo Finance. \n",
        "\n",
        "## Second, we will load the file which contains Strike_price, market_Price, Volum. \n",
        "\n",
        "#-------------------"
      ],
      "execution_count": 0,
      "outputs": []
    },
    {
      "metadata": {
        "id": "NrNaHHXrgecR",
        "colab_type": "code",
        "colab": {}
      },
      "cell_type": "code",
      "source": [
        "import numpy as np\n",
        "import matplotlib.pyplot as plt \n",
        "from hw3_py import GBM, Option\n",
        "import scipy.optimize as so\n",
        "import csv\n",
        "from prettytable import PrettyTable"
      ],
      "execution_count": 0,
      "outputs": []
    },
    {
      "metadata": {
        "id": "hj6z63KhnsSa",
        "colab_type": "code",
        "colab": {}
      },
      "cell_type": "code",
      "source": [
        "## Then we will process the data to the from that  can be used in the latter part. "
      ],
      "execution_count": 0,
      "outputs": []
    },
    {
      "metadata": {
        "id": "2eWMdpFaxkAr",
        "colab_type": "code",
        "outputId": "551dae58-1c43-4e6d-c868-fe9e88567ef4",
        "colab": {
          "base_uri": "https://localhost:8080/",
          "height": 918
        }
      },
      "cell_type": "code",
      "source": [
        "f=open('datacall.csv',encoding='UTF-8-sig')\n",
        "reader=csv.reader(f)\n",
        "data=[row for row in reader]\n",
        "f.close()\n",
        "data=np.array(data)\n",
        "Odata=np.zeros(data.shape)\n",
        "for i in range(data.shape[0]):\n",
        "  for j in range(data.shape[1]):\n",
        "    try:\n",
        "      Odata[i][j]=float(data[i][j])\n",
        "    except: Odata[i][j]=float(data[i][j].split(',')[0]+data[i][j].split(',')[1])\n",
        "table = PrettyTable([  'strike', 'Volum', 'market_price'])\n",
        "[table.add_row(row) for row in Odata]\n",
        "print(table)"
      ],
      "execution_count": 0,
      "outputs": [
        {
          "output_type": "stream",
          "text": [
            "+--------+--------+--------------+\n",
            "| strike | Volum  | market_price |\n",
            "+--------+--------+--------------+\n",
            "|  77.1  |  1.0   |     80.0     |\n",
            "|  85.0  |  2.0   |     85.0     |\n",
            "|  77.7  | 175.0  |     90.0     |\n",
            "| 72.43  |  1.0   |     95.0     |\n",
            "|  71.0  |  24.0  |    100.0     |\n",
            "| 62.61  |  1.0   |    105.0     |\n",
            "| 47.72  |  50.0  |    110.0     |\n",
            "| 55.15  |  60.0  |    115.0     |\n",
            "| 51.93  |  10.0  |    120.0     |\n",
            "| 45.68  |  4.0   |    125.0     |\n",
            "| 41.92  |  36.0  |    130.0     |\n",
            "|  37.3  |  2.0   |    135.0     |\n",
            "|  33.4  |  24.0  |    140.0     |\n",
            "| 28.95  |  45.0  |    145.0     |\n",
            "| 24.25  | 255.0  |    150.0     |\n",
            "| 20.49  | 221.0  |    155.0     |\n",
            "| 17.05  | 517.0  |    160.0     |\n",
            "| 13.84  | 416.0  |    165.0     |\n",
            "|  11.0  | 1590.0 |    170.0     |\n",
            "|  8.6   | 1033.0 |    175.0     |\n",
            "|  6.5   | 979.0  |    180.0     |\n",
            "|  4.8   | 1072.0 |    185.0     |\n",
            "|  3.48  | 451.0  |    190.0     |\n",
            "|  2.55  | 571.0  |    195.0     |\n",
            "|  1.8   | 591.0  |    200.0     |\n",
            "|  1.29  | 318.0  |    205.0     |\n",
            "|  0.94  | 330.0  |    210.0     |\n",
            "|  0.68  |  40.0  |    215.0     |\n",
            "|  0.51  |  59.0  |    220.0     |\n",
            "|  0.38  |  75.0  |    225.0     |\n",
            "|  0.32  | 295.0  |    230.0     |\n",
            "|  0.26  |  29.0  |    235.0     |\n",
            "|  0.2   |  4.0   |    240.0     |\n",
            "|  0.18  |  6.0   |    245.0     |\n",
            "|  0.15  |  25.0  |    250.0     |\n",
            "|  0.12  |  1.0   |    255.0     |\n",
            "|  0.12  |  32.0  |    260.0     |\n",
            "|  0.08  |  1.0   |    265.0     |\n",
            "|  0.07  |  10.0  |    270.0     |\n",
            "|  0.07  |  10.0  |    275.0     |\n",
            "|  0.06  |  1.0   |    280.0     |\n",
            "|  0.05  |  4.0   |    285.0     |\n",
            "|  0.06  |  16.0  |    290.0     |\n",
            "|  0.07  |  1.0   |    295.0     |\n",
            "|  0.04  |  1.0   |    300.0     |\n",
            "|  0.03  |  75.0  |    310.0     |\n",
            "|  0.01  |  2.0   |    320.0     |\n",
            "|  0.03  |  60.0  |    330.0     |\n",
            "|  0.03  | 116.0  |    340.0     |\n",
            "+--------+--------+--------------+\n"
          ],
          "name": "stdout"
        }
      ]
    },
    {
      "metadata": {
        "id": "N2nEYc5ToQj0",
        "colab_type": "code",
        "colab": {}
      },
      "cell_type": "code",
      "source": [
        "## In order to do this useful, we will omit some options that are not liquidly traded.\n",
        "## In our code, we will delete the options whose volum is lower than 5."
      ],
      "execution_count": 0,
      "outputs": []
    },
    {
      "metadata": {
        "id": "anwRlAN0P_Wj",
        "colab_type": "code",
        "colab": {}
      },
      "cell_type": "code",
      "source": [
        "new_Odata=[]\n",
        "for row in Odata:\n",
        "  if row[1]>5:\n",
        "    new_Odata.append([row[0],row[2]])\n",
        "\n",
        "Odata=new_Odata"
      ],
      "execution_count": 0,
      "outputs": []
    },
    {
      "metadata": {
        "id": "qHauHdLNp-4m",
        "colab_type": "code",
        "colab": {}
      },
      "cell_type": "code",
      "source": [
        "## Here calculating the marturity and plotting the figure."
      ],
      "execution_count": 0,
      "outputs": []
    },
    {
      "metadata": {
        "id": "r2qCZoC8k-Hj",
        "colab_type": "code",
        "outputId": "11dea09a-6429-4def-cae6-a2e8cf9cc6c1",
        "colab": {
          "base_uri": "https://localhost:8080/",
          "height": 361
        }
      },
      "cell_type": "code",
      "source": [
        "L_rate=2.73263/100.0\n",
        "today = np.datetime64('2019-02-04')\n",
        "maturity = np.datetime64('2019-06-21')\n",
        "time_to_maturity_days = maturity - today\n",
        "T_1 = time_to_maturity_days/np.timedelta64(1,'D')/365\n",
        "\n",
        "Init_state=166.52\n",
        "Drift_ratio=L_rate\n",
        "maturity=T_1\n",
        "\n",
        "gbm = GBM(\n",
        "    init_state = Init_state, #market data\n",
        "    drift_ratio = Drift_ratio, #market data\n",
        "    vol_ratio = .1 #initial guess\n",
        ")\n",
        "\n",
        "def Clist(Odata):\n",
        "  Olist=[]\n",
        "  Slist=[]\n",
        "  for row in Odata:\n",
        "    market_price, strike=row\n",
        "    Slist.append(strike)\n",
        "    Olist.append(Option(Otype=1,Strike=strike, Maturity=T_1,Market_Price=market_price))\n",
        "  return Olist, Slist\n",
        "\n",
        "def targetfunction(sigma, gbm, option):\n",
        "  gbm.vol_ratio=sigma\n",
        "  return (GBM.bsm_price(gbm, option)-option.Market_Price)**2\n",
        "\n",
        "def implied_volatility(gbm, option):\n",
        "  sigma=0.1\n",
        "  return float(so.fmin(targetfunction, sigma, args=(gbm, option), disp=0)[0]) \n",
        "\n",
        "Olist, Slist=Clist(Odata)\n",
        "Vlist=[]\n",
        "for option in Olist:\n",
        "  Vlist.append(implied_volatility(gbm, option))\n",
        "plt.figure()\n",
        "plt.plot(Slist, Vlist)\n",
        "plt.xlabel('Strike_Price')\n",
        "plt.ylabel('impplied-volatility of call option')\n",
        "plt.show()"
      ],
      "execution_count": 0,
      "outputs": [
        {
          "output_type": "display_data",
          "data": {
            "image/png": "[encoded data removed]",
            "text/plain": [
              "<Figure size 576x396 with 1 Axes>"
            ]
          },
          "metadata": {
            "tags": []
          }
        }
      ]
    },
    {
      "metadata": {
        "id": "8yBRbrbhqQNI",
        "colab_type": "text"
      },
      "cell_type": "markdown",
      "source": [
        "Now, we will calibrate bsm volatility for the option prices, denote it by $\\hat \\sigma$. You may use any error function for the calibration purpose."
      ]
    },
    {
      "metadata": {
        "id": "q4S-O9pykxPp",
        "colab_type": "code",
        "colab": {}
      },
      "cell_type": "code",
      "source": [
        "def erro_function(sigma, gbm, Olist):\n",
        "  erro=0\n",
        "  gbm.vol_ratio=sigma\n",
        "  for option in Olist:\n",
        "    erro+=(GBM.bsm_price(gbm, option)-option.Market_Price)**2\n",
        "  return erro\n",
        "\n",
        "def bsm_calibration(gbm, Olist):\n",
        "  sigma=0.1\n",
        "  return float(so.fmin(erro_function, sigma, args=(gbm, Olist), disp=0)[0])\n",
        "  "
      ],
      "execution_count": 0,
      "outputs": []
    },
    {
      "metadata": {
        "id": "ihkIrSHesEcz",
        "colab_type": "code",
        "outputId": "b3d6429f-ee2a-4025-8870-10fb273d9d96",
        "colab": {
          "base_uri": "https://localhost:8080/",
          "height": 34
        }
      },
      "cell_type": "code",
      "source": [
        "sigma_hat=bsm_calibration(gbm, Olist)\n",
        "sigma_hat"
      ],
      "execution_count": 0,
      "outputs": [
        {
          "output_type": "execute_result",
          "data": {
            "text/plain": [
              "0.2971093750000007"
            ]
          },
          "metadata": {
            "tags": []
          },
          "execution_count": 207
        }
      ]
    },
    {
      "metadata": {
        "id": "duoeoZIasMwV",
        "colab_type": "code",
        "colab": {}
      },
      "cell_type": "code",
      "source": [
        "gbm.vol_ratio=sigma_hat\n",
        "Values=[GBM.bsm_price(gbm, option) for option in Olist]"
      ],
      "execution_count": 0,
      "outputs": []
    },
    {
      "metadata": {
        "id": "uuLVt5JCsv2y",
        "colab_type": "code",
        "outputId": "e704e3b2-81f4-42c2-b221-f4e24dbfe4e6",
        "colab": {
          "base_uri": "https://localhost:8080/",
          "height": 362
        }
      },
      "cell_type": "code",
      "source": [
        "plt.figure()\n",
        "plt.scatter([option.Market_Price for option in Olist], Slist,color='r',s=5,label='market price')\n",
        "plt.plot(Values, Slist,color='y',label = 'calib price')\n",
        "plt.xlabel(\"AAPL's Strike Price\")\n",
        "plt.ylabel('Option Price')\n",
        "plt.legend()\n",
        "plt.show()"
      ],
      "execution_count": 0,
      "outputs": [
        {
          "output_type": "display_data",
          "data": {
            "image/png": "[encoded data removed]",
            "text/plain": [
              "<Figure size 576x396 with 1 Axes>"
            ]
          },
          "metadata": {
            "tags": []
          }
        }
      ]
    }
  ]
}