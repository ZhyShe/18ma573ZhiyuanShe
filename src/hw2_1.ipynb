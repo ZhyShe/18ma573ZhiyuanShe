{
  "nbformat": 4,
  "nbformat_minor": 0,
  "metadata": {
    "colab": {
      "name": "hw2_1.ipynb",
      "version": "0.3.2",
      "provenance": [],
      "include_colab_link": true
    },
    "kernelspec": {
      "display_name": "Python 3",
      "language": "python",
      "name": "python3"
    }
  },
  "cells": [
    {
      "cell_type": "markdown",
      "metadata": {
        "id": "view-in-github",
        "colab_type": "text"
      },
      "source": [
        "<a href=\"https://colab.research.google.com/github/ZhyShe/18ma573ZhiyuanShe/blob/master/src/hw2_1.ipynb\" target=\"_parent\"><img src=\"https://colab.research.google.com/assets/colab-badge.svg\" alt=\"Open In Colab\"/></a>"
      ]
    },
    {
      "metadata": {
        "id": "4u81mPX-4XsG",
        "colab_type": "text"
      },
      "cell_type": "markdown",
      "source": [
        "# Ex.\n",
        "\n",
        "Suppose that we wish to approximate the first derivative $u'(x)$ of a very smooth function with an error of only $O(h)^4$, where $h$ is the step size. Which difference approximation could we use?"
      ]
    },
    {
      "metadata": {
        "id": "myhzwxnR4XsI",
        "colab_type": "code",
        "colab": {}
      },
      "cell_type": "code",
      "source": [
        "import numpy as np\n",
        "import matplotlib.pyplot as plt\n",
        "\n",
        "def ffd(f, x, h):\n",
        "  return (f(x+h)-f(x))/h\n",
        "def bfd(f, x, h):\n",
        "  return (f(x)-f(x-h))/h\n",
        "def cfd(f, x, h):\n",
        "  return (ffd(f, x, h)+bfd(f, x, h))/2\n",
        "def Richardson(r, f, x, h):#here r satisfies 1-r^n $\\neq$0, where n is the convergence order of cfd \n",
        "  return (cfd(f, x, r*h)-(r**2)*cfd(f, x, h))/(1-r**2)\n",
        "  "
      ],
      "execution_count": 0,
      "outputs": []
    },
    {
      "metadata": {
        "id": "WYma79XjHGE2",
        "colab_type": "code",
        "outputId": "01f09ca0-40fa-4669-f2a2-0fa78ae3e381",
        "colab": {
          "base_uri": "https://localhost:8080/",
          "height": 364
        }
      },
      "cell_type": "code",
      "source": [
        "examined_point=np.pi/3\n",
        "examined_value=np.cos(examined_point)\n",
        "nn=np.arange(1,10)\n",
        "hh=1/np.power(2,nn)\n",
        "err=Richardson(0.5, np.sin, examined_point, hh)-examined_value\n",
        "yy=np.log2(np.abs(err))\n",
        "plt.plot(nn,yy)"
      ],
      "execution_count": 0,
      "outputs": [
        {
          "output_type": "execute_result",
          "data": {
            "text/plain": [
              "[<matplotlib.lines.Line2D at 0x7f12eb15dd30>]"
            ]
          },
          "metadata": {
            "tags": []
          },
          "execution_count": 2
        },
        {
          "output_type": "display_data",
          "data": {
            "image/png": "[encoded data removed]",
            "text/plain": [
              "<Figure size 576x396 with 1 Axes>"
            ]
          },
          "metadata": {
            "tags": []
          }
        }
      ]
    },
    {
      "metadata": {
        "id": "ERvI0HnoIPWk",
        "colab_type": "code",
        "outputId": "fdea4df1-2ca5-4cca-99f1-97786925ce7b",
        "colab": {
          "base_uri": "https://localhost:8080/",
          "height": 34
        }
      },
      "cell_type": "code",
      "source": [
        "import scipy.stats as ss\n",
        "out = ss.linregress(nn,yy)\n",
        "print('----->>>the convergence order is ' + str(-out[0]))"
      ],
      "execution_count": 0,
      "outputs": [
        {
          "output_type": "stream",
          "text": [
            "----->>>the convergence order is 4.040665587116861\n"
          ],
          "name": "stdout"
        }
      ]
    },
    {
      "metadata": {
        "id": "tuKXXMk0hO6P",
        "colab_type": "text"
      },
      "cell_type": "markdown",
      "source": [
        "__Proof__, We know $I(h)=\\frac{\\delta_hf(x)+\\delta_{-h}f(x)}{2}$ converges to $f'(x)$ with rate 2. That is \n",
        "\\begin{align}\n",
        "(1)\\quad\\quad f'(x)-I(h)=-\\frac{f^{(3)}(x)}{3\\mathop{!}}h^2-\\frac{f^{(5)}(x)}{5\\mathop{!}}h^4+o(h^5)\n",
        "\\end{align}\n",
        "Therefore, let $r$ satisfy $1-r^2\\neq0$. We have\n",
        "$$\n",
        "(2)\\quad\\quad f'(x)-I(rh)=-\\frac{f^{(3)}(x)}{3\\mathop{!}}(rh)^2-\\frac{f^{(5)}(x)}{5\\mathop{!}}(rh)^4+o(h^5)\n",
        "$$\n",
        "Both sides of (1) times $r^2$, we get\n",
        "$$\n",
        "(3)\\quad\\quad r^2f'(x)-r^2I(h)=-\\frac{f^{(3)}(x)}{3\\mathop{!}}(rh)^2-\\frac{f^{(5)}(x)}{5\\mathop{!}}r^2h^4+o(h^5)\n",
        "$$\n",
        "Let $(2)-(3)$, we get \n",
        "$$\n",
        "(4)\\quad\\quad(1-r^2)f'(x)-\\big(I(rh)-r^2I(h)\\big)=-\\frac{f^{(5)}(x)}{5\\mathop{!}}(r^4-r^2)h^4+o(h^5)\n",
        "$$\n",
        "divide both sides of  $(4)$ by $1-r^2$, we have\n",
        "$$\n",
        "f'(x)-\\frac{I(rh)-r^2I(h)}{1-r^2}=\\frac{f^{(5)}(x)}{5\\mathop{!}}r^2h^4+o(h^5)\n",
        "$$\n",
        "Let $I_1(h):=\\frac{I(rh)-r^2I(h)}{1-r^2}$, we use $I_{1}(h)$ to approximate $f'(x)$ to get $o(h^4)$ error."
      ]
    },
    {
      "metadata": {
        "id": "qLf4SpKVdPu3",
        "colab_type": "code",
        "colab": {}
      },
      "cell_type": "code",
      "source": [
        ""
      ],
      "execution_count": 0,
      "outputs": []
    }
  ]
}