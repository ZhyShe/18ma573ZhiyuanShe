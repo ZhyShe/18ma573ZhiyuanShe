{
  "nbformat": 4,
  "nbformat_minor": 0,
  "metadata": {
    "colab": {
      "name": "hw6_2.ipynb",
      "version": "0.3.2",
      "provenance": [],
      "include_colab_link": true
    },
    "kernelspec": {
      "name": "python3",
      "display_name": "Python 3"
    }
  },
  "cells": [
    {
      "cell_type": "markdown",
      "metadata": {
        "id": "view-in-github",
        "colab_type": "text"
      },
      "source": [
        "<a href=\"https://colab.research.google.com/github/ZhyShe/18ma573ZhiyuanShe/blob/master/src/hw6_2.ipynb\" target=\"_parent\"><img src=\"https://colab.research.google.com/assets/colab-badge.svg\" alt=\"Open In Colab\"/></a>"
      ]
    },
    {
      "metadata": {
        "id": "fGU_RcZfQMZ8",
        "colab_type": "text"
      },
      "cell_type": "markdown",
      "source": [
        "1. Since $p_1$ is a PDF, we know \n",
        "$$\n",
        "\\begin{align*}\n",
        "\\int_{-\\infty}^{\\infty}p_1(x)dx&=\\frac{1}{C}(2\\cdot\\frac{1}{100}+(1-\\frac{1}{100}))\\\\\n",
        "&=\\frac{1}{C}(\\frac{2}{100}+\\frac{99}{100})\\\\\n",
        "&=\\frac{101}{100C}=1\n",
        "\\end{align*}\n",
        "$$\n",
        "Therefore, $C=\\frac{101}{100}$. Therefore,\n",
        "<br>\n",
        "$$\n",
        "F_1(x)=\\frac{200x}{101}1_{\\{0<x\\leq\\frac{1}{100}\\}}+(\\frac{100}{101}x+\\frac{1}{101})1_{\\{\\frac{1}{100}<x<1\\}}\n",
        "$$"
      ]
    },
    {
      "metadata": {
        "id": "XzcV9ngEcF1v",
        "colab_type": "text"
      },
      "cell_type": "markdown",
      "source": [
        "2. Find $F_1^{-1}(x)$, where, $x\\in(0,1)$\n",
        "$$\n",
        "\\begin{align*}\n",
        "F_1^{-1}(x)=\\frac{101x}{200}1_{\\{0<x\\leq\\frac{2}{101}\\}}\n",
        "+(\\frac{101}{100}x-\\frac{1}{100})1_{\\{\\frac{2}{101}<x<1\\}}\n",
        "\\end{align*}\n",
        "$$"
      ]
    },
    {
      "metadata": {
        "id": "1DcucZakQLuG",
        "colab_type": "code",
        "colab": {}
      },
      "cell_type": "code",
      "source": [
        "import numpy as np\n",
        "import matplotlib.pyplot as plt\n",
        "import scipy.stats as ss\n",
        "\n",
        "def p1(x):\n",
        "  if x>0 and x<=1/100:\n",
        "    return 200/101\n",
        "  if x>1/100 and x<1:\n",
        "    return 100/101\n",
        "\n",
        "def h(x):\n",
        "  if x>0 and x<=1/100:\n",
        "    return 100\n",
        "  else:\n",
        "    return 1\n",
        "\n",
        "def F1(x):\n",
        "  if 0<x and x<=2/101:\n",
        "    return 101*x/200\n",
        "  else:\n",
        "    return (101/100)*x-1/100\n",
        "  \n",
        "\n",
        "def inverse_transform_sampling(n):\n",
        "  Y=np.random.uniform(0,1,n)\n",
        "  X=[]\n",
        "  for y in Y:\n",
        "    X.append(F1(y))\n",
        "  return X\n",
        "   "
      ],
      "execution_count": 0,
      "outputs": []
    },
    {
      "metadata": {
        "id": "fZraIFCIhlec",
        "colab_type": "code",
        "colab": {}
      },
      "cell_type": "code",
      "source": [
        "def importance_sampling_integral(n):\n",
        "  X=inverse_transform_sampling(n)\n",
        "  Sum=0\n",
        "  for x in X:\n",
        "    Sum=Sum+h(x)/p1(x)\n",
        "  return Sum/n"
      ],
      "execution_count": 0,
      "outputs": []
    },
    {
      "metadata": {
        "id": "BxdsDXYGmWKd",
        "colab_type": "code",
        "colab": {}
      },
      "cell_type": "code",
      "source": [
        "N=[2**i for i in range(5,11)]\n",
        "Alpha=[]\n",
        "for n in N:\n",
        "  alpha=[]\n",
        "  for _ in range(100):\n",
        "    alpha.append(importance_sampling_integral(n))\n",
        "  Alpha.append(alpha)\n",
        "\n",
        "Sigma=[np.std(alpha) for alpha in Alpha]\n",
        "  "
      ],
      "execution_count": 0,
      "outputs": []
    },
    {
      "metadata": {
        "id": "HAq2KDSDoSX_",
        "colab_type": "code",
        "outputId": "be3d94c3-fb76-4d3f-e8a7-feb47da76a3f",
        "colab": {
          "base_uri": "https://localhost:8080/",
          "height": 347
        }
      },
      "cell_type": "code",
      "source": [
        "plt.plot(np.log2(N),-np.log2(Sigma))\n",
        "plt.show()\n"
      ],
      "execution_count": 0,
      "outputs": [
        {
          "output_type": "display_data",
          "data": {
            "image/png": "[encoded data removed]",
            "text/plain": [
              "<Figure size 576x396 with 1 Axes>"
            ]
          },
          "metadata": {
            "tags": []
          }
        }
      ]
    },
    {
      "metadata": {
        "id": "vwBHqR6pvZZG",
        "colab_type": "code",
        "outputId": "41351f62-2d5d-45b6-ad0c-5b23a931d741",
        "colab": {
          "base_uri": "https://localhost:8080/",
          "height": 34
        }
      },
      "cell_type": "code",
      "source": [
        "out = ss.linregress(np.log2(N),-np.log2(Sigma))\n",
        "print('----->>>the convergence order is ' + str(out[0]))"
      ],
      "execution_count": 0,
      "outputs": [
        {
          "output_type": "stream",
          "text": [
            "----->>>the convergence order is 0.4766560859830539\n"
          ],
          "name": "stdout"
        }
      ]
    },
    {
      "metadata": {
        "id": "40C_Nr3KvoO9",
        "colab_type": "code",
        "colab": {}
      },
      "cell_type": "code",
      "source": [
        ""
      ],
      "execution_count": 0,
      "outputs": []
    }
  ]
}