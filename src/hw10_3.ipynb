{
  "nbformat": 4,
  "nbformat_minor": 0,
  "metadata": {
    "colab": {
      "name": "hw10_3.ipynb",
      "version": "0.3.2",
      "provenance": [],
      "include_colab_link": true
    },
    "kernelspec": {
      "name": "python3",
      "display_name": "Python 3"
    }
  },
  "cells": [
    {
      "cell_type": "markdown",
      "metadata": {
        "id": "view-in-github",
        "colab_type": "text"
      },
      "source": [
        "<a href=\"https://colab.research.google.com/github/ZhyShe/18ma573ZhiyuanShe/blob/master/src/hw10_3.ipynb\" target=\"_parent\"><img src=\"https://colab.research.google.com/assets/colab-badge.svg\" alt=\"Open In Colab\"/></a>"
      ]
    },
    {
      "metadata": {
        "id": "YgD9GWm7uNj3",
        "colab_type": "text"
      },
      "cell_type": "markdown",
      "source": [
        "Since\n",
        "$$\n",
        "df(X_{1t},X_{2t})=\\frac{\\partial f}{\\partial X_{1t}}dX_{1t}+\\frac{\\partial f}{\\partial X_{2t}}dX_{2t}+\\frac{\\partial f}{\\partial X_{2t}\\partial X_{1t}}dX_{2t}dX_{1t}+\\frac{1}{2}\\frac{\\partial f}{\\partial X_{2t}^2}dX_{2t}dX_{2t}+\\frac{1}{2}\\frac{\\partial f}{\\partial X_{1t}^2}dX_{1t}dX_{1t}\n",
        "$$\n",
        "We have\n",
        "$$\n",
        "df(X_{1t},X_{2t})=\\frac{\\partial f}{\\partial X_{1t}}(b_1dt+\\sigma_{11}dW_{1t}+\\sigma_{12}dW_{2t})+\\frac{\\partial f}{\\partial X_{2t}}(b_2dt+\\sigma_{21}dW_{1t}+\\sigma_{22}dW_{2t})+\\frac{\\partial f}{\\partial X_{2t}\\partial X_{1t}}(\\sigma_{11}\\sigma_{21}+\\sigma_{22}\\sigma_{12})dt+\\frac{1}{2}\\frac{\\partial f}{\\partial X_{2t}^2}\\sigma^2_{22}dt+\\frac{1}{2}\\frac{\\partial f}{\\partial X_{1t}^2}\\sigma^2_{11}dt\n",
        "$$"
      ]
    },
    {
      "metadata": {
        "id": "4cZJMYlSyTK_",
        "colab_type": "text"
      },
      "cell_type": "markdown",
      "source": [
        "That is \n",
        "$$\n",
        "df(X_{1t},X_{2t})= (\\frac{\\partial f}{\\partial X_{1t}}b_1+\\frac{\\partial f}{\\partial X_{2t}}b_2+\\frac{\\partial f}{\\partial X_{2t}\\partial X_{1t}}(\\sigma_{11}\\sigma_{21}+\\sigma_{22}\\sigma_{12})+\\frac{1}{2}\\frac{\\partial f}{\\partial X_{1t}^2}\\sigma^2_{11}+\\frac{1}{2}\\frac{\\partial f}{\\partial X_{2t}^2}\\sigma^2_{22})dt+(\\frac{\\partial f}{\\partial X_{1t}}\\sigma_{11}+\\frac{\\partial f}{\\partial X_{2t}}\\sigma_{21})dW_{1t}+(\\frac{\\partial f}{\\partial X_{1t}}\\sigma_{12}+\\frac{\\partial f}{\\partial X_{2t}}\\sigma_{22})dW_{2t}\n",
        "$$"
      ]
    },
    {
      "metadata": {
        "id": "1sbzZ1QX0k4l",
        "colab_type": "text"
      },
      "cell_type": "markdown",
      "source": [
        "i.e.\n",
        "$$\n",
        "f(X_{1t},X_{2t})=f(X_{10},X_{10})+\\int_0^t \\frac{\\partial f}{\\partial X_{1s}}b_1+\\frac{\\partial f}{\\partial X_{2s}}b_2+\\frac{\\partial f}{\\partial X_{2s}\\partial X_{1s}}(\\sigma_{11}\\sigma_{21}+\\sigma_{22}\\sigma_{12})+\\frac{1}{2}\\frac{\\partial f}{\\partial X_{1s}^2}\\sigma^2_{11}+\\frac{1}{2}\\frac{\\partial f}{\\partial X_{2s}^2}\\sigma^2_{22}ds+\\int_0^t\\frac{\\partial f}{\\partial X_{1s}}\\sigma_{11}+\\frac{\\partial f}{\\partial X_{2s}}\\sigma_{21}dW_{1s}+\\int_0^t\\frac{\\partial f}{\\partial X_{1s}}\\sigma_{12}+\\frac{\\partial f}{\\partial X_{2s}}\\sigma_{22}dW_{2s}\n",
        "$$\n"
      ]
    },
    {
      "metadata": {
        "id": "6vr7gmx2sNFO",
        "colab_type": "code",
        "colab": {}
      },
      "cell_type": "code",
      "source": [
        ""
      ],
      "execution_count": 0,
      "outputs": []
    }
  ]
}