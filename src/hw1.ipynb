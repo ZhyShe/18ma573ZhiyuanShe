{
  "nbformat": 4,
  "nbformat_minor": 0,
  "metadata": {
    "colab": {
      "name": "hw1.ipynb",
      "version": "0.3.2",
      "provenance": [],
      "include_colab_link": true
    },
    "kernelspec": {
      "name": "python3",
      "display_name": "Python 3"
    }
  },
  "cells": [
    {
      "cell_type": "markdown",
      "metadata": {
        "id": "view-in-github",
        "colab_type": "text"
      },
      "source": [
        "<a href=\"https://colab.research.google.com/github/ZhyShe/18ma573ZhiyuanShe/blob/master/src/hw1.ipynb\" target=\"_parent\"><img src=\"https://colab.research.google.com/assets/colab-badge.svg\" alt=\"Open In Colab\"/></a>"
      ]
    },
    {
      "metadata": {
        "id": "Agt3s6M2x9KN",
        "colab_type": "text"
      },
      "cell_type": "markdown",
      "source": [
        "Please complete the following tasks:\n",
        "\n",
        "- Visit [GitHub](https://github.com/) and register for your own account.\n",
        "\n",
        "- Create a new repo \n",
        "\n",
        "\t- with repo name '18ma573yourname' in your GitHub account. \n",
        "\t- with Description 'Computational methods on financial math'\n",
        "\t- ticking the box for 'initialize this repo with readme'\n",
        "\n",
        "- Write down pdf of $\\mathcal N(1, 4)$ using latex\n",
        "-  Plot its graph.\n",
        "- add the file to your repo\n",
        "- make a link of this file to your README.md of the repo\n",
        "- Email to me your repo link\n"
      ]
    },
    {
      "metadata": {
        "id": "e2uej3sjX50n",
        "colab_type": "text"
      },
      "cell_type": "markdown",
      "source": [
        "The pdf of $\\mathcal{N}(1,4)$  is \n",
        "\n",
        "\n",
        "$$f(x)=\\frac{1}{2\\cdot\\sqrt{2\\pi}}e^{-\\frac{(x-1)^2}{8}}$$"
      ]
    },
    {
      "metadata": {
        "id": "u5wuQ_VQYxy7",
        "colab_type": "code",
        "outputId": "bcdf4cab-bb48-4cf6-9997-59d198b28dbb",
        "colab": {
          "base_uri": "https://localhost:8080/",
          "height": 347
        }
      },
      "cell_type": "code",
      "source": [
        "import numpy as np\n",
        "import matplotlib.pyplot as plt\n",
        "\n",
        "samples_std1=np.random.normal(1,2,size=100000)\n",
        "plt.hist(samples_std1,bins=100,normed=True,histtype='stepfilled')\n",
        "plt.xlim(-5,7)\n",
        "plt.show()\n"
      ],
      "execution_count": 0,
      "outputs": [
        {
          "output_type": "display_data",
          "data": {
            "image/png": "[encoded data removed]",
            "text/plain": [
              "<matplotlib.figure.Figure at 0x7f02f6cbd860>"
            ]
          },
          "metadata": {
            "tags": []
          }
        }
      ]
    },
    {
      "metadata": {
        "id": "MMKjSdHdfDj6",
        "colab_type": "code",
        "colab": {}
      },
      "cell_type": "code",
      "source": [
        ""
      ],
      "execution_count": 0,
      "outputs": []
    }
  ]
}