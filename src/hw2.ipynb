{
  "nbformat": 4,
  "nbformat_minor": 0,
  "metadata": {
    "colab": {
      "name": "hw2.ipynb",
      "version": "0.3.2",
      "provenance": [],
      "include_colab_link": true
    },
    "kernelspec": {
      "display_name": "Python 3",
      "language": "python",
      "name": "python3"
    }
  },
  "cells": [
    {
      "cell_type": "markdown",
      "metadata": {
        "id": "view-in-github",
        "colab_type": "text"
      },
      "source": [
        "<a href=\"https://colab.research.google.com/github/ZhyShe/18ma573ZhiyuanShe/blob/master/src/hw2.ipynb\" target=\"_parent\"><img src=\"https://colab.research.google.com/assets/colab-badge.svg\" alt=\"Open In Colab\"/></a>"
      ]
    },
    {
      "metadata": {
        "id": "DtiBBaaX23Pn",
        "colab_type": "text"
      },
      "cell_type": "markdown",
      "source": [
        "# Abstract\n",
        "- Goal:\n",
        "    - Learn the second order derivative approximation: second order central finite difference\n",
        "    - Understand convergence rate\n"
      ]
    },
    {
      "metadata": {
        "id": "eaFuAupk23Pp",
        "colab_type": "text"
      },
      "cell_type": "markdown",
      "source": [
        "# Problem \n",
        "\n",
        "Let $f(x) = \\sin x$. Plot $f''$ and $\\delta_{-h} \\delta_h f$ with $h = .5$"
      ]
    },
    {
      "metadata": {
        "id": "Qn7LAsBy23Pq",
        "colab_type": "text"
      },
      "cell_type": "markdown",
      "source": [
        "# Anal\n",
        "\n",
        "\n",
        "One of the commonly used FD for $f''$ is the following:\n",
        "$$f''(x) = \\frac{d}{dx} f'(x) \\simeq \\delta_h f'(x) \\simeq \\delta_h \\delta_{-h} f(x).$$\n",
        "If we write it explicitly, then\n",
        "$$f''(x) \\simeq \\frac{f(x+h) - 2 f(x) + f(x-h)}{h^2}.$$"
      ]
    },
    {
      "metadata": {
        "id": "ks7RwCHn23Pq",
        "colab_type": "text"
      },
      "cell_type": "markdown",
      "source": [
        "__Prop__\n",
        "\n",
        "The central finite difference for the second order has convergence order $1$.\n",
        "\n",
        "__Proof__ \n",
        "Since \n",
        "\\begin{align*}\n",
        "&|\\delta_{-h}\\delta_{h}f(x)-f''(x)|=| \\frac{f(x+h) - 2 f(x) + f(x-h)}{h^2}-f''(x)|\\\\\n",
        "=&|\\frac{f(x)+f'(x)h+\\frac{f''(x)}{2}h^2+o(h^3)+f(x)-f'(x)h+\\frac{f''(x)}{2}h^2+o(h^3)-2f(x)-f''(x)h^2}{h^2}|\\\\\n",
        "=&|\\frac{o(h^3)}{h^2}|=o(h)\n",
        "\\end{align*}"
      ]
    },
    {
      "metadata": {
        "id": "hYBOsvtK23Pr",
        "colab_type": "text"
      },
      "cell_type": "markdown",
      "source": [
        "# Code"
      ]
    },
    {
      "metadata": {
        "id": "tRP3QpRj23Pt",
        "colab_type": "code",
        "colab": {}
      },
      "cell_type": "code",
      "source": [
        "import numpy as np\n",
        "import pandas as pd\n",
        "import matplotlib.pyplot as plt"
      ],
      "execution_count": 0,
      "outputs": []
    },
    {
      "metadata": {
        "id": "v8yeDBun23Pw",
        "colab_type": "code",
        "colab": {}
      },
      "cell_type": "code",
      "source": [
        "def sfd(f, x, h):\n",
        "    # your input here;\n",
        "    return (f(x+h)+f(x-h)-2*f(x))/h**2\n"
      ],
      "execution_count": 0,
      "outputs": []
    },
    {
      "metadata": {
        "id": "W6xVrA0w23Px",
        "colab_type": "code",
        "outputId": "c8681262-8975-49fa-fd77-0b42694eaa55",
        "colab": {
          "base_uri": "https://localhost:8080/",
          "height": 347
        }
      },
      "cell_type": "code",
      "source": [
        "'''\n",
        "Remove all #s below to plot a figure:\n",
        "    x_cod: points at which the derivative to be computed\n",
        "    y_cod: estimated derivative by finite difference\n",
        "'''\n",
        "\n",
        "\n",
        "\n",
        "h = .5 #step size\n",
        "x_co = np.linspace(0, 2*np.pi, 100)\n",
        "plt.plot(x_co, - np.sin(x_co), label = '$-sin(x)$');\n",
        "plt.plot(x_co, sfd(np.sin, x_co, h), label = 'sfd');\n",
        "plt.legend();"
      ],
      "execution_count": 0,
      "outputs": [
        {
          "output_type": "display_data",
          "data": {
            "image/png": "[encoded data removed]",
            "text/plain": [
              "<Figure size 576x396 with 1 Axes>"
            ]
          },
          "metadata": {
            "tags": []
          }
        }
      ]
    },
    {
      "metadata": {
        "id": "FZ9dQHFi23P0",
        "colab_type": "text"
      },
      "cell_type": "markdown",
      "source": [
        "plot log-log chart for the demonstration of convergence rate, find convergence order using linear regression."
      ]
    },
    {
      "metadata": {
        "id": "oiiy4-I023P0",
        "colab_type": "code",
        "outputId": "f1252db4-9d04-4344-9804-31fee10290f5",
        "colab": {
          "base_uri": "https://localhost:8080/",
          "height": 364
        }
      },
      "cell_type": "code",
      "source": [
        "#your input here\n",
        "examined_point=np.pi/3\n",
        "examined_value=-np.sin(examined_point)\n",
        "ns=np.arange(5,11)\n",
        "hs=1/np.power(2,ns)\n",
        "err=sfd(np.sin, examined_point, hs)-examined_value\n",
        "y=np.log2(np.abs(err))\n",
        "plt.plot(ns,y)"
      ],
      "execution_count": 0,
      "outputs": [
        {
          "output_type": "execute_result",
          "data": {
            "text/plain": [
              "[<matplotlib.lines.Line2D at 0x7f7548e645f8>]"
            ]
          },
          "metadata": {
            "tags": []
          },
          "execution_count": 10
        },
        {
          "output_type": "display_data",
          "data": {
            "image/png": "[encoded data removed]",
            "text/plain": [
              "<Figure size 576x396 with 1 Axes>"
            ]
          },
          "metadata": {
            "tags": []
          }
        }
      ]
    },
    {
      "metadata": {
        "id": "SGcLXIpJ23P3",
        "colab_type": "code",
        "outputId": "191df8ff-fd2e-4f66-d31d-bed5779d597b",
        "colab": {
          "base_uri": "https://localhost:8080/",
          "height": 34
        }
      },
      "cell_type": "code",
      "source": [
        "import scipy.stats as ss\n",
        "out = ss.linregress(ns,y)\n",
        "print('----->>>the convergence order is ' + str(-out[0]))"
      ],
      "execution_count": 0,
      "outputs": [
        {
          "output_type": "stream",
          "text": [
            "----->>>the convergence order is 2.0005977409820144\n"
          ],
          "name": "stdout"
        }
      ]
    },
    {
      "metadata": {
        "id": "d-pLo-W1wcfT",
        "colab_type": "code",
        "colab": {}
      },
      "cell_type": "code",
      "source": [
        ""
      ],
      "execution_count": 0,
      "outputs": []
    }
  ]
}