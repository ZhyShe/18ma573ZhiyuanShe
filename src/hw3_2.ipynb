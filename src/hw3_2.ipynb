{
  "nbformat": 4,
  "nbformat_minor": 0,
  "metadata": {
    "colab": {
      "name": "hw3_2.ipynb",
      "version": "0.3.2",
      "provenance": [],
      "include_colab_link": true
    },
    "kernelspec": {
      "name": "python3",
      "display_name": "Python 3"
    }
  },
  "cells": [
    {
      "cell_type": "markdown",
      "metadata": {
        "id": "view-in-github",
        "colab_type": "text"
      },
      "source": [
        "<a href=\"https://colab.research.google.com/github/ZhyShe/18ma573ZhiyuanShe/blob/master/src/hw3_2.ipynb\" target=\"_parent\"><img src=\"https://colab.research.google.com/assets/colab-badge.svg\" alt=\"Open In Colab\"/></a>"
      ]
    },
    {
      "metadata": {
        "id": "R3uJxJbwtZjp",
        "colab_type": "text"
      },
      "cell_type": "markdown",
      "source": [
        "Consider an european option with\n",
        "- call type\n",
        "- strike = 110\n",
        "- maturity = T\n",
        "underlying a Gbm stock with\n",
        "- initial: 100\n",
        "- interest rate: 4.75%\n",
        "- vol ratio: $\\sigma$\n",
        "\n",
        "We denote this bsm price by $f(\\sigma, T)$.\n",
        "\n",
        "- Let $\\sigma = 20\\%$ fixed. plot $T \\mapsto f(0.2, T)$ when $T$ is ranging over $(0.5, 2)$.\n",
        "\n",
        "- Let $T = 1$ fixed. plot $\\sigma \\mapsto f(\\sigma, 1)$ when $\\sigma$ is ranging over $(.05, 0.5)$\n",
        "\n",
        "- Describe your observations. Do you think the same behavior is also true for put?\n",
        "\n",
        "- Could you prove your observations?"
      ]
    },
    {
      "metadata": {
        "id": "0fTzWLcUtaOK",
        "colab_type": "code",
        "outputId": "fa4d65cc-0447-49e1-bd50-18df0ac80225",
        "colab": {
          "base_uri": "https://localhost:8080/",
          "height": 136
        }
      },
      "cell_type": "code",
      "source": [
        "!git clone https://github.com/ZhyShe/18ma573ZhiyuanShe"
      ],
      "execution_count": 0,
      "outputs": [
        {
          "output_type": "stream",
          "text": [
            "Cloning into '18ma573ZhiyuanShe'...\n",
            "remote: Enumerating objects: 102, done.\u001b[K\n",
            "remote: Counting objects: 100% (102/102), done.\u001b[K\n",
            "remote: Compressing objects: 100% (99/99), done.\u001b[K\n",
            "remote: Total 102 (delta 30), reused 0 (delta 0), pack-reused 0\u001b[K\n",
            "Receiving objects: 100% (102/102), 129.15 KiB | 1.05 MiB/s, done.\n",
            "Resolving deltas: 100% (30/30), done.\n"
          ],
          "name": "stdout"
        }
      ]
    },
    {
      "metadata": {
        "id": "9rlDBYRWsOT_",
        "colab_type": "code",
        "outputId": "fefef937-5a0d-438e-c5f4-151d37d07351",
        "colab": {
          "base_uri": "https://localhost:8080/",
          "height": 34
        }
      },
      "cell_type": "code",
      "source": [
        "cd /content/18ma573ZhiyuanShe/src/"
      ],
      "execution_count": 0,
      "outputs": [
        {
          "output_type": "stream",
          "text": [
            "/content/18ma573ZhiyuanShe/src\n"
          ],
          "name": "stdout"
        }
      ]
    },
    {
      "metadata": {
        "id": "_g7tsaugsZuK",
        "colab_type": "code",
        "outputId": "943c13ed-4e0a-4336-f701-3ab2244a7c98",
        "colab": {
          "base_uri": "https://localhost:8080/",
          "height": 34
        }
      },
      "cell_type": "code",
      "source": [
        "ls hw3_py.py"
      ],
      "execution_count": 0,
      "outputs": [
        {
          "output_type": "stream",
          "text": [
            "hw3_py.py\n"
          ],
          "name": "stdout"
        }
      ]
    },
    {
      "metadata": {
        "id": "x-2kGca1sv6-",
        "colab_type": "code",
        "colab": {}
      },
      "cell_type": "code",
      "source": [
        "from hw3_py import Option"
      ],
      "execution_count": 0,
      "outputs": []
    },
    {
      "metadata": {
        "id": "CEKPu9ors8XV",
        "colab_type": "code",
        "colab": {}
      },
      "cell_type": "code",
      "source": [
        ""
      ],
      "execution_count": 0,
      "outputs": []
    }
  ]
}