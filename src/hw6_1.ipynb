{
  "nbformat": 4,
  "nbformat_minor": 0,
  "metadata": {
    "colab": {
      "name": "hw6_1.ipynb",
      "version": "0.3.2",
      "provenance": [],
      "include_colab_link": true
    },
    "kernelspec": {
      "name": "python3",
      "display_name": "Python 3"
    },
    "accelerator": "GPU"
  },
  "cells": [
    {
      "cell_type": "markdown",
      "metadata": {
        "id": "view-in-github",
        "colab_type": "text"
      },
      "source": [
        "<a href=\"https://colab.research.google.com/github/ZhyShe/18ma573ZhiyuanShe/blob/master/src/hw6_1.ipynb\" target=\"_parent\"><img src=\"https://colab.research.google.com/assets/colab-badge.svg\" alt=\"Open In Colab\"/></a>"
      ]
    },
    {
      "metadata": {
        "id": "LuTHejhubIp5",
        "colab_type": "code",
        "colab": {}
      },
      "cell_type": "code",
      "source": [
        "import numpy as np\n",
        "import matplotlib.pyplot as plt\n",
        "def h(x):\n",
        "  if x>0 and x<=1/100:\n",
        "    return 100\n",
        "  else:\n",
        "    return 1\n",
        "  \n",
        "def omc_integral(n):\n",
        "  Y=np.random.uniform(0,1,n)\n",
        "  X=[]\n",
        "  for y in Y:\n",
        "    X.append(h(y))\n",
        "  X=np.mean(X)\n",
        "  return X\n",
        "N=[i for i in range(5,11)]"
      ],
      "execution_count": 0,
      "outputs": []
    },
    {
      "metadata": {
        "id": "kR3uBH2Qmz9Q",
        "colab_type": "code",
        "colab": {}
      },
      "cell_type": "code",
      "source": [
        "Alpha=[]\n",
        "for i in range(5,11):\n",
        "  alpha=[]\n",
        "  for _ in range(100):\n",
        "    alpha.append(omc_integral(2**i))\n",
        "  Alpha.append(alpha)"
      ],
      "execution_count": 0,
      "outputs": []
    },
    {
      "metadata": {
        "id": "N8ScSKzPp0hm",
        "colab_type": "code",
        "colab": {}
      },
      "cell_type": "code",
      "source": [
        "sigma=[]\n",
        "for alpha in Alpha:\n",
        "  sigma.append(np.std(alpha))"
      ],
      "execution_count": 0,
      "outputs": []
    },
    {
      "metadata": {
        "id": "8KiR64MZqGkQ",
        "colab_type": "code",
        "colab": {}
      },
      "cell_type": "code",
      "source": [
        "N=[i for i in range(5,11)]\n",
        "Y=-np.log2(sigma)"
      ],
      "execution_count": 0,
      "outputs": []
    },
    {
      "metadata": {
        "id": "uEu83ZgwsXs5",
        "colab_type": "code",
        "colab": {
          "base_uri": "https://localhost:8080/",
          "height": 347
        },
        "outputId": "f25066e8-5ab7-46a2-848d-3396f1642795"
      },
      "cell_type": "code",
      "source": [
        "plt.plot(N,Y)\n",
        "plt.show()"
      ],
      "execution_count": 5,
      "outputs": [
        {
          "output_type": "display_data",
          "data": {
            "image/png": "[encoded data removed]",
            "text/plain": [
              "<Figure size 576x396 with 1 Axes>"
            ]
          },
          "metadata": {
            "tags": []
          }
        }
      ]
    },
    {
      "metadata": {
        "id": "petKPXnktNhI",
        "colab_type": "code",
        "colab": {}
      },
      "cell_type": "code",
      "source": [
        ""
      ],
      "execution_count": 0,
      "outputs": []
    }
  ]
}