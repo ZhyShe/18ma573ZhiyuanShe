{
  "nbformat": 4,
  "nbformat_minor": 0,
  "metadata": {
    "colab": {
      "name": "hw6_1.ipynb",
      "version": "0.3.2",
      "provenance": [],
      "include_colab_link": true
    },
    "kernelspec": {
      "name": "python3",
      "display_name": "Python 3"
    },
    "accelerator": "GPU"
  },
  "cells": [
    {
      "cell_type": "markdown",
      "metadata": {
        "id": "view-in-github",
        "colab_type": "text"
      },
      "source": [
        "<a href=\"https://colab.research.google.com/github/ZhyShe/18ma573ZhiyuanShe/blob/master/src/hw6_1.ipynb\" target=\"_parent\"><img src=\"https://colab.research.google.com/assets/colab-badge.svg\" alt=\"Open In Colab\"/></a>"
      ]
    },
    {
      "metadata": {
        "id": "VbMkMN8bNziW",
        "colab_type": "text"
      },
      "cell_type": "markdown",
      "source": [
        "Now, in order to \n",
        "$$\n",
        "\\alpha=\\int_0^1 h(x)dx\n",
        "$$\n",
        "here\n",
        "$$\n",
        "h(x)=100\\cdot I_{(0,\\frac{1}{100}]}(x)+1\\cdot I_{(\\frac{1}{100},1)}(x)\n",
        "$$"
      ]
    },
    {
      "metadata": {
        "id": "LuTHejhubIp5",
        "colab_type": "code",
        "colab": {}
      },
      "cell_type": "code",
      "source": [
        "import numpy as np\n",
        "import matplotlib.pyplot as plt\n",
        "import scipy.stats as ss\n",
        "\n",
        "#-------------------------\n",
        "## Packages we need \n",
        "#-------------------------\n",
        "\n",
        "def h(x):\n",
        "  if x>0 and x<=1/100:\n",
        "    return 100\n",
        "  else:\n",
        "    return 1\n",
        "  \n",
        "def omc_integral(n):\n",
        "  Y=np.random.uniform(0,1,n)\n",
        "  X=[]\n",
        "  for y in Y:\n",
        "    X.append(h(y))\n",
        "  X=np.mean(X)\n",
        "  return X\n",
        "N=[i for i in range(5,11)]"
      ],
      "execution_count": 0,
      "outputs": []
    },
    {
      "metadata": {
        "id": "N8ScSKzPp0hm",
        "colab_type": "code",
        "colab": {}
      },
      "cell_type": "code",
      "source": [
        "sigma=[]\n",
        "for alpha in Alpha:\n",
        "  sigma.append(np.std(alpha))"
      ],
      "execution_count": 0,
      "outputs": []
    },
    {
      "metadata": {
        "id": "kR3uBH2Qmz9Q",
        "colab_type": "code",
        "colab": {}
      },
      "cell_type": "code",
      "source": [
        "Alpha=[]\n",
        "for i in range(5,10):\n",
        "  alpha=[]\n",
        "  for _ in range(100):\n",
        "    alpha.append(omc_integral(2**i))\n",
        "  Alpha.append(alpha)"
      ],
      "execution_count": 0,
      "outputs": []
    },
    {
      "metadata": {
        "id": "8KiR64MZqGkQ",
        "colab_type": "code",
        "colab": {}
      },
      "cell_type": "code",
      "source": [
        "N=[i for i in range(5,10)]\n",
        "Y=-np.log2(sigma)"
      ],
      "execution_count": 0,
      "outputs": []
    },
    {
      "metadata": {
        "id": "uEu83ZgwsXs5",
        "colab_type": "code",
        "outputId": "c31161ce-9a68-4497-f0c1-91ede10b36ed",
        "colab": {
          "base_uri": "https://localhost:8080/",
          "height": 347
        }
      },
      "cell_type": "code",
      "source": [
        "plt.plot(N,Y)\n",
        "plt.show()"
      ],
      "execution_count": 0,
      "outputs": [
        {
          "output_type": "display_data",
          "data": {
            "image/png": "[encoded data removed]",
            "text/plain": [
              "<Figure size 576x396 with 1 Axes>"
            ]
          },
          "metadata": {
            "tags": []
          }
        }
      ]
    },
    {
      "metadata": {
        "id": "A75jA0-SM2xp",
        "colab_type": "code",
        "outputId": "b53c94d9-6f77-4e91-a362-ed8637ecb79d",
        "colab": {
          "base_uri": "https://localhost:8080/",
          "height": 34
        }
      },
      "cell_type": "code",
      "source": [
        "out = ss.linregress(N,Y)\n",
        "print('----->>>the convergence order is ' + str(out[0]))"
      ],
      "execution_count": 0,
      "outputs": [
        {
          "output_type": "stream",
          "text": [
            "----->>>the convergence order is 0.4270057477295297\n"
          ],
          "name": "stdout"
        }
      ]
    }
  ]
}